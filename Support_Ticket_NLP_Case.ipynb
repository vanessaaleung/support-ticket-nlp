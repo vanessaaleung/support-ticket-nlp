{
  "nbformat": 4,
  "nbformat_minor": 0,
  "metadata": {
    "colab": {
      "name": "Support Ticket NLP Case.ipynb",
      "provenance": [],
      "collapsed_sections": [],
      "authorship_tag": "ABX9TyNn75EyV7XgOBV0Qg7LwCc0",
      "include_colab_link": true
    },
    "kernelspec": {
      "name": "python3",
      "display_name": "Python 3"
    }
  },
  "cells": [
    {
      "cell_type": "markdown",
      "metadata": {
        "id": "view-in-github",
        "colab_type": "text"
      },
      "source": [
        "<a href=\"https://colab.research.google.com/github/vanessaaleung/support-ticket-nlp/blob/master/Support_Ticket_NLP_Case.ipynb\" target=\"_parent\"><img src=\"https://colab.research.google.com/assets/colab-badge.svg\" alt=\"Open In Colab\"/></a>"
      ]
    },
    {
      "cell_type": "markdown",
      "metadata": {
        "id": "Fq8-5RbKzleW",
        "colab_type": "text"
      },
      "source": [
        "### **Support Ticket NLP Case**\n",
        "\n",
        "\n",
        "\n",
        "*   To identify the main issues in the ticket description\n",
        "*   To extract the key phrases in the ticket description\n",
        "\n"
      ]
    },
    {
      "cell_type": "code",
      "metadata": {
        "id": "S7y0wQS76SIw",
        "colab_type": "code",
        "colab": {}
      },
      "source": [
        "import pandas as pd"
      ],
      "execution_count": 0,
      "outputs": []
    },
    {
      "cell_type": "code",
      "metadata": {
        "id": "hV_BKa_etv1s",
        "colab_type": "code",
        "outputId": "e8ff9034-0a46-484c-b7ff-cd70aafcc1e3",
        "colab": {
          "base_uri": "https://localhost:8080/",
          "height": 204
        }
      },
      "source": [
        "tickets = pd.read_csv(\"https://raw.githubusercontent.com/vanessaaleung/rawdata/master/all_tickets.csv\")\n",
        "tickets.head()"
      ],
      "execution_count": 28,
      "outputs": [
        {
          "output_type": "execute_result",
          "data": {
            "text/html": [
              "<div>\n",
              "<style scoped>\n",
              "    .dataframe tbody tr th:only-of-type {\n",
              "        vertical-align: middle;\n",
              "    }\n",
              "\n",
              "    .dataframe tbody tr th {\n",
              "        vertical-align: top;\n",
              "    }\n",
              "\n",
              "    .dataframe thead th {\n",
              "        text-align: right;\n",
              "    }\n",
              "</style>\n",
              "<table border=\"1\" class=\"dataframe\">\n",
              "  <thead>\n",
              "    <tr style=\"text-align: right;\">\n",
              "      <th></th>\n",
              "      <th>title</th>\n",
              "      <th>body</th>\n",
              "      <th>ticket_type</th>\n",
              "      <th>category</th>\n",
              "      <th>sub_category1</th>\n",
              "      <th>sub_category2</th>\n",
              "      <th>business_service</th>\n",
              "      <th>urgency</th>\n",
              "      <th>impact</th>\n",
              "    </tr>\n",
              "  </thead>\n",
              "  <tbody>\n",
              "    <tr>\n",
              "      <th>0</th>\n",
              "      <td>NaN</td>\n",
              "      <td>hi since recruiter lead permission approve req...</td>\n",
              "      <td>1</td>\n",
              "      <td>4</td>\n",
              "      <td>2</td>\n",
              "      <td>21</td>\n",
              "      <td>71</td>\n",
              "      <td>3</td>\n",
              "      <td>4</td>\n",
              "    </tr>\n",
              "    <tr>\n",
              "      <th>1</th>\n",
              "      <td>connection with icon</td>\n",
              "      <td>icon dear please setup icon per icon engineers...</td>\n",
              "      <td>1</td>\n",
              "      <td>6</td>\n",
              "      <td>22</td>\n",
              "      <td>7</td>\n",
              "      <td>26</td>\n",
              "      <td>3</td>\n",
              "      <td>4</td>\n",
              "    </tr>\n",
              "    <tr>\n",
              "      <th>2</th>\n",
              "      <td>work experience user</td>\n",
              "      <td>work experience user hi work experience studen...</td>\n",
              "      <td>1</td>\n",
              "      <td>5</td>\n",
              "      <td>13</td>\n",
              "      <td>7</td>\n",
              "      <td>32</td>\n",
              "      <td>3</td>\n",
              "      <td>4</td>\n",
              "    </tr>\n",
              "    <tr>\n",
              "      <th>3</th>\n",
              "      <td>requesting for meeting</td>\n",
              "      <td>requesting meeting hi please help follow equip...</td>\n",
              "      <td>1</td>\n",
              "      <td>5</td>\n",
              "      <td>13</td>\n",
              "      <td>7</td>\n",
              "      <td>32</td>\n",
              "      <td>3</td>\n",
              "      <td>4</td>\n",
              "    </tr>\n",
              "    <tr>\n",
              "      <th>4</th>\n",
              "      <td>reset passwords for external accounts</td>\n",
              "      <td>re expire days hi ask help update passwords co...</td>\n",
              "      <td>1</td>\n",
              "      <td>4</td>\n",
              "      <td>2</td>\n",
              "      <td>76</td>\n",
              "      <td>4</td>\n",
              "      <td>3</td>\n",
              "      <td>4</td>\n",
              "    </tr>\n",
              "  </tbody>\n",
              "</table>\n",
              "</div>"
            ],
            "text/plain": [
              "                                   title  ... impact\n",
              "0                                    NaN  ...      4\n",
              "1                   connection with icon  ...      4\n",
              "2                   work experience user  ...      4\n",
              "3                 requesting for meeting  ...      4\n",
              "4  reset passwords for external accounts  ...      4\n",
              "\n",
              "[5 rows x 9 columns]"
            ]
          },
          "metadata": {
            "tags": []
          },
          "execution_count": 28
        }
      ]
    },
    {
      "cell_type": "markdown",
      "metadata": {
        "id": "miFGTs1v0Ndw",
        "colab_type": "text"
      },
      "source": [
        "#### **Topic Modeling**\n",
        "\n",
        "To identify the main issues in the ticket description"
      ]
    },
    {
      "cell_type": "code",
      "metadata": {
        "id": "hELk47pB4YKs",
        "colab_type": "code",
        "outputId": "8e78add1-2f0a-4d42-dc1c-4e63228fb975",
        "colab": {
          "base_uri": "https://localhost:8080/",
          "height": 408
        }
      },
      "source": [
        "import re\n",
        "import numpy as np\n",
        "import pandas as pd\n",
        "from pprint import pprint\n",
        "\n",
        "import gensim\n",
        "import gensim.corpora as corpora\n",
        "from gensim.utils import simple_preprocess\n",
        "from gensim.models import CoherenceModel\n",
        "\n",
        "import spacy\n",
        "\n",
        "import nltk\n",
        "from nltk.corpus import stopwords\n",
        "nltk.download('stopwords')\n",
        "stop_words = stopwords.words('english')\n",
        "\n",
        "!pip3 install pyLDAvis\n",
        "import pyLDAvis\n",
        "import pyLDAvis.gensim\n",
        "import matplotlib.pyplot as plt\n",
        "%matplotlib inline\n",
        "\n",
        "import warnings\n",
        "warnings.filterwarnings(\"ignore\",category=DeprecationWarning)"
      ],
      "execution_count": 29,
      "outputs": [
        {
          "output_type": "stream",
          "text": [
            "[nltk_data] Downloading package stopwords to /root/nltk_data...\n",
            "[nltk_data]   Package stopwords is already up-to-date!\n",
            "Requirement already satisfied: pyLDAvis in /usr/local/lib/python3.6/dist-packages (2.1.2)\n",
            "Requirement already satisfied: scipy>=0.18.0 in /usr/local/lib/python3.6/dist-packages (from pyLDAvis) (1.4.1)\n",
            "Requirement already satisfied: pytest in /usr/local/lib/python3.6/dist-packages (from pyLDAvis) (3.6.4)\n",
            "Requirement already satisfied: numpy>=1.9.2 in /usr/local/lib/python3.6/dist-packages (from pyLDAvis) (1.18.4)\n",
            "Requirement already satisfied: funcy in /usr/local/lib/python3.6/dist-packages (from pyLDAvis) (1.14)\n",
            "Requirement already satisfied: numexpr in /usr/local/lib/python3.6/dist-packages (from pyLDAvis) (2.7.1)\n",
            "Requirement already satisfied: jinja2>=2.7.2 in /usr/local/lib/python3.6/dist-packages (from pyLDAvis) (2.11.2)\n",
            "Requirement already satisfied: joblib>=0.8.4 in /usr/local/lib/python3.6/dist-packages (from pyLDAvis) (0.15.0)\n",
            "Requirement already satisfied: wheel>=0.23.0 in /usr/local/lib/python3.6/dist-packages (from pyLDAvis) (0.34.2)\n",
            "Requirement already satisfied: future in /usr/local/lib/python3.6/dist-packages (from pyLDAvis) (0.16.0)\n",
            "Requirement already satisfied: pandas>=0.17.0 in /usr/local/lib/python3.6/dist-packages (from pyLDAvis) (1.0.3)\n",
            "Requirement already satisfied: setuptools in /usr/local/lib/python3.6/dist-packages (from pytest->pyLDAvis) (46.3.0)\n",
            "Requirement already satisfied: more-itertools>=4.0.0 in /usr/local/lib/python3.6/dist-packages (from pytest->pyLDAvis) (8.2.0)\n",
            "Requirement already satisfied: pluggy<0.8,>=0.5 in /usr/local/lib/python3.6/dist-packages (from pytest->pyLDAvis) (0.7.1)\n",
            "Requirement already satisfied: atomicwrites>=1.0 in /usr/local/lib/python3.6/dist-packages (from pytest->pyLDAvis) (1.4.0)\n",
            "Requirement already satisfied: py>=1.5.0 in /usr/local/lib/python3.6/dist-packages (from pytest->pyLDAvis) (1.8.1)\n",
            "Requirement already satisfied: attrs>=17.4.0 in /usr/local/lib/python3.6/dist-packages (from pytest->pyLDAvis) (19.3.0)\n",
            "Requirement already satisfied: six>=1.10.0 in /usr/local/lib/python3.6/dist-packages (from pytest->pyLDAvis) (1.12.0)\n",
            "Requirement already satisfied: MarkupSafe>=0.23 in /usr/local/lib/python3.6/dist-packages (from jinja2>=2.7.2->pyLDAvis) (1.1.1)\n",
            "Requirement already satisfied: pytz>=2017.2 in /usr/local/lib/python3.6/dist-packages (from pandas>=0.17.0->pyLDAvis) (2018.9)\n",
            "Requirement already satisfied: python-dateutil>=2.6.1 in /usr/local/lib/python3.6/dist-packages (from pandas>=0.17.0->pyLDAvis) (2.8.1)\n"
          ],
          "name": "stdout"
        }
      ]
    },
    {
      "cell_type": "code",
      "metadata": {
        "id": "_SN8a6g40RZ_",
        "colab_type": "code",
        "outputId": "c15ff273-ba0d-46ff-d7f2-537a9ec0fe06",
        "colab": {
          "base_uri": "https://localhost:8080/",
          "height": 34
        }
      },
      "source": [
        "documents = tickets.loc[:, 'body'].tolist()\n",
        "len(documents)"
      ],
      "execution_count": 30,
      "outputs": [
        {
          "output_type": "execute_result",
          "data": {
            "text/plain": [
              "48549"
            ]
          },
          "metadata": {
            "tags": []
          },
          "execution_count": 30
        }
      ]
    },
    {
      "cell_type": "code",
      "metadata": {
        "id": "rP8gP_ae0PwM",
        "colab_type": "code",
        "outputId": "e41fa88f-1a27-4246-f1a1-b4605959aecb",
        "colab": {
          "base_uri": "https://localhost:8080/",
          "height": 68
        }
      },
      "source": [
        "# convert descriptions into a list of tokens\n",
        "tokens = [gensim.utils.simple_preprocess(one_document, deacc=True) for one_document in documents]\n",
        "\n",
        "for token in tokens[:3]:\n",
        "  print(token)"
      ],
      "execution_count": 31,
      "outputs": [
        {
          "output_type": "stream",
          "text": [
            "['hi', 'since', 'recruiter', 'lead', 'permission', 'approve', 'requisitions', 'makes', 'please', 'make', 'thanks', 'recruiter']\n",
            "['icon', 'dear', 'please', 'setup', 'icon', 'per', 'icon', 'engineers', 'please', 'let', 'other', 'details', 'needed', 'thanks', 'lead']\n",
            "['work', 'experience', 'user', 'hi', 'work', 'experience', 'student', 'coming', 'next', 'his', 'name', 'much', 'appreciate', 'him', 'duration', 'thank']\n"
          ],
          "name": "stdout"
        }
      ]
    },
    {
      "cell_type": "code",
      "metadata": {
        "id": "AA4cGecdbt-I",
        "colab_type": "code",
        "outputId": "e370a165-0426-4ba0-cd99-be50803a2953",
        "colab": {
          "base_uri": "https://localhost:8080/",
          "height": 88
        }
      },
      "source": [
        "# build the bigram model to find frequently co-occurring tokens\n",
        "bigram = gensim.models.Phrases(tokens, min_count=5, threshold=100)\n",
        "bigram_mod = gensim.models.phrases.Phraser(bigram)\n",
        "\n",
        "for token in tokens[:3]:\n",
        "  print(bigram_mod[token])"
      ],
      "execution_count": 0,
      "outputs": [
        {
          "output_type": "stream",
          "text": [
            "['hi', 'since', 'recruiter', 'lead', 'permission', 'approve', 'requisitions', 'makes', 'please', 'make', 'thanks', 'recruiter']\n",
            "['icon', 'dear', 'please', 'setup', 'icon', 'per', 'icon', 'engineers', 'please', 'let', 'other', 'details', 'needed', 'thanks', 'lead']\n",
            "['work', 'experience', 'user', 'hi', 'work', 'experience', 'student', 'coming', 'next', 'his', 'name', 'much', 'appreciate', 'him', 'duration', 'thank']\n"
          ],
          "name": "stdout"
        }
      ]
    },
    {
      "cell_type": "code",
      "metadata": {
        "id": "-5aWvW5h4Noa",
        "colab_type": "code",
        "colab": {}
      },
      "source": [
        "def remove_stopwords(texts):\n",
        "    return [[word for word in simple_preprocess(str(doc)) if word not in stop_words] for doc in texts]\n",
        "\n",
        "def make_bigrams(texts):\n",
        "    return [bigram_mod[doc] for doc in texts]\n",
        "\n",
        "def lemmatize(texts, allowed_postags=['NOUN', 'ADJ', 'VERB', 'ADV']):\n",
        "    texts_out = []\n",
        "    for sent in texts:\n",
        "        doc = nlp(\" \".join(sent)) \n",
        "        texts_out.append([token.lemma_ for token in doc if token.pos_ in allowed_postags])\n",
        "    return texts_out"
      ],
      "execution_count": 0,
      "outputs": []
    },
    {
      "cell_type": "code",
      "metadata": {
        "id": "IAu6IFZn2gpl",
        "colab_type": "code",
        "outputId": "865ab2ac-2696-406e-824c-417876229f1c",
        "colab": {
          "base_uri": "https://localhost:8080/",
          "height": 88
        }
      },
      "source": [
        "tokens_rm_stopwords = remove_stopwords(tokens)\n",
        "tokens_bigrams = make_bigrams(tokens_rm_stopwords)\n",
        "\n",
        "nlp = spacy.load('en', disable=['parser', 'ner'])\n",
        "\n",
        "tokens_lemmatized = lemmatize(tokens_bigrams, allowed_postags=['NOUN', 'ADJ', 'VERB', 'ADV'])\n",
        "\n",
        "for token in tokens_lemmatized[:3]:\n",
        "  print(token)"
      ],
      "execution_count": 0,
      "outputs": [
        {
          "output_type": "stream",
          "text": [
            "['recruiter', 'lead', 'permission', 'approve', 'requisition', 'make', 'make', 'thank', 'recruiter']\n",
            "['icon', 'dear', 'setup', 'icon', 'icon', 'engineer', 'let', 'detail', 'need', 'thank', 'lead']\n",
            "['work', 'experience', 'user', 'work', 'experience', 'student', 'come', 'next', 'name', 'much', 'appreciate', 'duration', 'thank']\n"
          ],
          "name": "stdout"
        }
      ]
    },
    {
      "cell_type": "code",
      "metadata": {
        "id": "g_Ua9Foy0xsq",
        "colab_type": "code",
        "outputId": "9b37c32d-3c19-40aa-ccd2-4cca39815075",
        "colab": {
          "base_uri": "https://localhost:8080/",
          "height": 88
        }
      },
      "source": [
        "# create the dictionary and corpus for LDA topic modeling\n",
        "id2word = corpora.Dictionary(tokens_lemmatized)\n",
        "\n",
        "corpus = [id2word.doc2bow(text) for text in tokens_lemmatized]\n",
        "\n",
        "for sentence in corpus[:3]:\n",
        "  print([(id2word[word_id], word_freq) for (word_id, word_freq) in sentence])"
      ],
      "execution_count": 0,
      "outputs": [
        {
          "output_type": "stream",
          "text": [
            "[('approve', 1), ('lead', 1), ('make', 2), ('permission', 1), ('recruiter', 2), ('requisition', 1), ('thank', 1)]\n",
            "[('lead', 1), ('thank', 1), ('dear', 1), ('detail', 1), ('engineer', 1), ('icon', 3), ('let', 1), ('need', 1), ('setup', 1)]\n",
            "[('thank', 1), ('appreciate', 1), ('come', 1), ('duration', 1), ('experience', 2), ('much', 1), ('name', 1), ('next', 1), ('student', 1), ('user', 1), ('work', 2)]\n"
          ],
          "name": "stdout"
        }
      ]
    },
    {
      "cell_type": "markdown",
      "metadata": {
        "id": "QOlSlSEAnhdw",
        "colab_type": "text"
      },
      "source": [
        "Find the optimal number of topics"
      ]
    },
    {
      "cell_type": "code",
      "metadata": {
        "id": "BUKOw-Uwl_1w",
        "colab_type": "code",
        "colab": {}
      },
      "source": [
        "def compute_coherence_values(dictionary, corpus, texts, limit, start=2, step=3):\n",
        "    coherence_values = []\n",
        "    model_list = []\n",
        "    for num_topics in range(start, limit, step):\n",
        "        model = gensim.models.ldamodel.LdaModel(corpus=corpus,\n",
        "                                           id2word=id2word,\n",
        "                                           num_topics=num_topics, \n",
        "                                           random_state=0)\n",
        "        model_list.append(model)\n",
        "        coherencemodel = CoherenceModel(model=model, texts=texts, dictionary=dictionary, coherence='c_v')\n",
        "        coherence_values.append(coherencemodel.get_coherence())\n",
        "\n",
        "    return model_list, coherence_values"
      ],
      "execution_count": 0,
      "outputs": []
    },
    {
      "cell_type": "code",
      "metadata": {
        "id": "xsU_otopmDK0",
        "colab_type": "code",
        "colab": {}
      },
      "source": [
        "model_list, coherence_values = compute_coherence_values(dictionary=id2word, corpus=corpus, texts=tokens_lemmatized, start=2, limit=40, step=6)"
      ],
      "execution_count": 0,
      "outputs": []
    },
    {
      "cell_type": "code",
      "metadata": {
        "id": "JNZ7uX_-mEuH",
        "colab_type": "code",
        "outputId": "ca5dfebd-f68d-40df-adc7-4920196a742c",
        "colab": {
          "base_uri": "https://localhost:8080/",
          "height": 279
        }
      },
      "source": [
        "limit=40\n",
        "start=2\n",
        "step=6\n",
        "x = range(start, limit, step)\n",
        "\n",
        "fig = plt.figure()\n",
        "ax = fig.add_subplot(111)\n",
        "plt.plot(x, coherence_values)\n",
        "for i,j in zip(x,coherence_values):\n",
        "    ax.annotate(round(j, 2),xy=(i,j))\n",
        "plt.xlabel(\"# topics\")\n",
        "plt.ylabel(\"Coherence Score\")\n",
        "plt.show()"
      ],
      "execution_count": 0,
      "outputs": [
        {
          "output_type": "display_data",
          "data": {
            "image/png": "[encoded data removed]",
            "text/plain": [
              "<Figure size 432x288 with 1 Axes>"
            ]
          },
          "metadata": {
            "tags": [],
            "needs_background": "light"
          }
        }
      ]
    },
    {
      "cell_type": "code",
      "metadata": {
        "id": "2Q-CsXMZ5kaz",
        "colab_type": "code",
        "outputId": "9b18f745-622a-4adc-c831-62e1e275c2a9",
        "colab": {
          "base_uri": "https://localhost:8080/",
          "height": 697
        }
      },
      "source": [
        "# build the LDA model\n",
        "num_topics = 10\n",
        "\n",
        "lda_model = gensim.models.ldamodel.LdaModel(corpus=corpus,\n",
        "                                           id2word=id2word,\n",
        "                                           num_topics=num_topics, \n",
        "                                           random_state=0)\n",
        "pprint(lda_model.print_topics())"
      ],
      "execution_count": 0,
      "outputs": [
        {
          "output_type": "stream",
          "text": [
            "[(0,\n",
            "  '0.162*\"send\" + 0.016*\"access\" + 0.016*\"would\" + 0.014*\"issue\" + '\n",
            "  '0.013*\"follow\" + 0.012*\"contact\" + 0.012*\"thank\" + 0.012*\"error\" + '\n",
            "  '0.011*\"check\" + 0.011*\"could\"'),\n",
            " (1,\n",
            "  '0.077*\"form\" + 0.051*\"message\" + 0.045*\"officer\" + 0.042*\"date\" + '\n",
            "  '0.042*\"thank\" + 0.040*\"attach\" + 0.033*\"fill\" + 0.029*\"leaver\" + '\n",
            "  '0.029*\"starter\" + 0.027*\"find\"'),\n",
            " (2,\n",
            "  '0.035*\"thank\" + 0.033*\"regard\" + 0.030*\"add\" + 0.027*\"detail\" + '\n",
            "  '0.023*\"assign\" + 0.021*\"name\" + 0.021*\"ticket\" + 0.020*\"confluence\" + '\n",
            "  '0.020*\"request\" + 0.015*\"task\"'),\n",
            " (3,\n",
            "  '0.053*\"error\" + 0.038*\"submit\" + 0.036*\"card\" + 0.031*\"thank\" + '\n",
            "  '0.031*\"leave\" + 0.026*\"try\" + 0.023*\"issue\" + 0.023*\"day\" + 0.022*\"manager\" '\n",
            "  '+ 0.021*\"could\"'),\n",
            " (4,\n",
            "  '0.079*\"report\" + 0.065*\"approval\" + 0.033*\"action\" + 0.027*\"expense\" + '\n",
            "  '0.026*\"line\" + 0.020*\"number\" + 0.016*\"ca\" + 0.015*\"require\" + 0.014*\"date\" '\n",
            "  '+ 0.013*\"information\"'),\n",
            " (5,\n",
            "  '0.038*\"access\" + 0.032*\"password\" + 0.027*\"use\" + 0.021*\"user\" + '\n",
            "  '0.020*\"thank\" + 0.019*\"regard\" + 0.017*\"issue\" + 0.016*\"create\" + '\n",
            "  '0.015*\"job\" + 0.015*\"site\"'),\n",
            " (6,\n",
            "  '0.068*\"thank\" + 0.035*\"regard\" + 0.025*\"dear\" + 0.023*\"help\" + '\n",
            "  '0.022*\"license\" + 0.022*\"senior\" + 0.019*\"mailbox\" + 0.015*\"head\" + '\n",
            "  '0.015*\"credential\" + 0.014*\"discipline\"'),\n",
            " (7,\n",
            "  '0.047*\"thank\" + 0.044*\"regard\" + 0.031*\"engineer\" + 0.028*\"access\" + '\n",
            "  '0.027*\"senior\" + 0.024*\"ticket\" + 0.019*\"log\" + 0.019*\"could\" + '\n",
            "  '0.018*\"good\" + 0.017*\"issue\"'),\n",
            " (8,\n",
            "  '0.031*\"issue\" + 0.027*\"thank\" + 0.022*\"work\" + 0.018*\"know\" + '\n",
            "  '0.018*\"regard\" + 0.017*\"need\" + 0.017*\"update\" + 0.016*\"use\" + '\n",
            "  '0.014*\"problem\" + 0.013*\"try\"'),\n",
            " (9,\n",
            "  '0.064*\"administrator\" + 0.055*\"phone\" + 0.052*\"log\" + 0.048*\"purchase\" + '\n",
            "  '0.043*\"order\" + 0.039*\"item\" + 0.034*\"device\" + 0.034*\"receive\" + '\n",
            "  '0.033*\"regard\" + 0.032*\"section\"')]\n"
          ],
          "name": "stdout"
        }
      ]
    },
    {
      "cell_type": "code",
      "metadata": {
        "id": "KWPl4xsQ7vA2",
        "colab_type": "code",
        "outputId": "95b41174-9dee-4d43-ccd2-46222d384ed9",
        "colab": {
          "base_uri": "https://localhost:8080/",
          "height": 881
        }
      },
      "source": [
        "pyLDAvis.enable_notebook()\n",
        "vis = pyLDAvis.gensim.prepare(lda_model, corpus, id2word)\n",
        "vis"
      ],
      "execution_count": 0,
      "outputs": [
        {
          "output_type": "execute_result",
          "data": {
            "text/html": [
              "\n",
              "<link rel=\"stylesheet\" type=\"text/css\" href=\"https://cdn.rawgit.com/bmabey/pyLDAvis/files/ldavis.v1.0.0.css\">\n",
              "\n",
              "\n",
              "<div id=\"ldavis_el1281405094016881289982407972\"></div>\n",
              "<script type=\"text/javascript\">\n",
              "\n",
              "var ldavis_el1281405094016881289982407972_data = {\"mdsDat\": {\"x\": [0.1225704264504412, 0.148046654784093, 0.007426012036166407, -0.017430710170090923, 0.10805256304336502, 0.07366349701997468, -0.03913907463484361, 0.06282555239949034, -0.11219956114953715, -0.3538153597790587], \"y\": [-0.00963894957426774, -0.08621865765903668, 0.072603064530207, -0.012591820833031203, -0.0909819991836288, 0.01912882722892764, 0.17163067735353515, -0.12142825442885029, 0.23300862456389043, -0.17551151199774578], \"topics\": [1, 2, 3, 4, 5, 6, 7, 8, 9, 10], \"cluster\": [1, 1, 1, 1, 1, 1, 1, 1, 1, 1], \"Freq\": [19.56702995300293, 14.225423812866211, 12.421255111694336, 9.379756927490234, 9.240641593933105, 8.556943893432617, 8.516135215759277, 6.853246688842773, 6.190266132354736, 5.049306392669678]}, \"tinfo\": {\"Term\": [\"send\", \"report\", \"form\", \"approval\", \"error\", \"administrator\", \"message\", \"phone\", \"log\", \"submit\", \"card\", \"use\", \"officer\", \"date\", \"purchase\", \"access\", \"thank\", \"order\", \"password\", \"leave\", \"attach\", \"senior\", \"item\", \"ticket\", \"mailbox\", \"action\", \"regard\", \"receive\", \"fill\", \"engineer\", \"setting\", \"fact\", \"contract\", \"blank\", \"sow\", \"claim\", \"whenever\", \"repair\", \"crash\", \"success\", \"potential\", \"problematic\", \"normally\", \"internship\", \"remotely\", \"poor\", \"federation\", \"luck\", \"finding\", \"noticed\", \"debug\", \"archive\", \"signing\", \"counsel\", \"obtain\", \"virtual\", \"inconvenience\", \"binary\", \"virtual_machine\", \"operate\", \"end\", \"sign\", \"much_appreciate\", \"sale\", \"unavailable\", \"environment\", \"project\", \"freeze\", \"lock\", \"disconnect\", \"away\", \"know\", \"move\", \"several\", \"input\", \"update\", \"put\", \"confirm\", \"work\", \"month\", \"use\", \"urgent\", \"properly\", \"run\", \"asap\", \"issue\", \"last\", \"happen\", \"problem\", \"need\", \"point\", \"start\", \"screen\", \"connect\", \"call\", \"client\", \"fix\", \"try\", \"go\", \"let\", \"get\", \"thank\", \"today\", \"also\", \"regard\", \"help\", \"test\", \"set\", \"seem\", \"kind\", \"can\", \"attach\", \"could\", \"access\", \"advise\", \"make\", \"manager\", \"send\", \"datum\", \"survey\", \"recipient\", \"warning\", \"requisition\", \"escalate\", \"undeliverable\", \"warn\", \"space\", \"specific\", \"provider\", \"career\", \"diagnostic\", \"disappear\", \"icon\", \"score\", \"reproduce\", \"breach\", \"demand\", \"registered\", \"mon\", \"problem_continues\", \"consequence\", \"operation\", \"repeat\", \"announce\", \"suspect\", \"method\", \"trace\", \"fusion\", \"tape\", \"prevent\", \"opening\", \"meeting_room\", \"direct\", \"search\", \"feedback\", \"contact\", \"customer\", \"upgrade\", \"event\", \"fail\", \"would\", \"slow\", \"click\", \"content\", \"file\", \"result\", \"deliver\", \"open\", \"follow\", \"step\", \"server\", \"notification\", \"check\", \"information\", \"select\", \"address\", \"access\", \"message\", \"error\", \"receive\", \"manager\", \"issue\", \"could\", \"find\", \"task\", \"thank\", \"look\", \"change\", \"can\", \"regard\", \"application\", \"approve\", \"ledger\", \"small\", \"busy\", \"resolver_resolution\", \"strange\", \"afraid\", \"scan\", \"capture\", \"row\", \"convert\", \"random\", \"severity\", \"unclear\", \"blocker\", \"clients_regularly\", \"recur\", \"tutorial\", \"tray\", \"operational\", \"mileage\", \"confusing\", \"scheme\", \"recreate\", \"printer\", \"quota\", \"track_progress\", \"confluence\", \"pattern\", \"loose\", \"apple_apple\", \"snow\", \"column\", \"ceremonie\", \"owner\", \"summary\", \"category\", \"fuze\", \"situation\", \"duplicate\", \"bug\", \"assignment\", \"collaboration\", \"assign\", \"reference\", \"comment\", \"detail\", \"name\", \"add\", \"correct\", \"folder\", \"description\", \"member\", \"location\", \"task\", \"ticket\", \"list\", \"share\", \"request\", \"appropriate\", \"hub\", \"incident\", \"analyst\", \"regard\", \"create\", \"code\", \"thank\", \"site\", \"advise\", \"number\", \"kind\", \"let\", \"access\", \"change\", \"good\", \"log\", \"need\", \"alarm\", \"visitor\", \"battery\", \"poll\", \"traffic\", \"pretty\", \"badge\", \"intermittent\", \"forbid\", \"plug\", \"charger\", \"false\", \"wonderful\", \"district\", \"partition\", \"approximately\", \"journal\", \"continuously\", \"socket\", \"escalation\", \"around\", \"camera\", \"rebuild\", \"updated\", \"sonar\", \"temp\", \"validation\", \"resume\", \"restriction\", \"destination\", \"guest\", \"port\", \"uploaded\", \"block\", \"floor\", \"cable\", \"color\", \"install\", \"asset\", \"software\", \"monitor\", \"engineer\", \"page\", \"technician\", \"senior\", \"ticket\", \"developer\", \"still\", \"incident\", \"connect\", \"queue\", \"connection\", \"resource\", \"print\", \"regard\", \"access\", \"good\", \"thank\", \"instal\", \"log\", \"laptop\", \"could\", \"consultant\", \"problem\", \"help\", \"tester\", \"issue\", \"work\", \"want\", \"request\", \"assign\", \"please\", \"kind\", \"provide\", \"phone\", \"need\", \"card\", \"timecard\", \"annual\", \"entry\", \"eel\", \"article\", \"identification_count\", \"count_bad\", \"estimated_lifespan\", \"disk\", \"corrective_action\", \"resubmit\", \"cards_statuse\", \"passed_entere\", \"entered_saved\", \"accordingly_resubmit\", \"nomination\", \"submitting\", \"station\", \"lately\", \"weird\", \"water\", \"interview\", \"overdue\", \"telephone\", \"entered\", \"elevator\", \"unusable\", \"wrongly\", \"ny\", \"withdraw\", \"sheet\", \"approver\", \"reject\", \"day\", \"expire\", \"door\", \"submit\", \"enter\", \"vacation\", \"leave\", \"error\", \"hour\", \"period\", \"special\", \"week\", \"absence\", \"holiday\", \"save\", \"delete\", \"approve\", \"try\", \"status\", \"still\", \"button\", \"manager\", \"could\", \"get\", \"change\", \"issue\", \"please\", \"thank\", \"help\", \"request\", \"can\", \"problem\", \"regard\", \"dear\", \"receive\", \"portal\", \"persist\", \"integration\", \"yellow\", \"fault\", \"welcome\", \"designer\", \"guideline\", \"sync\", \"slave\", \"succeed\", \"character\", \"extra\", \"functional\", \"repository\", \"combination\", \"secondary\", \"chrome\", \"graduate\", \"afterwards\", \"surname\", \"throw\", \"creative\", \"loading\", \"framework\", \"suddenly\", \"library\", \"git\", \"impossible\", \"kick\", \"job\", \"failure\", \"password\", \"certificate\", \"attempt\", \"pipeline\", \"authentication\", \"directory\", \"reset\", \"interface\", \"forecast\", \"user\", \"ad\", \"deny\", \"active\", \"recovery\", \"permission\", \"group\", \"use\", \"link\", \"access\", \"write\", \"site\", \"post\", \"level\", \"create\", \"source\", \"right\", \"can\", \"client\", \"issue\", \"try\", \"regard\", \"thank\", \"log\", \"old\", \"could\", \"good\", \"engineer\", \"please\", \"help\", \"application\", \"assistant\", \"expenditure\", \"behavior\", \"true\", \"mb_mb\", \"protection\", \"reactivate\", \"size_maximum\", \"kingdom\", \"forecasting\", \"enclosure\", \"conf\", \"candidate\", \"complain\", \"nexus\", \"referral\", \"renew\", \"la\", \"exclude\", \"invoke\", \"forwarded\", \"rare\", \"redirection\", \"lady\", \"roam\", \"essential\", \"license\", \"grade\", \"cal\", \"variable\", \"ownership\", \"opportunity\", \"size\", \"testing\", \"discipline\", \"replicate\", \"increase\", \"reduce\", \"whose_registere\", \"head\", \"join\", \"credential\", \"specialist\", \"architect\", \"intern\", \"mailbox\", \"tester\", \"lead\", \"test\", \"dear\", \"senior\", \"mob\", \"thank\", \"tower\", \"developer\", \"help\", \"regard\", \"provide\", \"colleague\", \"account\", \"create\", \"need\", \"analyst\", \"add\", \"change\", \"good\", \"kind\", \"item\", \"attach\", \"line\", \"expense\", \"subsidiaries_separate\", \"explorer\", \"quiz\", \"receiving\", \"complaint\", \"opinions_expresse\", \"disclosure_copying\", \"privileged_intende\", \"part_established\", \"outage\", \"training_material\", \"confidential_legally\", \"connector\", \"activation\", \"whose_registered\", \"unlawful\", \"reimbursement\", \"auditor\", \"boot\", \"record_otherwise\", \"entity_act\", \"maven\", \"changed\", \"sick\", \"die\", \"conduct\", \"individually\", \"receptionist\", \"approval\", \"pende\", \"flight\", \"tool_decision\", \"together_example\", \"tool_collaboration\", \"direct_report\", \"report\", \"pot\", \"reassign\", \"liability\", \"ca\", \"action\", \"total\", \"entity\", \"idea\", \"register\", \"amount\", \"breakdown\", \"person\", \"past\", \"require\", \"number\", \"care\", \"information\", \"site\", \"date\", \"client\", \"manager\", \"approve\", \"submit\", \"process\", \"help\", \"thank\", \"work\", \"possible\", \"get\", \"receive\", \"regard\", \"leaver\", \"administration\", \"puma\", \"rd_party\", \"posting\", \"token\", \"enclose\", \"ribbon\", \"panic\", \"paternity\", \"works_fine\", \"fulfil\", \"stash\", \"fill_enclose\", \"totally\", \"skip\", \"seat\", \"excuse\", \"abroad\", \"induction\", \"assist_completion\", \"suite\", \"fill\", \"ulterior\", \"transfer\", \"sprint\", \"termination\", \"leed\", \"extension_leaving\", \"detected_change\", \"form\", \"automatic\", \"bulk\", \"starter\", \"backlog\", \"pre\", \"bench\", \"contractor\", \"officer\", \"message\", \"rejection\", \"full\", \"return\", \"date\", \"complete\", \"incoming\", \"attach\", \"mailbox\", \"subscription\", \"setup\", \"find\", \"maternity\", \"note\", \"code\", \"thank\", \"leave\", \"regard\", \"location\", \"name\", \"mobile\", \"account\", \"pm\", \"receive\", \"analyst\", \"ticket\", \"help\", \"need\", \"detail\", \"allowance\", \"glass\", \"scroll\", \"defect\", \"video\", \"decline\", \"allocation\", \"logging\", \"take_consideration\", \"section\", \"item_ordered\", \"mandatory_receipts\", \"basically\", \"basic\", \"broken\", \"flash\", \"apple\", \"headphone\", \"following\", \"mini\", \"slowly\", \"verification\", \"requisition_implemente\", \"tick\", \"warranty\", \"min\", \"carry\", \"aforementioned\", \"frequency\", \"fan\", \"administrator\", \"purchase\", \"black\", \"po\", \"flicker\", \"mouse\", \"device\", \"phone\", \"installation\", \"tv\", \"item\", \"supplier\", \"order\", \"voice\", \"receipt\", \"break\", \"log\", \"pro\", \"receive\", \"mobile\", \"please\", \"keyboard\", \"kind\", \"regard\", \"dear\", \"request\", \"thank\", \"wireless\", \"user\", \"number\", \"could\"], \"Freq\": [27050.0, 7091.0, 5829.0, 5469.0, 9032.0, 3822.0, 6330.0, 4618.0, 9648.0, 4907.0, 3902.0, 6540.0, 5269.0, 6039.0, 2876.0, 13397.0, 35682.0, 4452.0, 3348.0, 4889.0, 6822.0, 6075.0, 3561.0, 6820.0, 3643.0, 3900.0, 26038.0, 6508.0, 2451.0, 5746.0, 500.19775390625, 426.7591857910156, 1171.252197265625, 260.6109313964844, 175.86151123046875, 162.28305053710938, 145.44601440429688, 140.96226501464844, 194.16758728027344, 150.22348022460938, 130.4889373779297, 97.87400817871094, 134.47567749023438, 132.172607421875, 187.43214416503906, 83.4411849975586, 82.57061004638672, 84.2706069946289, 79.24125671386719, 78.01798248291016, 75.74410247802734, 297.6996154785156, 74.44505310058594, 76.56348419189453, 137.9496612548828, 86.26731872558594, 79.28544616699219, 71.57918548583984, 68.09784698486328, 93.61702728271484, 1145.33544921875, 901.2285766601562, 132.9829864501953, 180.96234130859375, 298.713134765625, 534.2877197265625, 1023.5010986328125, 130.0291748046875, 598.786865234375, 166.1949920654297, 106.81043243408203, 4173.26513671875, 673.9564819335938, 411.85595703125, 319.1535339355469, 3862.168701171875, 403.3067626953125, 753.6024169921875, 5145.13134765625, 825.7911376953125, 3668.46337890625, 788.3115844726562, 586.89208984375, 1080.9847412109375, 326.9646301269531, 7136.4658203125, 861.8563232421875, 870.5477905273438, 3269.566650390625, 4015.81103515625, 504.4277648925781, 1528.261474609375, 1439.986572265625, 1729.489501953125, 1556.489501953125, 2171.607666015625, 1316.81787109375, 3055.67236328125, 1396.4495849609375, 2285.244873046875, 2020.0709228515625, 6317.9189453125, 1170.2220458984375, 1776.9853515625, 4136.03173828125, 2324.49072265625, 1253.43896484375, 1192.6270751953125, 1173.752685546875, 1507.2760009765625, 1267.2236328125, 1308.4356689453125, 1365.3408203125, 1273.666259765625, 1222.4803466796875, 1191.1964111328125, 1191.9649658203125, 27049.181640625, 922.3781127929688, 444.8067626953125, 244.9379119873047, 227.27171325683594, 567.9432983398438, 262.96307373046875, 180.11672973632812, 174.78810119628906, 514.2726440429688, 169.34422302246094, 177.91038513183594, 171.19442749023438, 148.94346618652344, 149.51284790039062, 211.32733154296875, 162.7433624267578, 102.02942657470703, 96.51587677001953, 105.68386840820312, 74.25704193115234, 74.44218444824219, 66.677490234375, 66.22518157958984, 240.05555725097656, 62.99456024169922, 79.3603744506836, 60.63707733154297, 62.18967819213867, 53.99977111816406, 723.546142578125, 194.26614379882812, 130.39816284179688, 98.48292541503906, 179.0511932373047, 263.0690002441406, 668.2742309570312, 541.2899780273438, 2031.2432861328125, 529.3170776367188, 626.8502197265625, 700.5448608398438, 1243.794189453125, 2635.192626953125, 272.43865966796875, 915.7191772460938, 651.7467651367188, 1582.2430419921875, 492.86981201171875, 291.9345703125, 1589.056396484375, 2119.21044921875, 867.846923828125, 1699.1650390625, 772.2891235351562, 1825.7413330078125, 1569.8604736328125, 647.5938720703125, 997.947265625, 2754.4375, 1707.875732421875, 1978.7723388671875, 1529.8680419921875, 1671.0684814453125, 2337.8408203125, 1779.8675537109375, 1209.9625244140625, 966.5389404296875, 2014.1953125, 900.087646484375, 1085.811767578125, 1006.2133178710938, 1283.12744140625, 899.5816650390625, 897.3162231445312, 351.6007995605469, 343.72406005859375, 257.28778076171875, 257.32733154296875, 241.5502471923828, 185.5958709716797, 134.3536376953125, 133.084228515625, 326.02886962890625, 117.4677734375, 111.1040267944336, 110.03857421875, 108.81543731689453, 164.55699157714844, 149.3950958251953, 81.9404296875, 70.51243591308594, 68.80680084228516, 67.41727447509766, 74.82377624511719, 61.164615631103516, 69.94361114501953, 53.829750061035156, 1198.9840087890625, 49.80988693237305, 48.3732795715332, 2961.8515625, 48.094600677490234, 45.880165100097656, 45.971248626708984, 368.1549377441406, 366.6323547363281, 78.38006591796875, 1696.852294921875, 1062.02734375, 264.01202392578125, 248.01197814941406, 671.8251342773438, 236.58981323242188, 531.5217895507812, 454.7481689453125, 317.4230041503906, 3333.05908203125, 998.9696655273438, 877.5017700195312, 4008.89013671875, 3131.191162109375, 4448.701171875, 1546.2296142578125, 1857.498779296875, 1052.1746826171875, 1554.607421875, 1730.1444091796875, 2131.49560546875, 3051.032958984375, 1665.05078125, 1125.0777587890625, 2947.6845703125, 451.1001281738281, 754.0878295898438, 1031.946533203125, 2110.299072265625, 4866.39501953125, 1838.75732421875, 1410.2835693359375, 5094.3857421875, 1394.228515625, 1627.5740966796875, 1519.074951171875, 1901.948486328125, 1572.3416748046875, 1808.3057861328125, 1356.79248046875, 1323.3369140625, 1313.013671875, 1225.08740234375, 409.1378173828125, 248.4945831298828, 266.73187255859375, 201.2828369140625, 148.3270721435547, 136.1597900390625, 140.13255310058594, 114.2773208618164, 136.811279296875, 128.4747314453125, 109.15440368652344, 95.93868255615234, 92.10074615478516, 217.45968627929688, 180.16371154785156, 116.69449615478516, 64.84313201904297, 57.96864318847656, 59.459938049316406, 63.99502182006836, 52.527042388916016, 52.63274383544922, 51.97303009033203, 51.12896728515625, 124.49773406982422, 46.46569061279297, 49.277130126953125, 47.55638885498047, 78.29932403564453, 57.09306335449219, 244.80918884277344, 698.2552490234375, 99.00178527832031, 752.2347412109375, 1847.2357177734375, 1110.9342041015625, 80.75414276123047, 774.2034301757812, 409.8036804199219, 1242.7802734375, 1104.130126953125, 3392.37109375, 226.91641235351562, 269.2640075683594, 2980.199462890625, 2624.37255859375, 1404.4451904296875, 1389.6539306640625, 995.38671875, 1410.707763671875, 525.3014526367188, 1008.7626342773438, 551.4351806640625, 655.8726806640625, 4817.1328125, 3081.241943359375, 1987.2977294921875, 5151.3837890625, 566.2599487304688, 2133.981201171875, 950.145751953125, 2089.26611328125, 604.670654296875, 1392.8231201171875, 1820.132080078125, 833.7584838867188, 1875.52734375, 1409.4888916015625, 690.1060791015625, 1196.97607421875, 998.5076293945312, 1077.3941650390625, 1051.9107666015625, 884.3390502929688, 835.3112182617188, 856.8411254882812, 3895.779296875, 842.51123046875, 1754.4501953125, 1429.6138916015625, 164.5731658935547, 131.44735717773438, 118.72203063964844, 107.79165649414062, 100.44973754882812, 1021.9947509765625, 86.29910278320312, 85.08025360107422, 75.2596206665039, 74.21891021728516, 74.22183227539062, 74.21805572509766, 83.3529052734375, 68.44474792480469, 66.35094451904297, 50.297698974609375, 48.03880310058594, 47.363548278808594, 46.3154296875, 46.661319732666016, 119.54085540771484, 39.24648666381836, 38.443695068359375, 36.312442779541016, 35.3889274597168, 32.71739196777344, 405.0777587890625, 775.6004028320312, 637.3711547851562, 765.1373291015625, 2453.57470703125, 525.9133911132812, 269.45953369140625, 4138.81298828125, 1932.1158447265625, 363.94976806640625, 3343.322021484375, 5768.90869140625, 1277.98974609375, 1204.113525390625, 171.90892028808594, 1388.435302734375, 423.9104309082031, 317.51385498046875, 644.6578979492188, 1147.650390625, 1806.4449462890625, 2792.1083984375, 967.1254272460938, 1291.4801025390625, 484.15789794921875, 2406.175537109375, 2269.85498046875, 1426.7088623046875, 1601.8072509765625, 2498.441650390625, 1675.1490478515625, 3373.648681640625, 1750.8990478515625, 1367.32470703125, 1190.7447509765625, 1274.2926025390625, 1286.640625, 1017.191650390625, 989.77197265625, 488.4007568359375, 273.677490234375, 327.89501953125, 220.08740234375, 189.99752807617188, 183.09239196777344, 184.19577026367188, 171.37464904785156, 298.64111328125, 192.89784240722656, 125.083740234375, 121.01558685302734, 121.01313018798828, 123.86469268798828, 286.69287109375, 107.6806869506836, 101.40298461914062, 359.78009033203125, 96.37390899658203, 145.03794860839844, 92.89727783203125, 88.84141540527344, 90.23324584960938, 82.27189636230469, 94.93004608154297, 77.44762420654297, 880.4993896484375, 77.61570739746094, 75.24349975585938, 70.82795715332031, 1494.0574951171875, 437.9813232421875, 3178.954345703125, 650.499267578125, 629.046875, 258.6333312988281, 475.96112060546875, 220.56544494628906, 668.6729736328125, 197.35850524902344, 616.1265258789062, 2149.6064453125, 1274.6744384765625, 169.9449005126953, 832.718505859375, 170.35073852539062, 1001.9605712890625, 596.3093872070312, 2702.442626953125, 1436.050537109375, 3784.384033203125, 809.4237670898438, 1473.6256103515625, 390.6690979003906, 375.50238037109375, 1571.921875, 417.6832275390625, 875.1466064453125, 1203.5228271484375, 1050.9599609375, 1748.625244140625, 1279.9444580078125, 1927.9212646484375, 2049.71337890625, 1011.8046264648438, 542.7650146484375, 810.7733154296875, 750.5101928710938, 709.9036254882812, 732.9104614257812, 729.7611083984375, 646.3449096679688, 630.39990234375, 617.0982055664062, 307.5584716796875, 266.25030517578125, 203.56988525390625, 183.4215850830078, 335.8407287597656, 176.4055938720703, 173.16416931152344, 169.66748046875, 167.85760498046875, 174.03443908691406, 226.9331512451172, 152.4607696533203, 140.9667205810547, 492.82861328125, 124.79671478271484, 110.75348663330078, 107.54312896728516, 106.19158172607422, 104.53437042236328, 102.6933822631836, 106.66249084472656, 103.30253601074219, 95.54882049560547, 92.35922241210938, 2233.35791015625, 541.5452880859375, 78.35749816894531, 76.22500610351562, 171.46176147460938, 987.0475463867188, 834.4083862304688, 1238.1995849609375, 1419.85693359375, 122.08958435058594, 525.2476806640625, 238.1620635986328, 587.7332763671875, 1504.152587890625, 839.9016723632812, 1473.68115234375, 813.4053344726562, 350.12652587890625, 738.2105712890625, 1939.682861328125, 1276.4334716796875, 1101.626953125, 1411.3836669921875, 2498.18359375, 2198.2041015625, 553.440673828125, 6791.8759765625, 561.4490966796875, 1287.6417236328125, 2328.36669921875, 3473.715576171875, 1191.6099853515625, 927.7935180664062, 752.112060546875, 1189.4940185546875, 1349.60986328125, 1175.71533203125, 1151.397216796875, 1042.6226806640625, 1069.8125, 1009.1346435546875, 796.7506713867188, 797.9496459960938, 2088.186279296875, 2202.412841796875, 830.1341552734375, 426.951416015625, 351.40777587890625, 261.7238464355469, 205.63906860351562, 261.2287292480469, 199.2424774169922, 285.35748291015625, 160.16619873046875, 158.28871154785156, 153.18707275390625, 321.8099060058594, 188.12762451171875, 127.256591796875, 156.29576110839844, 135.14581298828125, 127.31278991699219, 118.47978210449219, 127.23426055908203, 110.76532745361328, 100.0183334350586, 72.52728271484375, 67.80944061279297, 67.60936737060547, 61.71452331542969, 60.80870819091797, 61.22234344482422, 58.34391784667969, 5219.7421875, 686.2105712890625, 100.34174346923828, 93.0807876586914, 93.0807876586914, 93.0807876586914, 251.7421417236328, 6358.369140625, 494.898681640625, 877.2982788085938, 475.0309753417969, 1268.9375, 2633.1044921875, 689.7295532226562, 909.1780395507812, 523.2926635742188, 800.6044921875, 418.4655456542969, 375.7394714355469, 1014.70263671875, 428.4041442871094, 1243.95556640625, 1613.767333984375, 444.61199951171875, 1044.4814453125, 963.7018432617188, 1133.916015625, 907.5469360351562, 1041.5599365234375, 735.1722412109375, 750.3440551757812, 573.500244140625, 847.3865356445312, 913.3616333007812, 680.1829223632812, 499.8736267089844, 536.1458129882812, 518.3403930664062, 521.4146728515625, 2141.10888671875, 1066.83203125, 350.17510986328125, 344.5799560546875, 261.8805847167969, 204.34320068359375, 146.22088623046875, 122.73493957519531, 93.45476531982422, 92.55474090576172, 94.42496490478516, 74.06892395019531, 71.29047393798828, 66.15174865722656, 56.123077392578125, 53.198089599609375, 61.58000946044922, 48.74203109741211, 53.041194915771484, 294.51007080078125, 43.171207427978516, 42.53370666503906, 2401.5048828125, 42.527034759521484, 1460.2750244140625, 35.7875862121582, 44.43501281738281, 37.0250129699707, 36.04080581665039, 36.038917541503906, 5565.775390625, 450.39678955078125, 171.85256958007812, 2086.48388671875, 97.54415130615234, 206.31007385253906, 124.32746124267578, 398.9273986816406, 3276.781005859375, 3676.7353515625, 97.53004455566406, 894.984130859375, 912.06640625, 3050.2431640625, 1678.5782470703125, 168.91329956054688, 2913.952392578125, 1666.248046875, 349.7188720703125, 642.2827758789062, 1946.04443359375, 313.5374450683594, 1034.7962646484375, 901.8215942382812, 3047.669921875, 987.9110717773438, 1752.4923095703125, 622.6348266601562, 760.51953125, 521.3953857421875, 508.0246887207031, 505.20050048828125, 665.52197265625, 645.726806640625, 649.9769287109375, 667.5027465820312, 604.4741821289062, 581.23291015625, 402.89056396484375, 326.0137023925781, 290.1951904296875, 280.2528076171875, 725.447998046875, 262.39520263671875, 372.88214111328125, 247.7327117919922, 247.61460876464844, 1903.5103759765625, 212.52362060546875, 198.23687744140625, 172.14654541015625, 157.00439453125, 152.2883758544922, 148.61932373046875, 291.95037841796875, 175.24502563476562, 128.0294647216797, 120.74739837646484, 116.48683166503906, 115.26714324951172, 158.34912109375, 103.59872436523438, 97.85465240478516, 98.960205078125, 95.52046966552734, 95.4614486694336, 94.49385833740234, 85.94635009765625, 3771.042724609375, 2823.898193359375, 224.83290100097656, 371.2386779785156, 115.00162506103516, 433.2492980957031, 2045.127685546875, 3278.969970703125, 990.4296875, 290.0972900390625, 2332.843505859375, 678.4520263671875, 2563.12353515625, 269.66204833984375, 699.539306640625, 390.0118408203125, 3071.58935546875, 235.90260314941406, 2017.0179443359375, 845.1007690429688, 1473.759765625, 393.3874816894531, 1206.996337890625, 1973.378173828125, 867.042724609375, 721.1860961914062, 928.4549560546875, 342.6376953125, 459.722900390625, 431.0802001953125, 376.4975280761719], \"Total\": [27050.0, 7091.0, 5829.0, 5469.0, 9032.0, 3822.0, 6330.0, 4618.0, 9648.0, 4907.0, 3902.0, 6540.0, 5269.0, 6039.0, 2876.0, 13397.0, 35682.0, 4452.0, 3348.0, 4889.0, 6822.0, 6075.0, 3561.0, 6820.0, 3643.0, 3900.0, 26038.0, 6508.0, 2451.0, 5746.0, 501.1695556640625, 427.8095703125, 1174.4957275390625, 261.58251953125, 176.84707641601562, 163.3230438232422, 146.41746520996094, 141.9652099609375, 195.9695587158203, 151.6687469482422, 131.76258850097656, 98.86634063720703, 135.97711181640625, 133.68704223632812, 189.60935974121094, 84.41265869140625, 83.54949188232422, 85.28209686279297, 80.22582244873047, 78.99665069580078, 76.71546173095703, 301.5628967285156, 75.41925811767578, 77.56842041015625, 139.76846313476562, 87.4053726196289, 80.3348388671875, 72.55329132080078, 69.06938934326172, 94.9655532836914, 1166.247314453125, 924.3016357421875, 135.24832153320312, 184.80360412597656, 307.8221130371094, 557.4603271484375, 1084.9442138671875, 132.77601623535156, 637.9972534179688, 171.39511108398438, 108.86150360107422, 5023.56396484375, 816.3787231445312, 485.7220764160156, 368.317626953125, 6170.09375, 480.25604248046875, 979.2803344726562, 9253.462890625, 1128.040771484375, 6540.54931640625, 1090.2391357421875, 768.8505249023438, 1601.8536376953125, 385.4979248046875, 16261.3662109375, 1249.313232421875, 1267.381103515625, 6525.5947265625, 9027.0244140625, 663.2366333007812, 2763.138671875, 2571.867919921875, 3276.572265625, 2877.337158203125, 4910.21826171875, 2468.55810546875, 8172.45703125, 2684.49853515625, 5959.00341796875, 5187.57568359375, 35682.60546875, 2267.287109375, 5047.98095703125, 26038.25, 11324.4189453125, 3097.646484375, 2777.900634765625, 2768.60205078125, 8423.330078125, 5200.5205078125, 6822.48095703125, 10151.2216796875, 13397.009765625, 5554.50830078125, 3405.949462890625, 7823.861328125, 27050.181640625, 923.39013671875, 446.1114501953125, 245.98297119140625, 228.3134765625, 570.7828979492188, 264.2982177734375, 181.13787841796875, 175.78005981445312, 517.2974853515625, 170.3421630859375, 178.98233032226562, 172.29415893554688, 150.02719116210938, 150.77871704101562, 213.22543334960938, 164.26907348632812, 103.02201080322266, 97.50853729248047, 106.78994750976562, 75.25830078125, 75.47600555419922, 67.6694564819336, 67.22203826904297, 243.8840789794922, 64.00455474853516, 80.6486587524414, 61.63788604736328, 63.219398498535156, 55.020530700683594, 749.7327880859375, 198.73985290527344, 134.07969665527344, 101.31428527832031, 187.7494354248047, 281.2847900390625, 756.42724609375, 612.1845092773438, 2517.350341796875, 604.4469604492188, 727.6549072265625, 825.1564331054688, 1557.5487060546875, 3576.59912109375, 301.85052490234375, 1203.8826904296875, 820.40234375, 2357.469482421875, 624.5634765625, 335.73583984375, 2819.6640625, 4086.9560546875, 1348.5146484375, 3240.19921875, 1259.9664306640625, 4366.9814453125, 4039.75732421875, 1202.0281982421875, 2471.04931640625, 13397.009765625, 6330.93896484375, 9032.0791015625, 6508.36962890625, 7823.861328125, 16261.3662109375, 10151.2216796875, 5414.11572265625, 3490.525634765625, 35682.60546875, 2822.6083984375, 6502.3427734375, 5200.5205078125, 26038.25, 3664.07177734375, 4204.27880859375, 352.5428771972656, 344.6569519042969, 258.2279968261719, 258.3123474121094, 242.48193359375, 186.5276336669922, 135.28817749023438, 134.01776123046875, 328.333251953125, 118.39936065673828, 112.03596496582031, 110.97279357910156, 109.74732971191406, 165.99008178710938, 150.89776611328125, 82.8911361694336, 71.44448852539062, 69.742431640625, 68.36467742919922, 75.91117095947266, 62.09708023071289, 71.14268493652344, 54.76382064819336, 1220.3726806640625, 50.742130279541016, 49.30696487426758, 3019.119140625, 49.0275993347168, 46.81809616088867, 46.91545867919922, 376.03619384765625, 375.3938293457031, 80.09447479248047, 1800.2054443359375, 1121.5433349609375, 274.8994140625, 257.9472961425781, 727.6055908203125, 248.5953369140625, 581.8141479492188, 511.78900146484375, 353.94146728515625, 4603.55126953125, 1254.1011962890625, 1093.1563720703125, 6243.73828125, 4754.1298828125, 7139.22021484375, 2157.832275390625, 2677.512451171875, 1432.651123046875, 2342.7119140625, 2670.878173828125, 3490.525634765625, 6820.00341796875, 3111.03076171875, 1937.982177734375, 7303.47021484375, 563.979736328125, 1163.6068115234375, 2045.59033203125, 6433.7275390625, 26038.25, 5431.17578125, 3799.135498046875, 35682.60546875, 4043.9365234375, 5554.50830078125, 4938.458984375, 8423.330078125, 5959.00341796875, 13397.009765625, 6502.3427734375, 7509.9267578125, 9648.419921875, 9027.0244140625, 410.0989685058594, 249.6444854736328, 268.1387023925781, 202.5008544921875, 149.29994201660156, 137.12088012695312, 141.1629180908203, 115.24365234375, 137.97698974609375, 129.5752410888672, 110.13359832763672, 96.89997100830078, 93.15534973144531, 220.15646362304688, 182.54580688476562, 118.41177368164062, 65.82774353027344, 58.944053649902344, 60.47921371459961, 65.12635803222656, 53.488182067871094, 53.60512924194336, 52.93380355834961, 52.09003448486328, 126.90558624267578, 47.426483154296875, 50.3046989440918, 48.55154037475586, 79.94359588623047, 58.30176544189453, 251.68792724609375, 731.8884887695312, 101.77244567871094, 802.1895751953125, 2023.510986328125, 1306.7423095703125, 83.76171112060547, 964.1079711914062, 490.0243225097656, 1702.545166015625, 1549.80078125, 5746.54296875, 270.13580322265625, 335.07489013671875, 6075.63427734375, 6820.00341796875, 3198.04736328125, 3159.448974609375, 2045.59033203125, 3276.572265625, 903.0679931640625, 2329.97705078125, 1020.5155639648438, 1339.7476806640625, 26038.25, 13397.009765625, 7509.9267578125, 35682.60546875, 1101.3995361328125, 9648.419921875, 2583.483154296875, 10151.2216796875, 1277.7459716796875, 6525.5947265625, 11324.4189453125, 2428.24755859375, 16261.3662109375, 9253.462890625, 1722.1068115234375, 7303.47021484375, 4603.55126953125, 7804.63427734375, 8423.330078125, 4223.7197265625, 4618.2958984375, 9027.0244140625, 3902.25634765625, 843.9199829101562, 1759.878662109375, 1436.786376953125, 165.576416015625, 132.4333038330078, 119.70748138427734, 108.77710723876953, 101.47760772705078, 1033.3348388671875, 87.29231262207031, 86.06594848632812, 76.2496337890625, 75.20809173583984, 75.21260070800781, 75.20951080322266, 84.56324768066406, 69.45929718017578, 67.33683776855469, 51.28352737426758, 49.068511962890625, 48.399330139160156, 47.36531448364258, 47.74571228027344, 122.33966064453125, 40.23317337036133, 39.4327278137207, 37.299373626708984, 36.374794006347656, 33.7081298828125, 420.6612854003906, 812.4641723632812, 679.9879760742188, 829.5223999023438, 2779.390625, 568.9423217773438, 287.9846496582031, 4907.30859375, 2281.668701171875, 408.7935485839844, 4889.7939453125, 9032.0791015625, 1797.7388916015625, 1686.5728759765625, 191.94805908203125, 2459.32763671875, 606.7631225585938, 440.21978759765625, 1076.25390625, 2234.806396484375, 4204.27880859375, 8172.45703125, 2002.6134033203125, 3159.448974609375, 814.6161499023438, 7823.861328125, 10151.2216796875, 5187.57568359375, 6502.3427734375, 16261.3662109375, 7804.63427734375, 35682.60546875, 11324.4189453125, 7303.47021484375, 5200.5205078125, 6525.5947265625, 26038.25, 7137.904296875, 6508.36962890625, 489.3748474121094, 274.6336975097656, 329.0411071777344, 221.0543212890625, 190.9563446044922, 184.07647705078125, 185.1920166015625, 172.33407592773438, 300.3955078125, 194.3720703125, 126.054443359375, 121.97389221191406, 121.97618103027344, 124.88729095458984, 289.1653137207031, 108.6483154296875, 102.35813903808594, 363.2796936035156, 97.32904052734375, 146.52061462402344, 93.91014862060547, 89.82075500488281, 91.23343658447266, 83.24345397949219, 96.06012725830078, 78.41130828857422, 891.5215454101562, 78.60072326660156, 76.24330139160156, 71.78300476074219, 1533.5089111328125, 445.06829833984375, 3348.52197265625, 688.2835693359375, 666.3975830078125, 269.2247619628906, 508.81304931640625, 234.09397888183594, 762.7212524414062, 208.32666015625, 724.8828125, 2944.497314453125, 1867.851806640625, 181.107666015625, 1216.6097412109375, 182.7236328125, 1627.13037109375, 885.0330810546875, 6540.54931640625, 3252.125732421875, 13397.009765625, 1565.228515625, 4043.9365234375, 583.8384399414062, 555.0414428710938, 5431.17578125, 661.1924438476562, 2414.38671875, 5200.5205078125, 4910.21826171875, 16261.3662109375, 8172.45703125, 26038.25, 35682.60546875, 9648.419921875, 1492.4527587890625, 10151.2216796875, 7509.9267578125, 5746.54296875, 7804.63427734375, 11324.4189453125, 3664.07177734375, 631.299560546875, 617.9943237304688, 308.45001220703125, 267.1510314941406, 204.4685516357422, 184.31298828125, 337.5481262207031, 177.3038330078125, 174.0555877685547, 170.55865478515625, 168.74932861328125, 174.9625244140625, 228.23831176757812, 153.35227966308594, 141.90316772460938, 496.4549560546875, 125.78331756591797, 111.64795684814453, 108.43903350830078, 107.09168243408203, 105.42861938476562, 103.5848388671875, 107.60296630859375, 104.22213745117188, 96.4400634765625, 93.25077819824219, 2255.076171875, 546.8829956054688, 79.26103210449219, 77.12173461914062, 174.24603271484375, 1031.67822265625, 871.06787109375, 1345.7662353515625, 1550.2581787109375, 124.21481323242188, 577.200927734375, 258.14727783203125, 722.2271728515625, 2170.872802734375, 1134.331787109375, 2208.028076171875, 1148.6669921875, 425.3430480957031, 1068.409912109375, 3643.124755859375, 2428.24755859375, 2071.402587890625, 3097.646484375, 7137.904296875, 6075.63427734375, 872.96533203125, 35682.60546875, 913.679443359375, 3198.04736328125, 11324.4189453125, 26038.25, 4223.7197265625, 2684.934326171875, 1789.3436279296875, 5431.17578125, 9027.0244140625, 6433.7275390625, 7139.22021484375, 6502.3427734375, 7509.9267578125, 8423.330078125, 3561.2119140625, 6822.48095703125, 2089.141845703125, 2204.2431640625, 831.6040649414062, 427.9071044921875, 352.3649597167969, 262.9219055175781, 206.63113403320312, 262.5723876953125, 200.30882263183594, 287.01654052734375, 161.12973022460938, 159.25218200683594, 154.1431427001953, 324.0395812988281, 189.4705810546875, 128.21206665039062, 157.48435974121094, 136.18162536621094, 128.29754638671875, 119.4363021850586, 128.2923583984375, 111.72981262207031, 101.06937408447266, 73.48641967773438, 68.76568603515625, 68.58822631835938, 62.6795539855957, 61.76454544067383, 62.2164421081543, 59.29944610595703, 5469.87353515625, 708.63525390625, 102.08814239501953, 94.7375259399414, 94.7375259399414, 94.7375259399414, 261.57952880859375, 7091.595703125, 552.4512939453125, 1023.5689086914062, 536.5473022460938, 1582.5321044921875, 3900.495849609375, 896.7217407226562, 1237.1612548828125, 658.4097290039062, 1101.6800537109375, 523.4921875, 470.7276611328125, 1667.9569091796875, 576.885009765625, 3311.177001953125, 4938.458984375, 728.780517578125, 4039.75732421875, 4043.9365234375, 6039.86474609375, 4910.21826171875, 7823.861328125, 4204.27880859375, 4907.30859375, 1972.341552734375, 11324.4189453125, 35682.60546875, 9253.462890625, 2294.6083984375, 5187.57568359375, 6508.36962890625, 26038.25, 2142.85107421875, 1069.3140869140625, 351.0274963378906, 345.4338684082031, 262.7354431152344, 205.2288055419922, 147.07275390625, 123.58747100830078, 94.306884765625, 93.41030883789062, 95.4408950805664, 74.92086029052734, 72.14238739013672, 67.00553894042969, 56.975223541259766, 54.05073547363281, 62.578773498535156, 49.594520568847656, 53.9818115234375, 300.171630859375, 44.036380767822266, 43.415767669677734, 2451.725830078125, 43.432708740234375, 1495.0308837890625, 36.639984130859375, 45.496341705322266, 37.91215133666992, 36.91575241088867, 36.9157600402832, 5829.755859375, 465.9188537597656, 181.04649353027344, 2317.612060546875, 104.26285552978516, 232.34596252441406, 135.90692138671875, 488.50347900390625, 5269.54931640625, 6330.93896484375, 107.21438598632812, 1368.0074462890625, 1446.8770751953125, 6039.86474609375, 3032.238525390625, 205.42372131347656, 6822.48095703125, 3643.124755859375, 518.884521484375, 1145.0780029296875, 5414.11572265625, 506.4481201171875, 3253.71728515625, 3799.135498046875, 35682.60546875, 4889.7939453125, 26038.25, 2670.878173828125, 4754.1298828125, 1917.779052734375, 1789.3436279296875, 2148.40185546875, 6508.36962890625, 6433.7275390625, 6820.00341796875, 11324.4189453125, 9027.0244140625, 6243.73828125, 403.7511291503906, 326.8765563964844, 291.05609130859375, 281.11334228515625, 727.8043823242188, 263.2557373046875, 374.1764221191406, 248.5934295654297, 248.4977569580078, 1910.9217529296875, 213.40042114257812, 199.11753845214844, 173.00701904296875, 157.86497497558594, 153.14878845214844, 149.481689453125, 293.7309265136719, 176.41842651367188, 128.889892578125, 121.60769653320312, 117.34765625, 116.12796783447266, 159.54615783691406, 104.45933532714844, 98.71497344970703, 99.85063171386719, 96.3810806274414, 96.3259506225586, 95.40092468261719, 86.8067398071289, 3822.470703125, 2876.39306640625, 227.1348114013672, 379.8279724121094, 116.2906494140625, 459.7850341796875, 2355.882568359375, 4618.2958984375, 1301.864013671875, 329.6890869140625, 3561.2119140625, 874.5176391601562, 4452.07470703125, 305.3705139160156, 1042.177490234375, 519.5128173828125, 9648.419921875, 268.54412841796875, 6508.36962890625, 1917.779052734375, 7804.63427734375, 683.2044677734375, 8423.330078125, 26038.25, 7137.904296875, 7303.47021484375, 35682.60546875, 645.3297119140625, 2944.497314453125, 4938.458984375, 10151.2216796875], \"Category\": [\"Default\", \"Default\", \"Default\", \"Default\", \"Default\", \"Default\", \"Default\", \"Default\", \"Default\", \"Default\", \"Default\", \"Default\", \"Default\", \"Default\", \"Default\", \"Default\", \"Default\", \"Default\", \"Default\", \"Default\", \"Default\", \"Default\", \"Default\", \"Default\", \"Default\", \"Default\", \"Default\", \"Default\", \"Default\", \"Default\", \"Topic1\", \"Topic1\", \"Topic1\", \"Topic1\", \"Topic1\", \"Topic1\", \"Topic1\", \"Topic1\", \"Topic1\", \"Topic1\", \"Topic1\", \"Topic1\", \"Topic1\", \"Topic1\", \"Topic1\", \"Topic1\", \"Topic1\", \"Topic1\", \"Topic1\", \"Topic1\", \"Topic1\", \"Topic1\", \"Topic1\", \"Topic1\", \"Topic1\", \"Topic1\", \"Topic1\", \"Topic1\", \"Topic1\", \"Topic1\", \"Topic1\", \"Topic1\", \"Topic1\", \"Topic1\", \"Topic1\", \"Topic1\", \"Topic1\", \"Topic1\", \"Topic1\", \"Topic1\", \"Topic1\", \"Topic1\", \"Topic1\", \"Topic1\", \"Topic1\", \"Topic1\", \"Topic1\", \"Topic1\", \"Topic1\", \"Topic1\", \"Topic1\", \"Topic1\", \"Topic1\", \"Topic1\", \"Topic1\", \"Topic1\", \"Topic1\", \"Topic1\", \"Topic1\", \"Topic1\", \"Topic1\", \"Topic1\", \"Topic1\", \"Topic1\", \"Topic1\", \"Topic1\", \"Topic1\", \"Topic1\", \"Topic1\", \"Topic1\", \"Topic1\", \"Topic1\", \"Topic1\", \"Topic1\", \"Topic1\", \"Topic1\", \"Topic1\", \"Topic1\", \"Topic1\", \"Topic1\", \"Topic1\", \"Topic1\", \"Topic1\", \"Topic1\", \"Topic1\", \"Topic1\", \"Topic1\", \"Topic2\", \"Topic2\", \"Topic2\", \"Topic2\", \"Topic2\", \"Topic2\", \"Topic2\", \"Topic2\", \"Topic2\", \"Topic2\", \"Topic2\", \"Topic2\", \"Topic2\", \"Topic2\", \"Topic2\", \"Topic2\", \"Topic2\", \"Topic2\", \"Topic2\", \"Topic2\", \"Topic2\", \"Topic2\", \"Topic2\", \"Topic2\", \"Topic2\", \"Topic2\", \"Topic2\", \"Topic2\", \"Topic2\", \"Topic2\", \"Topic2\", \"Topic2\", \"Topic2\", \"Topic2\", \"Topic2\", \"Topic2\", \"Topic2\", \"Topic2\", \"Topic2\", \"Topic2\", \"Topic2\", \"Topic2\", \"Topic2\", \"Topic2\", \"Topic2\", \"Topic2\", \"Topic2\", \"Topic2\", \"Topic2\", \"Topic2\", \"Topic2\", \"Topic2\", \"Topic2\", \"Topic2\", \"Topic2\", \"Topic2\", \"Topic2\", \"Topic2\", \"Topic2\", \"Topic2\", \"Topic2\", \"Topic2\", \"Topic2\", \"Topic2\", \"Topic2\", \"Topic2\", \"Topic2\", \"Topic2\", \"Topic2\", \"Topic2\", \"Topic2\", \"Topic2\", \"Topic2\", \"Topic2\", \"Topic2\", \"Topic3\", \"Topic3\", \"Topic3\", \"Topic3\", \"Topic3\", \"Topic3\", \"Topic3\", \"Topic3\", \"Topic3\", \"Topic3\", \"Topic3\", \"Topic3\", \"Topic3\", \"Topic3\", \"Topic3\", \"Topic3\", \"Topic3\", \"Topic3\", \"Topic3\", \"Topic3\", \"Topic3\", \"Topic3\", \"Topic3\", \"Topic3\", \"Topic3\", \"Topic3\", \"Topic3\", \"Topic3\", \"Topic3\", \"Topic3\", \"Topic3\", \"Topic3\", \"Topic3\", \"Topic3\", \"Topic3\", \"Topic3\", \"Topic3\", \"Topic3\", \"Topic3\", \"Topic3\", \"Topic3\", \"Topic3\", \"Topic3\", \"Topic3\", \"Topic3\", \"Topic3\", \"Topic3\", \"Topic3\", \"Topic3\", \"Topic3\", \"Topic3\", \"Topic3\", \"Topic3\", \"Topic3\", \"Topic3\", \"Topic3\", \"Topic3\", \"Topic3\", \"Topic3\", \"Topic3\", \"Topic3\", \"Topic3\", \"Topic3\", \"Topic3\", \"Topic3\", \"Topic3\", \"Topic3\", \"Topic3\", \"Topic3\", \"Topic3\", \"Topic3\", \"Topic3\", \"Topic3\", \"Topic3\", \"Topic3\", \"Topic3\", \"Topic4\", \"Topic4\", \"Topic4\", \"Topic4\", \"Topic4\", \"Topic4\", \"Topic4\", \"Topic4\", \"Topic4\", \"Topic4\", \"Topic4\", \"Topic4\", \"Topic4\", \"Topic4\", \"Topic4\", \"Topic4\", \"Topic4\", \"Topic4\", \"Topic4\", \"Topic4\", \"Topic4\", \"Topic4\", \"Topic4\", \"Topic4\", \"Topic4\", \"Topic4\", \"Topic4\", \"Topic4\", \"Topic4\", \"Topic4\", \"Topic4\", \"Topic4\", \"Topic4\", \"Topic4\", \"Topic4\", \"Topic4\", \"Topic4\", \"Topic4\", \"Topic4\", \"Topic4\", \"Topic4\", \"Topic4\", \"Topic4\", \"Topic4\", \"Topic4\", \"Topic4\", \"Topic4\", \"Topic4\", \"Topic4\", \"Topic4\", \"Topic4\", \"Topic4\", \"Topic4\", \"Topic4\", \"Topic4\", \"Topic4\", \"Topic4\", \"Topic4\", \"Topic4\", \"Topic4\", \"Topic4\", \"Topic4\", \"Topic4\", \"Topic4\", \"Topic4\", \"Topic4\", \"Topic4\", \"Topic4\", \"Topic4\", \"Topic4\", \"Topic4\", \"Topic4\", \"Topic4\", \"Topic4\", \"Topic4\", \"Topic4\", \"Topic5\", \"Topic5\", \"Topic5\", \"Topic5\", \"Topic5\", \"Topic5\", \"Topic5\", \"Topic5\", \"Topic5\", \"Topic5\", \"Topic5\", \"Topic5\", \"Topic5\", \"Topic5\", \"Topic5\", \"Topic5\", \"Topic5\", \"Topic5\", \"Topic5\", \"Topic5\", \"Topic5\", \"Topic5\", \"Topic5\", \"Topic5\", \"Topic5\", \"Topic5\", \"Topic5\", \"Topic5\", \"Topic5\", \"Topic5\", \"Topic5\", \"Topic5\", \"Topic5\", \"Topic5\", \"Topic5\", \"Topic5\", \"Topic5\", \"Topic5\", \"Topic5\", \"Topic5\", \"Topic5\", \"Topic5\", \"Topic5\", \"Topic5\", \"Topic5\", \"Topic5\", \"Topic5\", \"Topic5\", \"Topic5\", \"Topic5\", \"Topic5\", \"Topic5\", \"Topic5\", \"Topic5\", \"Topic5\", \"Topic5\", \"Topic5\", \"Topic5\", \"Topic5\", \"Topic5\", \"Topic5\", \"Topic5\", \"Topic5\", \"Topic5\", \"Topic5\", \"Topic5\", \"Topic5\", \"Topic5\", \"Topic5\", \"Topic6\", \"Topic6\", \"Topic6\", \"Topic6\", \"Topic6\", \"Topic6\", \"Topic6\", \"Topic6\", \"Topic6\", \"Topic6\", \"Topic6\", \"Topic6\", \"Topic6\", \"Topic6\", \"Topic6\", \"Topic6\", \"Topic6\", \"Topic6\", \"Topic6\", \"Topic6\", \"Topic6\", \"Topic6\", \"Topic6\", \"Topic6\", \"Topic6\", \"Topic6\", \"Topic6\", \"Topic6\", \"Topic6\", \"Topic6\", \"Topic6\", \"Topic6\", \"Topic6\", \"Topic6\", \"Topic6\", \"Topic6\", \"Topic6\", \"Topic6\", \"Topic6\", \"Topic6\", \"Topic6\", \"Topic6\", \"Topic6\", \"Topic6\", \"Topic6\", \"Topic6\", \"Topic6\", \"Topic6\", \"Topic6\", \"Topic6\", \"Topic6\", \"Topic6\", \"Topic6\", \"Topic6\", \"Topic6\", \"Topic6\", \"Topic6\", \"Topic6\", \"Topic6\", \"Topic6\", \"Topic6\", \"Topic6\", \"Topic6\", \"Topic6\", \"Topic6\", \"Topic6\", \"Topic6\", \"Topic6\", \"Topic6\", \"Topic6\", \"Topic6\", \"Topic6\", \"Topic7\", \"Topic7\", \"Topic7\", \"Topic7\", \"Topic7\", \"Topic7\", \"Topic7\", \"Topic7\", \"Topic7\", \"Topic7\", \"Topic7\", \"Topic7\", \"Topic7\", \"Topic7\", \"Topic7\", \"Topic7\", \"Topic7\", \"Topic7\", \"Topic7\", \"Topic7\", \"Topic7\", \"Topic7\", \"Topic7\", \"Topic7\", \"Topic7\", \"Topic7\", \"Topic7\", \"Topic7\", \"Topic7\", \"Topic7\", \"Topic7\", \"Topic7\", \"Topic7\", \"Topic7\", \"Topic7\", \"Topic7\", \"Topic7\", \"Topic7\", \"Topic7\", \"Topic7\", \"Topic7\", \"Topic7\", \"Topic7\", \"Topic7\", \"Topic7\", \"Topic7\", \"Topic7\", \"Topic7\", \"Topic7\", \"Topic7\", \"Topic7\", \"Topic7\", \"Topic7\", \"Topic7\", \"Topic7\", \"Topic7\", \"Topic7\", \"Topic7\", \"Topic7\", \"Topic7\", \"Topic7\", \"Topic7\", \"Topic7\", \"Topic7\", \"Topic7\", \"Topic7\", \"Topic7\", \"Topic7\", \"Topic7\", \"Topic8\", \"Topic8\", \"Topic8\", \"Topic8\", \"Topic8\", \"Topic8\", \"Topic8\", \"Topic8\", \"Topic8\", \"Topic8\", \"Topic8\", \"Topic8\", \"Topic8\", \"Topic8\", \"Topic8\", \"Topic8\", \"Topic8\", \"Topic8\", \"Topic8\", \"Topic8\", \"Topic8\", \"Topic8\", \"Topic8\", \"Topic8\", \"Topic8\", \"Topic8\", \"Topic8\", \"Topic8\", \"Topic8\", \"Topic8\", \"Topic8\", \"Topic8\", \"Topic8\", \"Topic8\", \"Topic8\", \"Topic8\", \"Topic8\", \"Topic8\", \"Topic8\", \"Topic8\", \"Topic8\", \"Topic8\", \"Topic8\", \"Topic8\", \"Topic8\", \"Topic8\", \"Topic8\", \"Topic8\", \"Topic8\", \"Topic8\", \"Topic8\", \"Topic8\", \"Topic8\", \"Topic8\", \"Topic8\", \"Topic8\", \"Topic8\", \"Topic8\", \"Topic8\", \"Topic8\", \"Topic8\", \"Topic8\", \"Topic8\", \"Topic8\", \"Topic8\", \"Topic8\", \"Topic8\", \"Topic8\", \"Topic8\", \"Topic9\", \"Topic9\", \"Topic9\", \"Topic9\", \"Topic9\", \"Topic9\", \"Topic9\", \"Topic9\", \"Topic9\", \"Topic9\", \"Topic9\", \"Topic9\", \"Topic9\", \"Topic9\", \"Topic9\", \"Topic9\", \"Topic9\", \"Topic9\", \"Topic9\", \"Topic9\", \"Topic9\", \"Topic9\", \"Topic9\", \"Topic9\", \"Topic9\", \"Topic9\", \"Topic9\", \"Topic9\", \"Topic9\", \"Topic9\", \"Topic9\", \"Topic9\", \"Topic9\", \"Topic9\", \"Topic9\", \"Topic9\", \"Topic9\", \"Topic9\", \"Topic9\", \"Topic9\", \"Topic9\", \"Topic9\", \"Topic9\", \"Topic9\", \"Topic9\", \"Topic9\", \"Topic9\", \"Topic9\", \"Topic9\", \"Topic9\", \"Topic9\", \"Topic9\", \"Topic9\", \"Topic9\", \"Topic9\", \"Topic9\", \"Topic9\", \"Topic9\", \"Topic9\", \"Topic9\", \"Topic9\", \"Topic9\", \"Topic9\", \"Topic9\", \"Topic9\", \"Topic9\", \"Topic9\", \"Topic9\", \"Topic10\", \"Topic10\", \"Topic10\", \"Topic10\", \"Topic10\", \"Topic10\", \"Topic10\", \"Topic10\", \"Topic10\", \"Topic10\", \"Topic10\", \"Topic10\", \"Topic10\", \"Topic10\", \"Topic10\", \"Topic10\", \"Topic10\", \"Topic10\", \"Topic10\", \"Topic10\", \"Topic10\", \"Topic10\", \"Topic10\", \"Topic10\", \"Topic10\", \"Topic10\", \"Topic10\", \"Topic10\", \"Topic10\", \"Topic10\", \"Topic10\", \"Topic10\", \"Topic10\", \"Topic10\", \"Topic10\", \"Topic10\", \"Topic10\", \"Topic10\", \"Topic10\", \"Topic10\", \"Topic10\", \"Topic10\", \"Topic10\", \"Topic10\", \"Topic10\", \"Topic10\", \"Topic10\", \"Topic10\", \"Topic10\", \"Topic10\", \"Topic10\", \"Topic10\", \"Topic10\", \"Topic10\", \"Topic10\", \"Topic10\", \"Topic10\", \"Topic10\", \"Topic10\", \"Topic10\", \"Topic10\"], \"logprob\": [30.0, 29.0, 28.0, 27.0, 26.0, 25.0, 24.0, 23.0, 22.0, 21.0, 20.0, 19.0, 18.0, 17.0, 16.0, 15.0, 14.0, 13.0, 12.0, 11.0, 10.0, 9.0, 8.0, 7.0, 6.0, 5.0, 4.0, 3.0, 2.0, 1.0, -6.130000114440918, -6.28879976272583, -5.279200077056885, -6.7820000648498535, -7.175300121307373, -7.2555999755859375, -7.365200042724609, -7.396500110626221, -7.076300144195557, -7.332900047302246, -7.473700046539307, -7.761300086975098, -7.443600177764893, -7.460899829864502, -7.111599922180176, -7.92080020904541, -7.931300163269043, -7.910900115966797, -7.972499847412109, -7.98799991607666, -8.017600059509277, -6.648900032043457, -8.034899711608887, -8.0068998336792, -7.418099880218506, -7.887499809265137, -7.97189998626709, -8.074199676513672, -8.12399959564209, -7.805799961090088, -5.301499843597412, -5.541200160980225, -7.454800128936768, -7.146699905395508, -6.645500183105469, -6.064000129699707, -5.414000034332275, -7.477200031280518, -5.950099945068359, -7.231800079345703, -7.673900127410889, -4.008500099182129, -5.8317999839782715, -6.3242998123168945, -6.5792999267578125, -4.085999965667725, -6.345300197601318, -5.720099925994873, -3.7992000579833984, -5.628600120544434, -4.137499809265137, -5.675099849700928, -5.970099925994873, -5.359399795532227, -6.555099964141846, -3.4719998836517334, -5.585899829864502, -5.575900077819824, -4.252600193023682, -4.046999931335449, -6.121600151062012, -5.0131001472473145, -5.0725998878479, -4.889400005340576, -4.994800090789795, -4.661799907684326, -5.1620001792907715, -4.320199966430664, -5.103300094604492, -4.610799789428711, -4.734099864959717, -3.5938000679016113, -5.28000020980835, -4.862299919128418, -4.017499923706055, -4.593699932098389, -5.211299896240234, -5.261099815368652, -5.2769999504089355, -5.026899814605713, -5.200399875640869, -5.168399810791016, -5.125800132751465, -5.195300102233887, -5.236299991607666, -5.26230001449585, -5.261600017547607, -1.8207999467849731, -5.19920015335083, -5.928500175476074, -6.525199890136719, -6.599999904632568, -5.684100151062012, -6.45419979095459, -6.832600116729736, -6.862599849700928, -5.783400058746338, -6.894199848175049, -6.844900131225586, -6.883399963378906, -7.022600173950195, -7.018799781799316, -6.672800064086914, -6.934000015258789, -7.400899887084961, -7.456500053405762, -7.365699768066406, -7.718599796295166, -7.716100215911865, -7.826300144195557, -7.833099842071533, -6.545300006866455, -7.8831000328063965, -7.652200222015381, -7.921299934387207, -7.895999908447266, -8.037199974060059, -5.441999912261963, -6.756899833679199, -7.155600070953369, -7.436299800872803, -6.838500022888184, -6.453700065612793, -5.521500110626221, -5.7322001457214355, -4.409800052642822, -5.7546000480651855, -5.5854997634887695, -5.474299907684326, -4.900199890136719, -4.149499893188477, -6.418799877166748, -5.206500053405762, -5.546500205993652, -4.659599781036377, -5.825900077819824, -6.349599838256836, -4.655300140380859, -4.367400169372559, -5.2600998878479, -4.5883002281188965, -5.376800060272217, -4.51639986038208, -4.667399883270264, -5.5528998374938965, -5.120500087738037, -4.105199813842773, -4.583199977874756, -4.4359002113342285, -4.69320011138916, -4.604899883270264, -4.269199848175049, -4.541900157928467, -4.927800178527832, -5.152400016784668, -4.4182000160217285, -5.223700046539307, -5.036099910736084, -5.112199783325195, -4.869100093841553, -5.2241997718811035, -5.226799964904785, -6.0279998779296875, -6.0507001876831055, -6.3403000831604, -6.340199947357178, -6.403500080108643, -6.666999816894531, -6.990099906921387, -6.999599933624268, -6.103600025177002, -7.1244001388549805, -7.180099964141846, -7.189700126647949, -7.200900077819824, -6.787300109863281, -6.883900165557861, -7.484499931335449, -7.634799957275391, -7.659200191497803, -7.679599761962891, -7.575399875640869, -7.7769999504089355, -7.642899990081787, -7.904699802398682, -4.801300048828125, -7.9822998046875, -8.01159954071045, -3.8970000743865967, -8.017399787902832, -8.064499855041504, -8.0625, -5.98199987411499, -5.986199855804443, -7.5289998054504395, -4.453999996185303, -4.922599792480469, -6.314499855041504, -6.377099990844727, -5.380499839782715, -6.424200057983398, -5.614799976348877, -5.7708001136779785, -6.130300045013428, -3.778899908065796, -4.983799934387207, -5.113500118255615, -3.5943000316619873, -3.841399908065796, -3.4902000427246094, -4.546999931335449, -4.36359977722168, -4.9319000244140625, -4.541600227355957, -4.434599876403809, -4.22599983215332, -3.867300033569336, -4.472899913787842, -4.8649001121521, -3.9017999172210693, -5.778900146484375, -5.264999866485596, -4.951300144195557, -4.236000061035156, -3.400399923324585, -4.373700141906738, -4.638999938964844, -3.354599952697754, -4.650400161743164, -4.495699882507324, -4.564700126647949, -4.339900016784668, -4.530200004577637, -4.390399932861328, -4.677700042724609, -4.702600002288818, -4.7104997634887695, -4.779799938201904, -5.595600128173828, -6.094299793243408, -6.023399829864502, -6.304999828338623, -6.610300064086914, -6.695899963378906, -6.667099952697754, -6.871099948883057, -6.691100120544434, -6.754000186920166, -6.916900157928467, -7.046000003814697, -7.0868000984191895, -6.227700233459473, -6.415800094604492, -6.850100040435791, -7.437699794769287, -7.549799919128418, -7.524400234222412, -7.450900077819824, -7.648399829864502, -7.646299839019775, -7.658999919891357, -7.675300121307373, -6.785399913787842, -7.770999908447266, -7.712200164794922, -7.747799873352051, -7.249100208282471, -7.565000057220459, -6.1092000007629395, -5.061100006103516, -7.014500141143799, -4.986599922180176, -4.088200092315674, -4.596700191497803, -7.218299865722656, -4.957900047302246, -5.593999862670898, -4.484600067138672, -4.60290002822876, -3.4804000854492188, -6.185100078582764, -6.013999938964844, -3.6098999977111816, -3.7370998859405518, -4.362299919128418, -4.372900009155273, -4.706600189208984, -4.357800006866455, -5.345699787139893, -4.69320011138916, -5.2972002029418945, -5.123700141906738, -3.1298000812530518, -3.5766000747680664, -4.015200138092041, -3.062700033187866, -5.270599842071533, -3.9439001083374023, -4.7530999183654785, -3.965100049972534, -5.204999923706055, -4.37060022354126, -4.103000164031982, -4.883699893951416, -4.072999954223633, -4.358699798583984, -5.072800159454346, -4.52209997177124, -4.703400135040283, -4.627399921417236, -4.651299953460693, -4.82480001449585, -4.881899833679199, -4.856400012969971, -3.3271000385284424, -4.858399868011475, -4.124800205230713, -4.329599857330322, -6.491399765014648, -6.716100215911865, -6.817999839782715, -6.9145002365112305, -6.985099792480469, -4.665200233459473, -7.136899948120117, -7.151100158691406, -7.273799896240234, -7.287700176239014, -7.287700176239014, -7.287700176239014, -7.1717000007629395, -7.36870002746582, -7.399799823760986, -7.676799774169922, -7.722700119018555, -7.7368998527526855, -7.759300231933594, -7.751800060272217, -6.811100006103516, -7.924900054931641, -7.945499897003174, -8.002599716186523, -8.028300285339355, -8.106800079345703, -5.590700149536133, -4.941100120544434, -5.137400150299072, -4.954699993133545, -3.789400100708008, -5.329599857330322, -5.998300075531006, -3.2665998935699463, -4.02839994430542, -5.697700023651123, -3.4800000190734863, -2.934499979019165, -4.441699981689453, -4.501200199127197, -6.447800159454346, -4.358799934387207, -5.545199871063232, -5.834199905395508, -5.125999927520752, -4.549300193786621, -4.095600128173828, -3.6602001190185547, -4.720399856567383, -4.43120002746582, -5.412300109863281, -3.809000015258789, -3.867300033569336, -4.331600189208984, -4.21589994430542, -3.7713000774383545, -4.17110013961792, -3.4709999561309814, -4.1269001960754395, -4.374100208282471, -4.512400150299072, -4.4446001052856445, -4.434999942779541, -4.669899940490723, -4.697299957275391, -5.326700210571289, -5.905900001525879, -5.725200176239014, -6.123899936676025, -6.270899772644043, -6.3078999519348145, -6.3018999099731445, -6.374000072479248, -5.818600177764893, -6.25570011138916, -6.688899993896484, -6.7220001220703125, -6.7220001220703125, -6.698699951171875, -5.859499931335449, -6.838699817657471, -6.898799896240234, -5.632400035858154, -6.9496002197265625, -6.540900230407715, -6.986400127410889, -7.031000137329102, -7.015500068664551, -7.107800006866455, -6.964700222015381, -7.168300151824951, -4.737400054931641, -7.166100025177002, -7.1971001625061035, -7.257599830627441, -4.208600044250488, -5.435699939727783, -3.4535999298095703, -5.04010009765625, -5.073699951171875, -5.962500095367432, -5.352499961853027, -6.121699810028076, -5.012599945068359, -6.232900142669678, -5.094399929046631, -3.8447999954223633, -4.367400169372559, -6.382400035858154, -4.7932000160217285, -6.380000114440918, -4.6082000732421875, -5.127099990844727, -3.615999937057495, -4.248199939727783, -3.2792000770568848, -4.821599960327148, -4.222400188446045, -5.550000190734863, -5.589600086212158, -4.157800197601318, -5.4832000732421875, -4.743500232696533, -4.424900054931641, -4.560400009155273, -4.051300048828125, -4.36329984664917, -3.953700065612793, -3.892400026321411, -4.598400115966797, -5.221199989318848, -4.819900035858154, -4.89709997177124, -4.952700138092041, -4.920899868011475, -4.92519998550415, -5.046500205993652, -5.066699981689453, -5.088099956512451, -5.78439998626709, -5.928699970245361, -6.1971001625061035, -6.301300048828125, -5.696499824523926, -6.3403000831604, -6.35890007019043, -6.379300117492676, -6.389999866485596, -6.353799819946289, -6.088399887084961, -6.486199855804443, -6.564599990844727, -5.312900066375732, -6.686399936676025, -6.805799961090088, -6.83519983291626, -6.847899913787842, -6.86359977722168, -6.88129997253418, -6.843400001525879, -6.875400066375732, -6.953499794006348, -6.987400054931641, -3.801800012588501, -5.218699932098389, -7.151800155639648, -7.1793999671936035, -6.36870002746582, -4.6184000968933105, -4.786399841308594, -4.39169979095459, -4.254799842834473, -6.7083001136779785, -5.249199867248535, -6.04010009765625, -5.1367998123168945, -4.1971001625061035, -4.779799938201904, -4.217599868774414, -4.8119001388549805, -5.654799938201904, -4.908899784088135, -3.9428000450134277, -4.361299991607666, -4.508600234985352, -4.260799884796143, -3.6898000240325928, -3.817699909210205, -5.196899890899658, -2.6895999908447266, -5.182600021362305, -4.352499961853027, -3.760200023651123, -3.360100030899048, -4.429999828338623, -4.680300235748291, -4.890200138092041, -4.43179988861084, -4.305500030517578, -4.44350004196167, -4.464399814605713, -4.563600063323975, -4.537899971008301, -4.596199989318848, -4.832600116729736, -4.830999851226807, -3.6517999172210693, -3.5985000133514404, -4.5742998123168945, -5.239200115203857, -5.433899879455566, -5.728600025177002, -5.969699859619141, -5.730500221252441, -6.001299858093262, -5.642099857330322, -6.219600200653076, -6.231400012969971, -6.264200210571289, -5.521900177001953, -6.058700084686279, -6.4496002197265625, -6.244100093841553, -6.389500141143799, -6.44920015335083, -6.521100044250488, -6.44980001449585, -6.588399887084961, -6.690499782562256, -7.011899948120117, -7.07919979095459, -7.082099914550781, -7.173299789428711, -7.1880998611450195, -7.181300163269043, -7.229499816894531, -2.7356998920440674, -4.764699935913086, -6.687300205230713, -6.762400150299072, -6.762400150299072, -6.762400150299072, -5.767399787902832, -2.538300037384033, -5.0914998054504395, -4.519000053405762, -5.132500171661377, -4.149899959564209, -3.4198999404907227, -4.7596001625061035, -4.48330020904541, -5.035699844360352, -4.610499858856201, -5.259300231933594, -5.367000102996826, -4.373499870300293, -5.235799789428711, -4.1697998046875, -3.9094998836517334, -5.198699951171875, -4.344600200653076, -4.425099849700928, -4.262400150299072, -4.485099792480469, -4.347400188446045, -4.695799827575684, -4.675300121307373, -4.9440999031066895, -4.553699970245361, -4.478700160980225, -4.773499965667725, -5.081500053405762, -5.01140022277832, -5.045199871063232, -5.039299964904785, -3.5250000953674316, -4.221700191497803, -5.335700035095215, -5.351799964904785, -5.626200199127197, -5.874300003051758, -6.209000110626221, -6.384099960327148, -6.656599998474121, -6.666299819946289, -6.646299839019775, -6.889100074768066, -6.927299976348877, -7.002200126647949, -7.166600227355957, -7.220099925994873, -7.073800086975098, -7.307600021362305, -7.2230000495910645, -5.508800029754639, -7.428899765014648, -7.44379997253418, -3.4103000164031982, -7.443999767303467, -3.9077000617980957, -7.616499900817871, -7.400100231170654, -7.582499980926514, -7.609499931335449, -7.609499931335449, -2.569700002670288, -5.084000110626221, -6.047500133514404, -3.5508999824523926, -6.613800048828125, -5.864699840545654, -6.371200084686279, -5.2052998542785645, -3.0994999408721924, -2.984299898147583, -6.613999843597412, -4.397299766540527, -4.378399848937988, -3.171099901199341, -3.768399953842163, -6.064700126647949, -3.2167999744415283, -3.7757999897003174, -5.336999893188477, -4.729100227355957, -3.6205999851226807, -5.446199893951416, -4.252200126647949, -4.389699935913086, -3.171999931335449, -4.298500061035156, -3.7253000736236572, -4.760200023651123, -4.560100078582764, -4.937600135803223, -4.963600158691406, -4.969200134277344, -4.69350004196167, -4.723700046539307, -4.717199802398682, -4.6905999183654785, -4.78980016708374, -4.828999996185303, -4.991700172424316, -5.203400135040283, -5.319799900054932, -5.354700088500977, -4.403600215911865, -5.420499801635742, -5.0690999031066895, -5.478000164031982, -5.478499889373779, -3.4388999938964844, -5.63129997253418, -5.700900077819824, -5.8420000076293945, -5.934100151062012, -5.964600086212158, -5.988999843597412, -5.313799858093262, -5.82420015335083, -6.1381001472473145, -6.196700096130371, -6.232600212097168, -6.243100166320801, -5.925600051879883, -6.349899768829346, -6.406899929046631, -6.395699977874756, -6.431000232696533, -6.431700229644775, -6.441800117492676, -6.5366997718811035, -2.7553000450134277, -3.0445001125335693, -5.574999809265137, -5.073500156402588, -6.2453999519348145, -4.919099807739258, -3.3671998977661133, -2.8951001167297363, -4.092199802398682, -5.320199966430664, -3.2355000972747803, -4.470600128173828, -3.141400098800659, -5.393199920654297, -4.440000057220459, -5.024199962615967, -2.960400104522705, -5.5269999504089355, -3.38100004196167, -4.250899791717529, -3.6947999000549316, -5.015600204467773, -3.8945000171661377, -3.402899980545044, -4.225299835205078, -4.4095001220703125, -4.156899929046631, -5.15369987487793, -4.859799861907959, -4.924099922180176, -5.059500217437744], \"loglift\": [30.0, 29.0, 28.0, 27.0, 26.0, 25.0, 24.0, 23.0, 22.0, 21.0, 20.0, 19.0, 18.0, 17.0, 16.0, 15.0, 14.0, 13.0, 12.0, 11.0, 10.0, 9.0, 8.0, 7.0, 6.0, 5.0, 4.0, 3.0, 2.0, 1.0, 1.6294000148773193, 1.6289000511169434, 1.628600001335144, 1.6275999546051025, 1.6256999969482422, 1.624899983406067, 1.6246999502182007, 1.6241999864578247, 1.6220999956130981, 1.6217000484466553, 1.6216000318527222, 1.6211999654769897, 1.6202000379562378, 1.6198999881744385, 1.6197999715805054, 1.6196999549865723, 1.6195000410079956, 1.6194000244140625, 1.61899995803833, 1.618899941444397, 1.6186000108718872, 1.618399977684021, 1.618299961090088, 1.618299961090088, 1.6181999444961548, 1.6181999444961548, 1.6181999444961548, 1.617799997329712, 1.6172000169754028, 1.6169999837875366, 1.6131999492645264, 1.6059999465942383, 1.614400029182434, 1.6102999448776245, 1.6013000011444092, 1.5888999700546265, 1.5729999542236328, 1.6103999614715576, 1.5678999423980713, 1.6004999876022339, 1.6123000383377075, 1.4458999633789062, 1.4395999908447266, 1.4664000272750854, 1.4881000518798828, 1.1627999544143677, 1.4566999673843384, 1.3694000244140625, 1.0443999767303467, 1.3193999528884888, 1.0530999898910522, 1.3071000576019287, 1.361299991607666, 1.2380000352859497, 1.466599941253662, 0.807699978351593, 1.26010000705719, 1.2556999921798706, 0.9401999711990356, 0.8213000297546387, 1.3575999736785889, 1.0391000509262085, 1.051300048828125, 0.9923999905586243, 1.0168999433517456, 0.815500020980835, 1.0029000043869019, 0.647599995136261, 0.9778000116348267, 0.6729000210762024, 0.6881999969482422, -0.09989999979734421, 0.9699000120162964, 0.5873000025749207, -0.2084999978542328, 0.0478999987244606, 0.7265999913215637, 0.7857999801635742, 0.7731999754905701, -0.08940000087022781, 0.21940000355243683, -0.020099999383091927, -0.3749000132083893, -0.7218000292778015, 0.11760000139474869, 0.5807999968528748, -0.25029999017715454, 1.9500999450683594, 1.9490000009536743, 1.9471999406814575, 1.9458999633789062, 1.9456000328063965, 1.945199966430664, 1.945099949836731, 1.9444999694824219, 1.9444999694824219, 1.9443000555038452, 1.9443000555038452, 1.944100022315979, 1.9436999559402466, 1.9428999423980713, 1.9416999816894531, 1.9412000179290771, 1.9407999515533447, 1.940500020980835, 1.9399000406265259, 1.9397000074386597, 1.9366999864578247, 1.9363000392913818, 1.9354000091552734, 1.9351999759674072, 1.9342999458312988, 1.9342000484466553, 1.934000015258789, 1.9337999820709229, 1.9336999654769897, 1.931399941444397, 1.9146000146865845, 1.92739999294281, 1.9222999811172485, 1.9218000173568726, 1.9026999473571777, 1.8832000494003296, 1.826200008392334, 1.8271000385284424, 1.7355999946594238, 1.8173999786376953, 1.8009999990463257, 1.7863999605178833, 1.7252000570297241, 1.644700050354004, 1.847599983215332, 1.6764999628067017, 1.7200000286102295, 1.5513999462127686, 1.7132999897003174, 1.8102999925613403, 1.3767000436782837, 1.2934000492095947, 1.5094000101089478, 1.3046000003814697, 1.4607000350952148, 1.0780999660491943, 1.0048999786376953, 1.3315999507904053, 1.0434000492095947, 0.3682999908924103, 0.6399000287055969, 0.4318000078201294, 0.5022000074386597, 0.40639999508857727, 0.010599999688565731, 0.20909999310970306, 0.45170000195503235, 0.666100025177002, -0.9243000149726868, 0.807200014591217, 0.16030000150203705, 0.3075999915599823, -1.0600999593734741, 0.5457000136375427, 0.4056999981403351, 2.0831000804901123, 2.0831000804901123, 2.0820999145507812, 2.081899881362915, 2.081899881362915, 2.0808000564575195, 2.0787999629974365, 2.0787999629974365, 2.078700065612793, 2.077899932861328, 2.077399969100952, 2.0773000717163086, 2.077199935913086, 2.0771000385284424, 2.0757999420166016, 2.074199914932251, 2.0725998878479004, 2.0722999572753906, 2.0717999935150146, 2.0713000297546387, 2.0706000328063965, 2.0687999725341797, 2.0685999393463135, 2.0680999755859375, 2.067199945449829, 2.0666000843048096, 2.0666000843048096, 2.066499948501587, 2.065500020980835, 2.0653998851776123, 2.0645999908447266, 2.0620999336242676, 2.0641000270843506, 2.026599884033203, 2.0311999320983887, 2.0453999042510986, 2.0464999675750732, 2.00600004196167, 2.03629994392395, 1.9953999519348145, 1.9675999879837036, 1.9768999814987183, 1.7627999782562256, 1.858299970626831, 1.8660000562667847, 1.642699956893921, 1.6682000160217285, 1.6128000020980835, 1.752500057220459, 1.7201000452041626, 1.7770999670028687, 1.6756999492645264, 1.6516000032424927, 1.5924999713897705, 1.2813999652862549, 1.4607000350952148, 1.5420000553131104, 1.1784000396728516, 1.8624000549316406, 1.6519999504089355, 1.4014999866485596, 0.9710000157356262, 0.40849998593330383, 1.0026999711990356, 1.0947999954223633, 0.13920000195503235, 1.020900011062622, 0.8582000136375427, 0.9067999720573425, 0.597599983215332, 0.7534000277519226, 0.08309999853372574, 0.5187000036239624, 0.349700003862381, 0.09130000323057175, 0.08860000222921371, 2.364300012588501, 2.361999988555908, 2.3613998889923096, 2.360599994659424, 2.360100030899048, 2.359600067138672, 2.359299898147583, 2.3582000732421875, 2.358099937438965, 2.358099937438965, 2.3577001094818115, 2.356600046157837, 2.3552000522613525, 2.354300022125244, 2.3534998893737793, 2.3519999980926514, 2.3515000343322754, 2.349900007247925, 2.349600076675415, 2.349100112915039, 2.3485000133514404, 2.348299980163574, 2.348299980163574, 2.3480000495910645, 2.3475000858306885, 2.346100091934204, 2.3459999561309814, 2.345900058746338, 2.3457999229431152, 2.3457000255584717, 2.338900089263916, 2.3196001052856445, 2.3389999866485596, 2.302299976348877, 2.2755000591278076, 2.2042999267578125, 2.3299999237060547, 2.147200107574463, 2.1877999305725098, 2.051800012588501, 2.0274999141693115, 1.8394999504089355, 2.1923000812530518, 2.1480000019073486, 1.6542999744415283, 1.4115999937057495, 1.5436999797821045, 1.545300006866455, 1.646299958229065, 1.523900032043457, 1.8248000144958496, 1.5295000076293945, 1.751099944114685, 1.6523000001907349, 0.6791999936103821, 0.8968999981880188, 1.0371999740600586, 0.4311999976634979, 1.701300024986267, 0.8578000068664551, 1.3662999868392944, 0.7857999801635742, 1.618399977684021, 0.8222000002861023, 0.5386000275611877, 1.2976000308990479, 0.20669999718666077, 0.4848000109195709, 1.4522000551223755, 0.5580999851226807, 0.8382999897003174, 0.3864000141620636, 0.28619998693466187, 0.8029999732971191, 0.6565999984741211, 0.011900000274181366, 2.3798999786376953, 2.3798999786376953, 2.378499984741211, 2.3766000270843506, 2.375499963760376, 2.3740999698638916, 2.373300075531006, 2.372499942779541, 2.3714001178741455, 2.370500087738037, 2.3701000213623047, 2.369999885559082, 2.368499994277954, 2.368299961090088, 2.368299961090088, 2.368299961090088, 2.3671000003814697, 2.36680006980896, 2.36680006980896, 2.3620998859405518, 2.3603999614715576, 2.3598999977111816, 2.359100103378296, 2.358599901199341, 2.3584001064300537, 2.3566999435424805, 2.3561999797821045, 2.3547000885009766, 2.354099988937378, 2.3517000675201416, 2.3438000679016113, 2.335099935531616, 2.316800117492676, 2.300800085067749, 2.2569000720977783, 2.3029000759124756, 2.3150999546051025, 2.211199998855591, 2.2153000831604004, 2.265399932861328, 2.0013999938964844, 1.9333000183105469, 2.040299892425537, 2.044600009918213, 2.2713000774383545, 1.8098000288009644, 2.022900104522705, 2.054800033569336, 1.86899995803833, 1.7151000499725342, 1.5368000268936157, 1.3076000213623047, 1.6536999940872192, 1.4869999885559082, 1.861299991607666, 1.2023999691009521, 0.8837000131607056, 1.0907000303268433, 0.9804999828338623, 0.508400022983551, 0.8427000045776367, 0.02290000021457672, 0.5146999955177307, 0.7060999870300293, 0.9074000120162964, 0.748199999332428, -0.6259999871253967, 0.43320000171661377, 0.498199999332428, 2.456399917602539, 2.454900026321411, 2.454900026321411, 2.4539999961853027, 2.453399896621704, 2.4530999660491943, 2.453000068664551, 2.4528000354766846, 2.4526000022888184, 2.4507999420166016, 2.450700044631958, 2.450500011444092, 2.450500011444092, 2.450200080871582, 2.4498000144958496, 2.44950008392334, 2.4491000175476074, 2.448699951171875, 2.4486000537872314, 2.4482998847961426, 2.4475998878479004, 2.447499990463257, 2.4474000930786133, 2.446700096130371, 2.4465999603271484, 2.4460999965667725, 2.446000099182129, 2.4458000659942627, 2.445199966430664, 2.444999933242798, 2.4323999881744385, 2.4423999786376953, 2.4065001010894775, 2.4019999504089355, 2.400700092315674, 2.418299913406372, 2.391700029373169, 2.398900032043457, 2.3268001079559326, 2.4042999744415283, 2.2959001064300537, 2.1438000202178955, 2.0762999057769775, 2.3947999477386475, 2.0792999267578125, 2.3882999420166016, 1.9736000299453735, 2.0636000633239746, 1.5745999813079834, 1.6410000324249268, 1.1943000555038452, 1.7990000247955322, 1.4488999843597412, 2.0566999912261963, 2.0676000118255615, 1.2186000347137451, 1.9990999698638916, 1.443600058555603, 0.9948999881744385, 0.9168000221252441, 0.22849999368190765, 0.6044999957084656, -0.14470000565052032, -0.398499995470047, 0.20340000092983246, 1.4469000101089478, -0.06889999657869339, 0.15520000457763672, 0.36719998717308044, 0.09300000220537186, -0.28360000252723694, 0.7233999967575073, 2.4618000984191895, 2.4618000984191895, 2.4602999687194824, 2.4598000049591064, 2.4588000774383545, 2.458400011062622, 2.4581000804901123, 2.4581000804901123, 2.4581000804901123, 2.4579999446868896, 2.457900047302246, 2.457900047302246, 2.4574999809265137, 2.45740008354187, 2.4565999507904053, 2.455899953842163, 2.4553000926971436, 2.455199956893921, 2.454900026321411, 2.4547998905181885, 2.454699993133545, 2.4546000957489014, 2.454400062561035, 2.4542999267578125, 2.453900098800659, 2.4535999298095703, 2.4535000324249268, 2.453399896621704, 2.45169997215271, 2.4514999389648438, 2.4470999240875244, 2.4189999103546143, 2.4202001094818115, 2.3798999786376953, 2.3752999305725098, 2.446000099182129, 2.3689000606536865, 2.3826000690460205, 2.2571001052856445, 2.096299886703491, 2.1626999378204346, 2.0589001178741455, 2.1180999279022217, 2.2685999870300293, 2.0934998989105225, 1.832900047302246, 1.820099949836731, 1.8317999839782715, 1.6770999431610107, 1.4134000539779663, 1.4465999603271484, 2.007499933242798, 0.8043000102043152, 1.976199984550476, 1.5535000562667847, 0.8813999891281128, 0.4489000141620636, 1.1978000402450562, 1.4005999565124512, 1.596500039100647, 0.944599986076355, 0.5627999901771545, 0.7634999752044678, 0.6385999917984009, 0.6327999830245972, 0.5145000219345093, 0.34130001068115234, 0.9659000039100647, 0.3172999918460846, 2.680000066757202, 2.6796000003814697, 2.6786999702453613, 2.6782000064849854, 2.6777000427246094, 2.6758999824523926, 2.675600051879883, 2.675299882888794, 2.675100088119507, 2.6747000217437744, 2.6744000911712646, 2.6744000911712646, 2.6742000579833984, 2.6735000610351562, 2.67330002784729, 2.6730000972747803, 2.6728999614715576, 2.672800064086914, 2.6726999282836914, 2.6723999977111816, 2.6721999645233154, 2.671799898147583, 2.6700000762939453, 2.66729998588562, 2.6663999557495117, 2.666100025177002, 2.664900064468384, 2.664900064468384, 2.664299964904785, 2.6642000675201416, 2.6335999965667725, 2.6482999324798584, 2.6631999015808105, 2.6628000736236572, 2.6628000736236572, 2.6628000736236572, 2.6421000957489014, 2.5713000297546387, 2.5703999996185303, 2.52620005607605, 2.5587000846862793, 2.4595999717712402, 2.2874999046325684, 2.4179999828338623, 2.3724000453948975, 2.4507999420166016, 2.3612000942230225, 2.4565000534057617, 2.4551000595092773, 2.1833999156951904, 2.3828999996185303, 1.7014000415802002, 1.562000036239624, 2.186300039291382, 1.3278000354766846, 1.2462999820709229, 1.007699966430664, 0.9921000003814697, 0.6639999747276306, 0.9366999864578247, 0.8025000095367432, 1.445199966430664, 0.08789999783039093, -0.9847999811172485, 0.07010000199079514, 1.156499981880188, 0.4108000099658966, 0.1501999944448471, -1.230299949645996, 2.781399965286255, 2.779900074005127, 2.7797999382019043, 2.7797000408172607, 2.778899908065796, 2.777899980545044, 2.776400089263916, 2.7753000259399414, 2.773099899291992, 2.7730000019073486, 2.7715001106262207, 2.7708001136779785, 2.7702999114990234, 2.769399881362915, 2.7671000957489014, 2.7662999629974365, 2.7660999298095703, 2.764899969100952, 2.7646000385284424, 2.763200044631958, 2.7623000144958496, 2.761699914932251, 2.7614998817443848, 2.7611000537872314, 2.758699893951416, 2.758699893951416, 2.7585999965667725, 2.758500099182129, 2.75819993019104, 2.75819993019104, 2.7358999252319336, 2.748300075531006, 2.73009991645813, 2.6770999431610107, 2.71560001373291, 2.663300037384033, 2.6930999755859375, 2.5796000957489014, 2.3071000576019287, 2.238800048828125, 2.6875, 2.3578999042510986, 2.32069993019104, 2.0989999771118164, 2.1907999515533447, 2.5864999294281006, 1.93149995803833, 1.999899983406067, 2.3875999450683594, 2.2039999961853027, 1.7589999437332153, 2.3027000427246094, 1.6366000175476074, 1.344099998474121, 0.32190001010894775, 1.1828999519348145, 0.08370000123977661, 1.3259999752044678, 0.949400007724762, 1.4797999858856201, 1.5231000185012817, 1.3346999883651733, 0.5019000172615051, 0.48330000042915344, 0.43149998784065247, -0.04899999871850014, 0.07859999686479568, 0.40799999237060547, 2.983799934387207, 2.983299970626831, 2.9830000400543213, 2.9828999042510986, 2.9827001094818115, 2.982599973678589, 2.9825000762939453, 2.9825000762939453, 2.9823999404907227, 2.9820001125335693, 2.981800079345703, 2.9814999103546143, 2.9809000492095947, 2.9804999828338623, 2.980299949645996, 2.98009991645813, 2.97979998588562, 2.9791998863220215, 2.9791998863220215, 2.978800058364868, 2.978600025177002, 2.9784998893737793, 2.9783999919891357, 2.97760009765625, 2.9772000312805176, 2.9769999980926514, 2.9769999980926514, 2.976900100708008, 2.9763998985290527, 2.9760000705718994, 2.972399950027466, 2.9674999713897705, 2.9756999015808105, 2.9630000591278076, 2.9748001098632812, 2.926500082015991, 2.8445000648498535, 2.643399953842163, 2.7125000953674316, 2.8580000400543213, 2.5629000663757324, 2.732100009918213, 2.433799982070923, 2.861599922180176, 2.5873000621795654, 2.699199914932251, 1.8413000106811523, 2.856300115585327, 1.8144999742507935, 2.1665000915527344, 1.319000005722046, 2.4339001178741455, 1.0429999828338623, 0.40610000491142273, 0.8777999877929688, 0.6707000136375427, -0.6629999876022339, 2.352799892425537, 1.1288000345230103, 0.5473999977111816, -0.3084999918937683]}, \"token.table\": {\"Topic\": [9, 5, 8, 9, 1, 2, 3, 4, 5, 6, 7, 8, 9, 10, 5, 1, 2, 3, 6, 7, 8, 9, 1, 2, 3, 4, 5, 6, 7, 8, 9, 8, 1, 2, 3, 4, 5, 6, 7, 8, 9, 1, 2, 3, 4, 6, 7, 8, 9, 1, 2, 3, 4, 5, 6, 7, 8, 9, 10, 1, 2, 3, 4, 5, 6, 7, 8, 10, 2, 6, 7, 9, 1, 2, 3, 4, 6, 7, 9, 10, 1, 2, 3, 4, 5, 6, 7, 8, 9, 10, 10, 3, 6, 7, 4, 10, 10, 1, 2, 3, 4, 5, 6, 7, 8, 9, 10, 1, 2, 3, 6, 8, 1, 2, 3, 4, 5, 6, 7, 8, 9, 10, 2, 1, 2, 4, 5, 8, 9, 4, 10, 3, 1, 2, 3, 4, 5, 6, 7, 8, 9, 10, 1, 2, 3, 4, 6, 7, 9, 1, 2, 3, 6, 8, 9, 1, 2, 3, 4, 5, 6, 7, 8, 9, 10, 2, 5, 7, 8, 4, 2, 7, 8, 1, 3, 4, 5, 1, 2, 7, 8, 9, 1, 2, 3, 4, 5, 6, 8, 1, 2, 3, 4, 5, 6, 7, 8, 9, 10, 3, 4, 6, 7, 8, 9, 7, 1, 2, 3, 4, 5, 6, 7, 8, 9, 10, 6, 7, 8, 2, 6, 6, 8, 9, 1, 2, 8, 9, 4, 10, 10, 3, 4, 7, 7, 8, 9, 1, 4, 10, 1, 4, 7, 8, 3, 10, 8, 2, 1, 2, 7, 10, 5, 8, 10, 2, 3, 6, 9, 3, 1, 2, 4, 5, 8, 10, 1, 2, 3, 4, 5, 6, 7, 8, 9, 10, 1, 4, 10, 7, 1, 2, 3, 4, 6, 7, 8, 9, 10, 4, 1, 2, 3, 4, 5, 6, 7, 8, 9, 7, 3, 4, 5, 8, 5, 1, 2, 3, 4, 5, 7, 8, 9, 2, 10, 1, 2, 3, 8, 3, 2, 3, 4, 6, 7, 1, 2, 3, 4, 5, 6, 7, 8, 9, 10, 8, 6, 4, 1, 2, 3, 4, 5, 6, 7, 8, 9, 10, 6, 8, 1, 1, 2, 5, 6, 8, 1, 2, 3, 4, 5, 6, 7, 8, 9, 10, 3, 1, 2, 3, 4, 5, 6, 7, 8, 9, 3, 4, 1, 2, 3, 4, 5, 6, 7, 8, 9, 10, 1, 3, 4, 1, 2, 3, 6, 8, 6, 1, 2, 3, 4, 5, 6, 8, 9, 7, 8, 1, 2, 3, 4, 5, 6, 7, 8, 9, 10, 8, 7, 8, 9, 1, 2, 3, 6, 7, 9, 1, 3, 6, 7, 9, 10, 3, 1, 2, 3, 4, 6, 8, 10, 1, 2, 3, 4, 5, 6, 7, 8, 9, 10, 8, 2, 1, 2, 3, 4, 5, 6, 7, 8, 9, 1, 2, 4, 6, 7, 8, 9, 1, 2, 3, 5, 6, 7, 8, 10, 4, 1, 6, 7, 1, 7, 8, 9, 3, 3, 7, 9, 5, 1, 2, 3, 4, 5, 6, 7, 8, 9, 10, 1, 5, 1, 2, 1, 2, 3, 4, 5, 6, 7, 8, 9, 10, 6, 1, 2, 3, 4, 6, 7, 9, 1, 2, 3, 4, 5, 6, 7, 1, 2, 3, 4, 5, 6, 7, 8, 9, 10, 2, 1, 2, 3, 4, 5, 6, 7, 8, 10, 1, 2, 3, 4, 5, 6, 7, 8, 9, 10, 1, 10, 10, 1, 2, 3, 4, 5, 6, 7, 8, 9, 10, 1, 2, 6, 10, 2, 2, 3, 6, 1, 2, 3, 4, 5, 6, 8, 9, 10, 6, 4, 1, 2, 3, 4, 5, 6, 7, 8, 9, 10, 9, 1, 2, 3, 4, 5, 6, 7, 8, 10, 1, 2, 3, 4, 6, 8, 10, 2, 8, 2, 5, 7, 8, 5, 8, 9, 1, 3, 6, 2, 1, 3, 6, 7, 9, 8, 1, 3, 1, 5, 7, 4, 8, 2, 4, 5, 3, 6, 5, 5, 9, 7, 1, 9, 1, 2, 3, 4, 5, 6, 7, 8, 9, 10, 1, 2, 3, 4, 5, 6, 10, 5, 5, 1, 2, 3, 4, 6, 7, 8, 9, 10, 8, 2, 3, 4, 5, 1, 2, 4, 6, 7, 8, 1, 2, 3, 4, 5, 6, 7, 8, 9, 10, 2, 9, 4, 7, 5, 2, 4, 5, 6, 7, 9, 7, 9, 7, 3, 8, 2, 5, 6, 7, 10, 8, 9, 6, 1, 1, 2, 4, 6, 6, 8, 4, 10, 6, 1, 1, 2, 3, 6, 8, 1, 2, 3, 4, 6, 7, 8, 9, 1, 2, 5, 7, 8, 9, 9, 1, 2, 3, 4, 5, 6, 7, 8, 9, 10, 1, 1, 2, 3, 4, 5, 6, 7, 8, 9, 10, 10, 2, 8, 1, 2, 3, 4, 5, 6, 7, 8, 9, 1, 2, 3, 4, 6, 7, 8, 9, 1, 2, 3, 4, 5, 6, 7, 8, 9, 10, 10, 4, 1, 6, 8, 9, 7, 1, 2, 5, 7, 8, 9, 7, 6, 1, 3, 10, 9, 1, 2, 8, 9, 6, 2, 8, 2, 3, 8, 1, 2, 3, 4, 5, 6, 7, 8, 9, 10, 6, 10, 1, 2, 3, 4, 5, 6, 7, 8, 9, 10, 1, 2, 3, 4, 5, 6, 7, 8, 9, 10, 6, 7, 8, 6, 1, 2, 3, 6, 7, 8, 1, 2, 4, 6, 1, 2, 3, 4, 5, 6, 7, 8, 1, 2, 3, 4, 5, 6, 7, 8, 9, 10, 1, 2, 3, 4, 5, 6, 7, 8, 9, 10, 1, 2, 3, 5, 6, 7, 8, 9, 1, 2, 3, 4, 5, 6, 7, 8, 9, 10, 3, 6, 8, 9, 10, 2, 3, 1, 2, 3, 4, 5, 6, 7, 8, 5, 6, 2, 3, 4, 6, 2, 5, 9, 1, 1, 2, 3, 4, 6, 7, 8, 8, 8, 9, 1, 2, 3, 4, 5, 6, 7, 8, 9, 10, 1, 2, 7, 9, 1, 2, 4, 7, 8, 10, 1, 2, 4, 7, 8, 10, 1, 4, 8, 10, 6, 2, 4, 6, 7, 4, 1, 7, 9, 1, 5, 7, 1, 2, 3, 4, 5, 6, 7, 8, 9, 10, 1, 2, 3, 5, 6, 7, 8, 10, 10, 1, 2, 3, 4, 6, 7, 9, 1, 2, 3, 4, 5, 6, 7, 8, 9, 4, 7, 10, 6, 1, 2, 3, 4, 5, 6, 7, 8, 9, 10, 7, 1, 2, 3, 4, 5, 6, 7, 8, 7, 7, 1, 2, 3, 4, 5, 6, 7, 8, 9, 10, 1, 2, 3, 5, 6, 5, 1, 2, 3, 4, 5, 6, 7, 8, 9, 10, 1, 2, 3, 4, 5, 6, 7, 8, 9, 10, 7, 8, 9, 3, 9, 1, 2, 3, 4, 5, 6, 7, 8, 9, 10, 1, 2, 3, 4, 5, 6, 7, 9, 2, 8, 2, 4, 6, 1, 2, 4, 6, 7, 10, 8, 1, 2, 3, 4, 5, 6, 7, 8, 9, 10, 1, 2, 3, 4, 5, 6, 7, 8, 9, 10, 6, 1, 2, 3, 4, 6, 7, 8, 9, 10, 1, 10, 1, 2, 3, 4, 5, 6, 7, 8, 9, 10, 10, 1, 2, 3, 4, 5, 6, 7, 8, 9, 10, 3, 1, 2, 3, 7, 8, 9, 1, 2, 3, 4, 5, 6, 7, 8, 9, 10, 1, 2, 3, 4, 5, 6, 7, 8, 9, 10, 10, 5, 8, 9, 8, 7, 2, 9, 1, 2, 3, 4, 5, 6, 7, 8, 1, 2, 5, 6, 7, 8, 9, 10, 2, 3, 10, 10, 1, 2, 3, 4, 5, 6, 7, 1, 2, 3, 4, 5, 6, 7, 8, 9, 10, 2, 2, 3, 4, 5, 6, 7, 8, 9, 10, 1, 2, 3, 4, 5, 6, 7, 8, 10, 5, 10, 1, 2, 3, 4, 5, 6, 7, 8, 9, 1, 10, 1, 2, 3, 4, 5, 6, 7, 8, 9, 10, 1, 2, 3, 4, 5, 6, 7, 8, 9, 10, 7, 5, 1, 1, 2, 3, 4, 5, 6, 7, 8, 9, 10, 1, 1, 2, 3, 4, 5, 6, 7, 8, 9, 10, 1, 2, 3, 4, 5, 6, 7, 8, 9, 10, 5, 1, 6, 1, 2, 3, 4, 5, 6, 7, 8, 9, 1, 2, 3, 4, 5, 6, 7, 8, 9, 10, 1, 2, 3, 5, 6, 7, 8, 2, 7, 1, 2, 3, 8, 3, 8, 1, 2, 4, 6, 7, 1, 2, 3, 4, 5, 6, 7, 8, 9, 10, 8, 5, 1, 2, 3, 4, 6, 7, 8, 10, 1, 7, 4, 7, 8, 9, 9, 8, 4, 5, 5, 2, 5, 6, 1, 2, 5, 8, 9, 3, 3, 7, 8, 1, 2, 3, 4, 5, 6, 7, 8, 9, 1, 2, 3, 4, 6, 7, 6, 1, 2, 3, 4, 5, 6, 7, 8, 9, 1, 2, 4, 6, 7, 8, 9, 10, 6, 7, 1, 2, 3, 4, 5, 6, 7, 8, 9, 10, 4, 1, 2, 3, 4, 5, 6, 7, 8, 9, 10, 2, 6, 10, 1, 2, 3, 4, 6, 8, 4, 1, 1, 2, 4, 6, 10, 6, 1, 2, 3, 4, 5, 6, 7, 8, 9, 10, 1, 3, 6, 7, 8, 10, 9, 3, 4, 7, 8, 9, 1, 1, 2, 4, 5, 7, 8, 9, 4, 2, 8, 1, 2, 3, 4, 5, 6, 7, 8, 9, 3, 4, 8, 9, 7, 10, 1, 2, 3, 4, 5, 6, 7, 8, 9, 10, 2, 1, 1, 2, 3, 4, 5, 6, 7, 8, 9, 10, 1, 2, 5, 1, 2, 3, 4, 5, 6, 7, 8, 7, 1, 2, 3, 4, 5, 6, 7, 8, 9, 10, 2, 9, 9, 10, 1, 2, 8, 1, 3, 4, 6, 7, 8, 8, 3, 3, 7, 9, 4, 7, 2, 3, 7, 8, 9, 4, 2, 3, 6, 8, 10, 1, 2, 3, 4, 5, 6, 7, 8, 9, 10, 8, 8, 2, 8, 6, 9, 3, 3, 7, 2, 6, 7, 1, 2, 3, 4, 6, 9, 10, 7, 10, 1, 2, 3, 4, 5, 6, 7, 8, 9, 10, 1, 2, 3, 4, 5, 6, 7, 8, 9, 10, 2, 8, 2, 5, 8, 3, 9, 1, 4, 6, 7, 1, 2, 5, 7, 1, 2, 3, 5, 6, 7, 8, 9, 3, 6, 7, 2, 1, 2, 3, 4, 5, 6, 7, 8, 9, 10, 1, 2, 3, 4, 5, 6, 7, 8, 9, 10, 2, 7, 10, 1, 2, 3, 6, 10, 3, 1, 2, 3, 4, 6, 8, 4, 8, 5, 1, 2, 3, 5, 6, 8, 4, 1, 2, 4, 5, 8, 9, 10, 9, 1, 2, 3, 4, 5, 6, 7, 8, 9, 7, 3, 9, 1, 2, 3, 4, 5, 6, 7, 8, 1, 5, 1, 2, 3, 5, 6, 8, 3, 3, 2, 8, 1, 2, 3, 4, 5, 7, 8, 9, 10, 10, 1, 2, 3, 6, 7, 9, 6, 6, 10, 1, 2, 3, 4, 5, 6, 7, 8, 9, 1, 2, 3, 5, 6, 7, 8, 9, 10, 2, 1, 2, 3, 4, 5, 6, 7, 8, 9, 10, 1, 2, 3, 4, 5, 6, 7, 8, 9, 10, 1, 2, 3, 4, 5, 6, 7, 8, 9, 10, 1, 1, 2, 3, 4, 6, 7, 9, 1, 6, 7, 9, 3, 1, 2, 3, 4, 6, 7, 8, 9, 1, 2, 5, 6, 7, 8, 9, 10, 8, 1, 2, 6, 8, 1, 1, 2, 3, 4, 5, 6, 7, 8, 9, 3, 4, 1, 2, 7, 7, 9, 2, 6, 2, 7, 10, 10, 3, 2, 3, 6, 8, 4, 1, 2, 4, 6, 7, 8, 3, 4, 9, 1, 2, 3, 4, 6, 8, 1, 2, 7, 1, 4, 5, 6, 7, 8, 1, 2, 3, 4, 5, 6, 7, 8, 9, 2, 9, 1, 2, 3, 4, 5, 6, 7, 8, 9, 7, 9, 9, 5, 1, 2, 3, 4, 5, 6, 7, 8, 10, 1, 2, 3, 4, 5, 6, 7, 8, 10, 3, 4, 5, 10, 3, 1, 2, 5, 8, 9, 5, 1, 6, 7, 8, 9, 10, 7, 8, 6, 1, 5, 6, 9, 1, 2, 3, 4, 6, 9, 1, 2, 3, 10, 6, 2, 2, 3, 6, 10, 2, 10, 1, 2, 3, 4, 5, 6, 7, 8, 9, 4, 7, 2, 5, 8, 4, 9, 1, 2, 3, 4, 5, 6, 7, 8, 9, 1, 3, 4, 5, 6, 7, 1, 3, 4, 5, 6, 7, 1, 2, 3, 4, 5, 6, 7, 8, 9, 10, 6, 10, 1, 2, 3, 4, 5, 6, 7, 8, 9, 10, 5, 1, 2, 3, 4, 5, 6, 7, 8, 9, 10, 6, 8, 9, 6, 8, 6, 8, 1, 5, 6, 8, 9, 1, 3, 5, 6, 7, 8, 9, 2, 3, 4, 8, 1, 2, 7, 9, 3, 7, 1, 2, 3, 4, 5, 6, 7, 8, 10, 3, 1, 4, 10, 9, 1, 2, 3, 2, 8, 5, 1, 2, 3, 4, 5, 6, 7, 8, 9, 10, 4, 1, 2, 3, 6, 7, 8, 4, 7, 1, 2, 3, 4, 5, 6, 7, 8, 9, 1, 3, 6, 1, 2, 3, 4, 5, 6, 7, 8, 9, 10, 1, 3, 5, 7, 4, 7, 10, 6, 10, 1, 1, 4, 2, 6, 8, 10, 1, 2, 3, 4, 5, 6, 7, 8, 9, 10, 2, 2, 10, 5, 1, 2, 3, 4, 5, 6, 7, 8, 5, 6, 1, 6, 7, 8, 1, 2, 3, 6, 7, 10, 5, 7, 8, 4, 1, 2, 3, 4, 5, 6, 7, 8, 9, 10, 9, 1, 2, 3, 4, 5, 6, 7, 8, 9, 10, 1, 2, 3, 4, 5, 6, 7, 8, 9, 10, 5, 6], \"Freq\": [0.9818121790885925, 0.6987900137901306, 0.2983042299747467, 0.0016480896156281233, 0.09509585052728653, 0.20556825399398804, 0.134955495595932, 0.22997669875621796, 0.02157197892665863, 0.2824510931968689, 0.009852944873273373, 0.0008957222453318536, 0.0194819588214159, 7.464352529495955e-05, 0.9839181303977966, 0.01117728278040886, 0.0022354566026479006, 0.007824097760021687, 0.27328455448150635, 0.4202658236026764, 0.0005588641506619751, 0.28390297293663025, 0.011280616745352745, 0.0851173847913742, 0.0910140722990036, 0.005896686110645533, 0.12947072088718414, 0.0010255106026306748, 0.0002563776506576687, 0.6750423908233643, 0.0010255106026306748, 0.9905464053153992, 0.0008219562587328255, 0.025480644777417183, 0.013151300139725208, 0.0345221646130085, 0.0789078027009964, 0.6846895813941956, 0.055893026292324066, 0.005753693636506796, 0.10027866810560226, 0.004282995127141476, 0.0005353743908926845, 0.060497306287288666, 0.0005353743908926845, 0.6826023459434509, 0.04711294546723366, 0.0005353743908926845, 0.2034422606229782, 0.051966458559036255, 0.006723423488438129, 0.6231772899627686, 0.010085134766995907, 0.05434767156839371, 0.06597359478473663, 0.16122208535671234, 0.0007003566133789718, 0.0016808558721095324, 0.02423233911395073, 0.11654967814683914, 0.40387701988220215, 0.13961680233478546, 0.14973396062850952, 0.0008093727519735694, 0.08336539566516876, 0.10198096930980682, 0.0016187455039471388, 0.00242811837233603, 0.0009351789485663176, 0.0009351789485663176, 0.0009351789485663176, 0.9978359341621399, 0.00026161089772358537, 0.0005232217954471707, 0.00026161089772358537, 0.0005232217954471707, 0.010464436374604702, 0.0005232217954471707, 0.0005232217954471707, 0.9865347146987915, 0.2200014740228653, 0.13412527740001678, 0.29309526085853577, 0.08605622500181198, 0.06589242070913315, 0.06751272827386856, 0.03240611031651497, 0.013502545654773712, 0.07093337178230286, 0.016383089125156403, 0.986234724521637, 0.9971712827682495, 0.9896218180656433, 0.006824978161603212, 0.9973202347755432, 0.9968559741973877, 0.9981396198272705, 0.3520219326019287, 0.07210803776979446, 0.18145868182182312, 0.047147564589977264, 0.0873616635799408, 0.11767081171274185, 0.07389093190431595, 0.05229813605546951, 0.01564982160925865, 0.000594297016505152, 0.06303819268941879, 0.05348695069551468, 0.08023042231798172, 0.0019102481892332435, 0.7984837293624878, 0.11004506796598434, 0.03823599964380264, 0.32795917987823486, 0.08921732753515244, 0.05067047104239464, 0.08812931180000305, 0.1827867329120636, 0.011812747456133366, 0.10040835291147232, 0.0006217235350050032, 0.9795575141906738, 0.0005682209739461541, 0.0005682209739461541, 0.0005682209739461541, 0.9966596364974976, 0.0005682209739461541, 0.0005682209739461541, 0.003404476447030902, 0.9941071271896362, 0.980487048625946, 0.05731328949332237, 0.24562837183475494, 0.26309528946876526, 0.1435561329126358, 0.027019120752811432, 0.1763065904378891, 0.033023372292518616, 0.05240071937441826, 0.0010916816536337137, 0.0005458408268168569, 0.010638680309057236, 0.0070924535393714905, 0.7996740937232971, 0.15426085889339447, 0.02127736061811447, 0.0017731133848428726, 0.0035462267696857452, 0.03363880515098572, 0.000731278327293694, 0.003290752414613962, 0.00767842261120677, 0.9543182253837585, 0.000365639163646847, 0.03448867425322533, 0.21335406601428986, 0.056371141225099564, 0.0038056466728448868, 0.42956238985061646, 0.003329940838739276, 0.08063214272260666, 0.1748218983411789, 0.0009514116682112217, 0.0023785291705280542, 0.01176491379737854, 0.9367812871932983, 0.0044118426740169525, 0.04558904096484184, 0.9880774021148682, 0.14576469361782074, 0.8228652477264404, 0.028212521225214005, 0.9881852269172668, 0.00994817353785038, 0.9908730983734131, 0.9891771674156189, 0.848253607749939, 0.0025940476916730404, 0.10895000398159027, 0.018158333376049995, 0.020752381533384323, 0.09795431792736053, 0.010203574784100056, 0.010203574784100056, 0.8366931676864624, 0.006122144870460033, 0.002040714956820011, 0.03469215705990791, 0.0034755775704979897, 0.006516708061099052, 0.7240062952041626, 0.2170063853263855, 0.020636241883039474, 0.00716837914660573, 0.0036928013432770967, 0.01433675829321146, 0.0019550123251974583, 0.0008688943926244974, 0.8890382647514343, 0.009769651107490063, 0.001953930128365755, 0.07424934953451157, 0.025401093065738678, 0.9764653444290161, 0.9979414343833923, 0.19171911478042603, 0.07944323867559433, 0.0548187680542469, 0.027849106118083, 0.07856379449367523, 0.015097146853804588, 0.11696624755859375, 0.00644926680251956, 0.42711734771728516, 0.002052039373666048, 0.9438809752464294, 0.055522412061691284, 0.9879743456840515, 0.06289146840572357, 0.9355105757713318, 0.0021462964359670877, 0.02790185436606407, 0.9658334255218506, 0.9829002618789673, 0.009185983799397945, 0.057546861469745636, 0.9399320483207703, 0.9917618632316589, 0.9945207834243774, 0.9941793084144592, 0.003729413030669093, 0.995753288269043, 0.9985410571098328, 0.0073579768650233746, 0.07357977330684662, 0.9123891592025757, 0.9923740029335022, 0.004402671474963427, 0.990601122379303, 0.9977731108665466, 0.9374342560768127, 0.02867152728140354, 0.03241129219532013, 0.9940353035926819, 0.006024456117302179, 0.9899264574050903, 0.9947847127914429, 0.23291051387786865, 0.011549281887710094, 0.001924880314618349, 0.7507033348083496, 0.1996908336877823, 0.7987633347511292, 0.9924988746643066, 0.08421933650970459, 0.9143813252449036, 0.04418754577636719, 0.9500322341918945, 0.9952445030212402, 0.11170905828475952, 0.24428683519363403, 0.0012275719782337546, 0.594144880771637, 0.0220962967723608, 0.025779012590646744, 0.007582784630358219, 0.015797467902302742, 0.035386327654123306, 0.043601009994745255, 0.011374176479876041, 0.016429366543889046, 0.059398479759693146, 0.8018794655799866, 0.007582784630358219, 0.0012637973995879292, 0.0007652618223801255, 0.8502058982849121, 0.14846079051494598, 0.9840901494026184, 0.5407778024673462, 0.15743723511695862, 0.05560696870088577, 0.13484689593315125, 0.04240031540393829, 0.022937875241041183, 0.0427478589117527, 0.00034754356602206826, 0.0024328050203621387, 0.9887113571166992, 0.24362945556640625, 0.1934421807527542, 0.04653380438685417, 0.03249674662947655, 0.2290155440568924, 0.2315152883529663, 0.018459690734744072, 0.0042303455993533134, 0.0005768653354607522, 0.9945744872093201, 0.9924057722091675, 0.0010250479681417346, 0.9983967542648315, 0.00025626199203543365, 0.9836112856864929, 0.005488621070981026, 0.23738285899162292, 0.023326639086008072, 0.05351405218243599, 0.004116465803235769, 0.021954484283924103, 0.6106090545654297, 0.043908968567848206, 0.99248868227005, 0.9960461258888245, 0.007275388576090336, 0.018188470974564552, 0.960351288318634, 0.010913082398474216, 0.9738499522209167, 0.047945354133844376, 0.0029057790525257587, 0.0014528895262628794, 0.9443781971931458, 0.0014528895262628794, 0.10703834146261215, 0.16701672971248627, 0.20869401097297668, 0.0016916979802772403, 0.2463727444410324, 0.09319718182086945, 0.16040372848510742, 0.0038447680417448282, 0.010765350423753262, 0.0012303257826715708, 0.988865315914154, 0.992015540599823, 0.9897070527076721, 0.25303518772125244, 0.418137788772583, 0.06388852745294571, 0.11564052104949951, 0.07648303359746933, 0.04053143039345741, 0.005266795866191387, 0.024502050131559372, 0.0022899112664163113, 0.00022899112082086504, 0.9909719824790955, 0.008258099667727947, 0.9918991923332214, 0.08306457102298737, 0.7608714699745178, 0.134564608335495, 0.02076614275574684, 0.0008306457311846316, 0.4423428475856781, 0.0199583787471056, 0.03339973837137222, 0.04256429895758629, 0.0008146277396008372, 0.21404343843460083, 0.045415494590997696, 0.18492048978805542, 0.016496211290359497, 0.0004073138698004186, 0.9874234795570374, 0.15082378685474396, 0.007896533235907555, 0.3711370527744293, 0.00026321777841076255, 0.12239626795053482, 0.08949404209852219, 0.010002275928854942, 0.010791928507387638, 0.23742243647575378, 0.8956283330917358, 0.10171173512935638, 0.2830609381198883, 0.02420915849506855, 0.07523461431264877, 0.1150866150856018, 0.08789786696434021, 0.04618362337350845, 0.34563228487968445, 0.00372448586858809, 0.018994877114892006, 0.000372448586858809, 0.011938628740608692, 0.023877257481217384, 0.9670289754867554, 0.002663868945091963, 0.005327737890183926, 0.97763991355896, 0.002663868945091963, 0.010655475780367851, 0.9940329194068909, 0.0018295644549652934, 0.024699119850993156, 0.8031787872314453, 0.0009147822274826467, 0.10154082626104355, 0.006403475534170866, 0.006403475534170866, 0.05488693341612816, 0.9911818504333496, 0.9969456195831299, 0.047819457948207855, 0.09431975334882736, 0.1200433298945427, 0.007585155311971903, 0.03034062124788761, 0.001648946781642735, 0.1253199577331543, 0.019127782434225082, 0.5537163615226746, 0.000329789356328547, 0.9876216053962708, 0.9944986701011658, 0.9937057495117188, 0.0030860428232699633, 0.769953191280365, 0.08884075284004211, 0.007148106582462788, 0.002042316133156419, 0.002042316133156419, 0.12866590917110443, 0.00033122242894023657, 0.9810808300971985, 0.0006624448578804731, 0.01722356677055359, 0.00033122242894023657, 0.00033122242894023657, 0.9823328256607056, 0.5276855826377869, 0.030519699677824974, 0.002136379014700651, 0.43063294887542725, 0.008240318857133389, 0.00030519699794240296, 0.00030519699794240296, 0.2828353941440582, 0.1244647428393364, 0.0025751327630132437, 0.4330514669418335, 0.015021607279777527, 0.10815557092428207, 0.007725398056209087, 0.009012964554131031, 0.000858377548865974, 0.01630917377769947, 0.992238461971283, 0.9818208813667297, 0.19643966853618622, 0.0023478844668716192, 0.014869935810565948, 0.47349005937576294, 0.07591493427753448, 0.08217595517635345, 0.12835101783275604, 0.021913588047027588, 0.00391314085572958, 0.04528570920228958, 0.8068006634712219, 0.07309272885322571, 0.007547618355602026, 0.0019862153567373753, 0.06316164880990982, 0.0019862153567373753, 0.0036567423958331347, 0.7947320342063904, 0.006094570737332106, 0.002437828341498971, 0.030472852289676666, 0.0012189141707494855, 0.15602101385593414, 0.004875656682997942, 0.9839838743209839, 0.9970236420631409, 0.0008514292421750724, 0.0008514292421750724, 0.16376546025276184, 0.012282409705221653, 0.004094136878848076, 0.8167802691459656, 0.9881809949874878, 0.7164597511291504, 0.19000549614429474, 0.09314903616905212, 0.9851955771446228, 0.13446657359600067, 0.17534835636615753, 0.06452425569295883, 0.2057880461215973, 0.22361840307712555, 0.0798918604850769, 0.05221046507358551, 0.014382505789399147, 0.012806340120732784, 0.037039875984191895, 0.9926720261573792, 0.992855966091156, 0.989949643611908, 0.005102833267301321, 0.04824001342058182, 0.003866566112264991, 0.3386007249355316, 0.008101376704871655, 0.00036824439303018153, 0.2894400954246521, 0.21892128884792328, 0.0027618329040706158, 0.0865374282002449, 0.0029459551442414522, 0.9864804148674011, 0.1186579093337059, 0.009510749019682407, 0.007246284745633602, 0.00045289279660210013, 0.19564968347549438, 0.6675639748573303, 0.00045289279660210013, 0.0033088098280131817, 0.875180184841156, 0.016544049605727196, 0.01819845288991928, 0.0016544049140065908, 0.08437465131282806, 0.0016544049140065908, 0.0912272110581398, 0.13675802946090698, 0.026821792125701904, 0.0009933997644111514, 0.036424655467271805, 0.0021523660980165005, 0.012086363509297371, 0.18775254487991333, 0.5049781799316406, 0.0008278330788016319, 0.9984945058822632, 0.01151331514120102, 0.04641305282711983, 0.0010793732944875956, 0.0007195821963250637, 0.8829273581504822, 0.0017989554908126593, 0.00035979109816253185, 0.05216971039772034, 0.0032381198834627867, 0.05547846853733063, 0.026058068498969078, 0.08475877344608307, 0.10115014016628265, 0.1424787938594818, 0.03908710181713104, 0.34996265172958374, 0.05842050909996033, 0.02101457118988037, 0.12146422266960144, 0.990673840045929, 0.995229959487915, 0.9960395097732544, 0.011634116992354393, 0.13379235565662384, 0.006711991038173437, 0.00268479622900486, 0.5136910080909729, 0.006711991038173437, 0.3136737048625946, 0.00939678680151701, 0.0004474660672713071, 0.0008949321345426142, 0.04467798396945, 0.8697313666343689, 0.020849725231528282, 0.0625491738319397, 0.9926027655601501, 0.022086309269070625, 0.03312946483492851, 0.9386681914329529, 0.012564119882881641, 0.15286345779895782, 0.7343029975891113, 0.010470099747180939, 0.0013960133073851466, 0.050256479531526566, 0.0006980066536925733, 0.0006980066536925733, 0.03699435293674469, 0.9935633540153503, 0.9776719212532043, 0.058138247579336166, 0.12700724601745605, 0.6420832872390747, 0.007047060411423445, 0.017297329381108284, 0.02402406930923462, 0.011531553231179714, 0.01857861317694187, 0.09305322915315628, 0.0012812836794182658, 0.9751932621002197, 0.01188225019723177, 0.0006253815954551101, 0.0006253815954551101, 0.4390178918838501, 0.08411382883787155, 0.05816049128770828, 0.4027457535266876, 0.0021888355258852243, 0.00031269079772755504, 0.02971285581588745, 0.0012734080664813519, 0.016978774219751358, 0.08234705775976181, 0.0004244693845976144, 0.0008489387691952288, 0.8680398464202881, 0.9931532740592957, 0.9891582727432251, 0.9349954724311829, 0.04621650651097298, 0.010665347799658775, 0.0035551157779991627, 0.03058343380689621, 0.9633781313896179, 0.003822929225862026, 0.012815365567803383, 0.042717885226011276, 0.944065272808075, 0.994835376739502, 0.0006450538639910519, 0.06321527808904648, 0.012901077046990395, 0.9159764647483826, 0.007095592096447945, 0.9934659600257874, 0.9685223698616028, 0.023337889462709427, 0.008709664456546307, 0.9890308380126953, 0.0009677405469119549, 0.9856626391410828, 0.009084448218345642, 0.0034724073484539986, 0.0590309239923954, 0.9340775609016418, 0.9533565640449524, 0.04424861818552017, 0.9965187311172485, 0.963666558265686, 0.9927059412002563, 0.9955595135688782, 0.9817814826965332, 0.017149021849036217, 0.03967602923512459, 0.00939695443958044, 0.10023417323827744, 0.5902678966522217, 0.004002406261861324, 0.12355254590511322, 0.12424861639738083, 0.00365437101572752, 0.0010441059712320566, 0.004002406261861324, 0.009203789755702019, 0.11745789647102356, 0.014024822972714901, 0.0017531028715893626, 0.8467487096786499, 0.00964206550270319, 0.00043827571789734066, 0.9693493247032166, 0.9838777184486389, 0.032332081347703934, 0.013741135597229004, 0.1107373833656311, 0.0008083020802587271, 0.0032332083210349083, 0.10022945702075958, 0.7347465753555298, 0.004041510168462992, 0.0008083020802587271, 0.9894194006919861, 0.0013919953489676118, 0.0013919953489676118, 0.0020879930816590786, 0.995276689529419, 0.957915723323822, 0.0035876992624253035, 0.0017938496312126517, 0.028701594099402428, 0.0035876992624253035, 0.0017938496312126517, 0.053476057946681976, 0.21910791099071503, 0.003764360211789608, 0.016275322064757347, 0.6387233734130859, 0.02247544564306736, 0.0002214329579146579, 0.041850827634334564, 0.0017714636633172631, 0.00243576243519783, 0.9950880408287048, 0.0037836048286408186, 0.9827050566673279, 0.9865869283676147, 0.9854390621185303, 0.8495358824729919, 0.006059457082301378, 0.003635674249380827, 0.10058698803186417, 0.03756863251328468, 0.0024237828329205513, 0.9959513545036316, 0.9880123734474182, 0.9983910322189331, 0.00045367045095190406, 0.9989823698997498, 0.03866824135184288, 0.9245225191116333, 0.02812235802412033, 0.0035152947530150414, 0.0035152947530150414, 0.9978801608085632, 0.975193440914154, 0.9919969439506531, 0.9981076121330261, 0.029533587396144867, 0.798690915107727, 0.14188961684703827, 0.029533587396144867, 0.984118640422821, 0.013481076806783676, 0.9907123446464539, 0.9907065033912659, 0.9949918389320374, 0.9934231638908386, 0.08657520264387131, 0.8837205171585083, 0.0032669890206307173, 0.013067956082522869, 0.011434460990130901, 0.06702101975679398, 0.6710585355758667, 0.21972712874412537, 0.009332040324807167, 0.02417846769094467, 0.004241836257278919, 0.0016967345727607608, 0.0021209181286394596, 0.002039379673078656, 0.007749643176794052, 0.007341767195612192, 0.000815751904156059, 0.002447255654260516, 0.979718029499054, 0.9849932193756104, 0.154411181807518, 0.22348986566066742, 0.06298350542783737, 0.04968493804335594, 0.03620166331529617, 0.03306172415614128, 0.07351154088973999, 0.00554107129573822, 0.35943081974983215, 0.0016623212723061442, 0.9847203493118286, 0.5335098505020142, 0.011747748591005802, 0.044560424983501434, 0.10329917073249817, 0.24670271575450897, 0.025115875527262688, 0.011342654004693031, 0.02309040166437626, 0.00040509479003958404, 0.9967775940895081, 0.9889014959335327, 0.009795457124710083, 0.9795457124710083, 0.0004941905499435961, 0.0024709526915103197, 0.0484306737780571, 0.9127699136734009, 0.012354763224720955, 0.0004941905499435961, 0.0009883810998871922, 0.0004941905499435961, 0.021250193938612938, 0.05041993409395218, 0.06423872709274292, 0.6935542225837708, 0.014565758407115936, 0.007469619624316692, 0.16433162987232208, 0.0003734809870366007, 0.004855252802371979, 0.21458512544631958, 0.5184788107872009, 0.07242553681135178, 0.013457448221743107, 0.091265968978405, 0.04012766480445862, 0.012968086637556553, 0.013457448221743107, 0.0004893617588095367, 0.023000001907348633, 0.9930956959724426, 0.9929192066192627, 0.14071239531040192, 0.8497925400733948, 0.001379533321596682, 0.0068976664915680885, 0.996724545955658, 0.001200736383907497, 0.0005146012990735471, 0.00017153377120848745, 0.0430549755692482, 0.00017153377120848745, 0.9547569751739502, 0.9959344863891602, 0.9889639019966125, 0.9790924787521362, 0.015062961727380753, 0.9853153824806213, 0.9877088665962219, 0.24926765263080597, 0.09575971215963364, 0.0007309901993721724, 0.6542361974716187, 0.992895245552063, 0.9656773805618286, 0.033345215022563934, 0.015507043339312077, 0.9614366888999939, 0.019383804872632027, 0.3893918991088867, 0.13532333076000214, 0.0017349144909530878, 0.056866638362407684, 0.2750803232192993, 0.028529703617095947, 0.005397511646151543, 0.103323794901371, 0.0003855365503113717, 0.004048133734613657, 0.9923572540283203, 0.9973183870315552, 0.5200226306915283, 0.14378848671913147, 0.02197803370654583, 0.03538835793733597, 0.11734034866094589, 0.05028872191905975, 0.04321105033159256, 0.04395606741309166, 0.02235054224729538, 0.0011175271356478333, 0.15286433696746826, 0.045672882348299026, 0.176166832447052, 0.26458314061164856, 0.029827188700437546, 0.10000097751617432, 0.1424780935049057, 0.017044108361005783, 0.0644480288028717, 0.006791011430323124, 0.007314178626984358, 0.9910712242126465, 0.0018285446567460895, 0.9863448739051819, 0.00790930911898613, 0.1570562720298767, 0.0677940770983696, 0.6734211444854736, 0.03050733357667923, 0.06327447295188904, 0.019865872338414192, 0.003973174374550581, 0.9734277129173279, 0.9922587871551514, 0.6872439384460449, 0.11756526678800583, 0.01972571574151516, 0.011046401225030422, 0.08994926512241364, 0.052864920347929, 0.0031561146024614573, 0.017358630895614624, 0.04099733382463455, 0.11239718645811081, 0.01013417262583971, 0.0004606442234944552, 0.04928893223404884, 0.02579607628285885, 0.6928089261054993, 0.03593024984002113, 0.03132380545139313, 0.9919598698616028, 0.20522023737430573, 0.021899579092860222, 0.05289454758167267, 0.16071464121341705, 0.15462161600589752, 0.06446246802806854, 0.2055734544992447, 0.07479412108659744, 0.0589875727891922, 0.0007947427802719176, 0.13402396440505981, 0.04088866710662842, 0.004543185234069824, 0.722366452217102, 0.002271592617034912, 0.024987518787384033, 0.002271592617034912, 0.07041937112808228, 0.05729419365525246, 0.05395666882395744, 0.12626972794532776, 0.011681340634822845, 0.7108929753303528, 0.009456323459744453, 0.006675051525235176, 0.017800137400627136, 0.00278127146884799, 0.003337525762617588, 0.6479852199554443, 0.06359536200761795, 0.00257819052785635, 0.0008593968232162297, 0.2844603359699249, 0.98956298828125, 0.0046898722648620605, 0.045564331114292145, 0.03189503401517868, 0.0015188110992312431, 0.0015188110992312431, 0.0015188110992312431, 0.10631677508354187, 0.0167069211602211, 0.7943382263183594, 0.9940899014472961, 0.98369300365448, 0.003910851664841175, 0.5044998526573181, 0.4864121675491333, 0.004399708006531, 0.12656766176223755, 0.04867986962199211, 0.8226897716522217, 0.9833840727806091, 0.01212749257683754, 0.041579972952604294, 0.0017324989894405007, 0.0034649979788810015, 0.027719983831048012, 0.9095619320869446, 0.0017324989894405007, 0.9804482460021973, 0.016657136380672455, 0.982771098613739, 0.09134212136268616, 0.3886372148990631, 0.06337014585733414, 0.011139282956719398, 0.00915896613150835, 0.05940951034426689, 0.019308090209960938, 0.2584313750267029, 0.0881241038441658, 0.011386822909116745, 0.8661002516746521, 0.10588686913251877, 0.013575239107012749, 0.010860191658139229, 0.22335219383239746, 0.0036317429039627314, 0.5138916373252869, 0.0018158714519813657, 0.0036317429039627314, 0.2533140778541565, 0.17736603319644928, 0.0031116846948862076, 0.8028146624565125, 0.00726059777662158, 0.0010372282704338431, 0.00726059777662158, 0.017666975036263466, 0.22045312821865082, 0.0007681293645873666, 0.7604480981826782, 0.9968359470367432, 0.01920061558485031, 0.02400076948106289, 0.9456303119659424, 0.004800153896212578, 0.9892085194587708, 0.0009359703399240971, 0.6907461285591125, 0.3079342544078827, 0.9873806834220886, 0.9711747765541077, 0.9898061156272888, 0.43883150815963745, 0.14377635717391968, 0.02644304186105728, 0.11536546051502228, 0.15361562371253967, 0.10755553841590881, 0.0034437451977282763, 0.010577216744422913, 0.00018448634364176542, 0.00018448634364176542, 0.0016848196974024177, 0.03229237720370293, 0.04577093571424484, 0.0002808032731991261, 0.012916951440274715, 0.22380021214485168, 0.028361132368445396, 0.6551140546798706, 0.9981235861778259, 0.0032604963053017855, 0.006520992610603571, 0.0013041985221207142, 0.0026083970442414284, 0.974236249923706, 0.01173778623342514, 0.0006520992610603571, 0.06171033903956413, 0.0952102392911911, 0.0008815762703306973, 0.010578915476799011, 0.0008815762703306973, 0.002644728869199753, 0.7405240535736084, 0.005289457738399506, 0.08110501617193222, 0.9874256253242493, 0.4230065941810608, 0.5752304196357727, 0.9890920519828796, 0.1789078712463379, 0.07087457925081253, 0.22580143809318542, 0.12489122152328491, 0.02006332390010357, 0.04535023495554924, 0.1197863519191742, 0.011159482412040234, 0.059833817183971405, 0.14329250156879425, 0.9939353466033936, 0.8306851387023926, 0.00019906186207663268, 0.01930900104343891, 0.08042099326848984, 0.037622690200805664, 0.012739959172904491, 0.0011943711433559656, 0.017716506496071815, 0.9941964149475098, 0.9882737398147583, 0.4168790578842163, 0.07664071768522263, 0.0023224458564072847, 0.3677206039428711, 0.022450311109423637, 0.015095898881554604, 0.02128908783197403, 0.009289783425629139, 0.004257817752659321, 0.06464141607284546, 0.689979076385498, 0.10485760867595673, 0.0016008795937523246, 0.1688927859067917, 0.03441891074180603, 0.9749719500541687, 0.1385534554719925, 0.04296605661511421, 0.06758705526590347, 0.10475993156433105, 0.038138408213853836, 0.03572458773851395, 0.5320066809654236, 0.023172704502940178, 0.010620823130011559, 0.00627594068646431, 0.006544243078678846, 0.0014315531589090824, 0.0008180303848348558, 0.002863106317818165, 0.6836689114570618, 0.001022537937387824, 0.007975796237587929, 0.09284644573926926, 0.202053502202034, 0.0006135227740742266, 0.0004666679888032377, 0.0004666679888032377, 0.9991361498832703, 0.9984601140022278, 0.9759404063224792, 0.383453369140625, 0.0486658550798893, 0.26380249857902527, 0.02752138115465641, 0.019634155556559563, 0.045477401465177536, 0.10605800151824951, 0.018291648477315903, 0.08625603467226028, 0.0006712531903758645, 0.1135050356388092, 0.07927335798740387, 0.0018016672693192959, 0.0018016672693192959, 0.023421674966812134, 0.6774268746376038, 0.102695032954216, 0.0018016672693192959, 0.11182611435651779, 0.8852900862693787, 0.007851745001971722, 0.0033650335390120745, 0.9870765209197998, 0.003990996163338423, 0.0004434440052136779, 0.0004434440052136779, 0.0022172199096530676, 0.9902104735374451, 0.0022172199096530676, 0.9994534254074097, 0.009839718230068684, 0.09040240943431854, 0.30349379777908325, 0.026444241404533386, 0.005842332728207111, 0.4415573477745056, 0.0036898942198604345, 0.04304876551032066, 0.012607138603925705, 0.06303569674491882, 0.255863755941391, 0.0151075329631567, 0.5351923704147339, 0.0054644267074763775, 0.00032143687712959945, 0.04017961025238037, 0.13982504606246948, 0.005785863846540451, 0.0006428737542591989, 0.0016071844147518277, 0.9850624203681946, 0.031824737787246704, 0.012729895301163197, 0.6477270126342773, 0.057284530252218246, 0.006739356555044651, 0.0007488174014724791, 0.009360217489302158, 0.23325660824775696, 0.00037440870073623955, 0.9388754963874817, 0.059561386704444885, 0.042804937809705734, 0.01222998183220625, 0.1360844522714615, 0.2211761176586151, 0.08612809330224991, 0.10488764196634293, 0.003420249093323946, 0.03430613502860069, 0.04062841460108757, 0.31839409470558167, 0.9976128339767456, 0.3617221713066101, 0.3188540041446686, 0.08290204405784607, 0.05774800479412079, 0.10522182285785675, 0.03613678738474846, 0.018422676250338554, 0.016296982765197754, 0.0021256934851408005, 0.0003542822378221899, 0.9825260639190674, 0.9849663972854614, 0.0019214274361729622, 0.007685709744691849, 0.5325099229812622, 0.0002744896337389946, 0.45729973912239075, 0.3496822416782379, 0.15795889496803284, 0.129479318857193, 0.021726688370108604, 0.0951276570558548, 0.04815103858709335, 0.07369457185268402, 0.105697400867939, 0.00910172052681446, 0.008808116428554058, 0.152354434132576, 0.21357740461826324, 0.052020348608493805, 0.058922313153743744, 0.3075207769870758, 0.029780691489577293, 0.02671315148472786, 0.1331823170185089, 0.009586059488356113, 0.016488023102283478, 0.9943875670433044, 0.06515968590974808, 0.3159257471561432, 0.6200042963027954, 0.9933808445930481, 0.9977084398269653, 0.9533983469009399, 0.04260998219251633, 0.13830125331878662, 0.001280567143112421, 0.6637606620788574, 0.0038417016621679068, 0.0017074228962883353, 0.0439661405980587, 0.14470408856868744, 0.002561134286224842, 0.004896588157862425, 0.26978620886802673, 0.12794311344623566, 0.0015795445069670677, 0.0006318177911452949, 0.01421590056270361, 0.5807985067367554, 0.00015795444778632373, 0.9807116389274597, 0.9879968762397766, 0.9914809465408325, 0.995002806186676, 0.16610053181648254, 0.07789541780948639, 0.009164166636765003, 0.017182812094688416, 0.07904093712568283, 0.016037292778491974, 0.6334730386734009, 0.10898023098707199, 0.004692928399890661, 0.00417149206623435, 0.11523746699094772, 0.00417149206623435, 0.00260718259960413, 0.012514475733041763, 0.035457681864500046, 0.271668404340744, 0.44061383605003357, 0.9804440140724182, 0.00903341919183731, 0.03871465474367142, 0.7123495936393738, 0.000645244203042239, 0.002580976812168956, 0.06323393434286118, 0.000645244203042239, 0.0019357326673343778, 0.17034447193145752, 0.7322430610656738, 0.06116800010204315, 0.029254261404275894, 0.0008864927804097533, 0.08776278793811798, 0.007978434674441814, 0.030140753835439682, 0.04964359477162361, 0.0008864927804097533, 0.056548163294792175, 0.9417444467544556, 0.8255972266197205, 0.018373824656009674, 0.01347413845360279, 0.052671633660793304, 0.014699060469865799, 0.015923982486128807, 0.045322101563215256, 0.006124608218669891, 0.006124608218669891, 0.9833763241767883, 0.0073938071727752686, 0.00925511121749878, 0.006520646624267101, 0.6585853099822998, 0.00021034343808423728, 0.00021034343808423728, 0.09234076738357544, 0.019351596012711525, 0.0037861817982047796, 0.16007135808467865, 0.04964105039834976, 0.44488635659217834, 0.01240718923509121, 0.13570363819599152, 0.09493715316057205, 0.01008084136992693, 0.06358684599399567, 0.14955094456672668, 0.016395214945077896, 0.06691019982099533, 0.005538923665881157, 0.9936352968215942, 0.9815138578414917, 0.9854599833488464, 0.12693174183368683, 0.1355372816324234, 0.16227592527866364, 0.0009220223291777074, 0.06423421949148178, 0.02458726242184639, 0.017825765535235405, 0.14906027913093567, 0.31809771060943604, 0.0006146815721876919, 0.9873836040496826, 0.15238501131534576, 0.6127147078514099, 0.03174687922000885, 0.015079766511917114, 0.12857484817504883, 0.004762031603604555, 0.008730391040444374, 0.01825445517897606, 0.01904812641441822, 0.007936719805002213, 0.022274155169725418, 0.053457971662282944, 0.30758583545684814, 0.10934585332870483, 0.0030373847112059593, 0.0036448617465794086, 0.005669784732162952, 0.3268226087093353, 0.08079443126916885, 0.08727418631315231, 0.9789922833442688, 0.9873471856117249, 0.007154689636081457, 0.11708781123161316, 0.0024670041166245937, 0.07002496719360352, 0.004364699590951204, 0.0394720658659935, 0.010437325574457645, 0.12088320404291153, 0.013473638333380222, 0.6218748092651367, 0.3913021683692932, 0.01072060689330101, 0.11792667955160141, 0.024121366441249847, 0.0026801517233252525, 0.3638306260108948, 0.026801519095897675, 0.008710493333637714, 0.0013400758616626263, 0.05293300002813339, 0.2847856879234314, 0.5635423064231873, 0.019151218235492706, 0.004255826119333506, 0.11597125977277756, 0.0099302614107728, 0.0017732608830556273, 0.9672870635986328, 0.019740553572773933, 0.9898325800895691, 0.984074056148529, 0.004100308753550053, 0.008200617507100105, 0.9800382852554321, 0.9940115809440613, 0.0029078833758831024, 0.0009692944586277008, 0.0019385889172554016, 0.03683318942785263, 0.9566936492919922, 0.11949484795331955, 0.03167062625288963, 0.08131040632724762, 0.0932149663567543, 0.004492287524044514, 0.0507628507912159, 0.028301412239670753, 0.008984575048089027, 0.00583997368812561, 0.5756866335868835, 0.9921371340751648, 0.9843816161155701, 0.017220256850123405, 0.006665905937552452, 0.9426701664924622, 0.000555492180865258, 0.0077768899500370026, 0.019442224875092506, 0.001666476484388113, 0.004443937446922064, 0.01147802360355854, 0.9813709855079651, 0.8403180837631226, 0.14066998660564423, 0.003701841691508889, 0.014807366766035557, 0.9861422181129456, 0.9929887056350708, 0.9860538840293884, 0.0054780771024525166, 0.9839366674423218, 0.005972784478217363, 0.04419860616326332, 0.9493740797042847, 0.0017334476578980684, 0.003466895315796137, 0.25134992599487305, 0.7419156432151794, 0.9956074357032776, 0.9790403842926025, 0.0014111632481217384, 0.029634427279233932, 0.9680579900741577, 0.04743346944451332, 0.002371673472225666, 0.0005929183680564165, 0.004150428343564272, 0.7138736844062805, 0.0035575099755078554, 0.014230039902031422, 0.2122647613286972, 0.001185836736112833, 0.01843736693263054, 0.006760368123650551, 0.34600791335105896, 0.00860410463064909, 0.6158080697059631, 0.0036874734796583652, 0.9976925849914551, 0.04136797413229942, 0.01019211020320654, 0.16067561507225037, 0.02278236299753189, 0.020983755588531494, 0.023981435224413872, 0.10491877794265747, 0.6085289120674133, 0.005995358806103468, 0.02598360925912857, 0.0017322406638413668, 0.1808026134967804, 0.00021653008298017085, 0.0023818309418857098, 0.038542356342077255, 0.040058065205812454, 0.7100021243095398, 0.9620214700698853, 0.037143684923648834, 0.11480358242988586, 0.045998312532901764, 0.08264320343732834, 0.1379949301481247, 0.2146160751581192, 0.0939185619354248, 0.06534579396247864, 0.04830463230609894, 0.0075596109963953495, 0.188862144947052, 0.9878430366516113, 0.06981933861970901, 0.02327311411499977, 0.13824228942394257, 0.0586482472717762, 0.043753452599048615, 0.01629117876291275, 0.2890520691871643, 0.07121572643518448, 0.23505844175815582, 0.05445908382534981, 0.0052655418403446674, 0.013163854368031025, 0.9767579436302185, 0.7599097490310669, 0.06181805580854416, 0.06784908473491669, 0.0015077574644237757, 0.009046545252203941, 0.09800423681735992, 0.9925884008407593, 0.9832648634910583, 0.0027326566632837057, 0.0013663283316418529, 0.9536972045898438, 0.02049492485821247, 0.019128596410155296, 0.9971905946731567, 0.3399272859096527, 0.07626573741436005, 0.06842125952243805, 0.04924587532877922, 0.1054646223783493, 0.05316811427474022, 0.08062377572059631, 0.21790210902690887, 0.008716084063053131, 0.00043580422061495483, 0.19868509471416473, 0.08221452683210373, 0.6697058081626892, 0.005138407927006483, 0.03768165782094002, 0.005138407927006483, 0.9972008466720581, 0.007240457460284233, 0.0868854895234108, 0.0018101143650710583, 0.8960065841674805, 0.009050571359694004, 0.9866229891777039, 0.012911779806017876, 0.012911779806017876, 0.06455890089273453, 0.008607853204011917, 0.0043039266020059586, 0.008607853204011917, 0.886608898639679, 0.9918255805969238, 0.9695726037025452, 0.022374752908945084, 0.0716552808880806, 0.0014928183518350124, 0.1940663903951645, 0.48964443802833557, 0.1462962031364441, 0.0022392275277525187, 0.0007464091759175062, 0.09180833399295807, 0.0014928183518350124, 0.9824867844581604, 0.016388436779379845, 0.9929741024971008, 0.003484119661152363, 0.11916104704141617, 0.8788127303123474, 0.5011037588119507, 0.05669981241226196, 0.011493205092847347, 0.21346713602542877, 0.19523124396800995, 0.00812186487019062, 0.003371340222656727, 0.010267263278365135, 0.00015324274136219174, 0.00015324274136219174, 0.9901069402694702, 0.9912372827529907, 0.19114336371421814, 0.3163752257823944, 0.0045631043612957, 0.0005070116021670401, 0.0025350579526275396, 0.0988672599196434, 0.013689312152564526, 0.29102465510368347, 0.07402369379997253, 0.007098162081092596, 0.9438273310661316, 0.04977214336395264, 0.005530238151550293, 0.7634773850440979, 0.048123788088560104, 0.06893407553434372, 0.05202571675181389, 0.02731350064277649, 0.001300642965361476, 0.002601285930722952, 0.037718646228313446, 0.9928762912750244, 0.09659732133150101, 0.02320229634642601, 0.13329483568668365, 0.2092941850423813, 0.0014205487677827477, 0.13708296418190002, 0.2822156846523285, 0.08878429979085922, 0.026043394580483437, 0.0018940650625154376, 0.994511604309082, 0.9970728754997253, 0.01773053966462612, 0.9817851781845093, 0.8391357064247131, 0.06454890221357346, 0.09370002150535583, 0.015502708964049816, 0.37981635332107544, 0.5813515782356262, 0.01107336301356554, 0.0022146727424114943, 0.008858690969645977, 0.9961262941360474, 0.9853744506835938, 0.9907532930374146, 0.9943540096282959, 0.998744010925293, 0.002962540602311492, 0.995413601398468, 0.002930921269580722, 0.0009769737953320146, 0.12993751466274261, 0.8568060398101807, 0.008792764507234097, 0.9823590517044067, 0.0009595294832251966, 0.0009595294832251966, 0.0009595294832251966, 0.32624000310897827, 0.6716706156730652, 0.06437864154577255, 0.23508191108703613, 0.004302152898162603, 0.01751590706408024, 0.15211182832717896, 0.027195751667022705, 0.007682415656745434, 0.07958982139825821, 0.10232977569103241, 0.3099086284637451, 0.9964936375617981, 0.9780867099761963, 0.9960039258003235, 0.9934680461883545, 0.9303668141365051, 0.06020020321011543, 0.9860524535179138, 0.9892493486404419, 0.9943963885307312, 0.06972763687372208, 0.0038737577851861715, 0.921954333782196, 0.04305872693657875, 0.12678402662277222, 0.7965864539146423, 0.013555524870753288, 0.014352908357977867, 0.004784302785992622, 0.0007973838364705443, 0.9930407404899597, 0.006042844150215387, 0.1588432341814041, 0.049273665994405746, 0.18687891960144043, 0.1849970668554306, 0.04942728579044342, 0.07404491305351257, 0.13341911137104034, 0.020009025931358337, 0.06728562712669373, 0.07577314227819443, 0.03812359273433685, 0.1307094544172287, 0.001815409050323069, 0.032677363604307175, 0.015430977568030357, 0.012707863934338093, 0.03812359273433685, 0.7270713448524475, 0.001815409050323069, 0.0027231136336922646, 0.9832802414894104, 0.9898864030838013, 0.0723307803273201, 0.9222174286842346, 0.00361653883010149, 0.08394395560026169, 0.9140564203262329, 0.9862382411956787, 0.0052740010432899, 0.0052740010432899, 0.9937725067138672, 0.9932010769844055, 0.9843049645423889, 0.008050569333136082, 0.982169508934021, 0.0015511318342760205, 0.0011280959006398916, 0.08023582398891449, 0.01974167861044407, 0.0005640479503199458, 0.00014101198757998645, 0.8965542316436768, 0.00014101198757998645, 0.00345822935923934, 0.9925118684768677, 0.00345822935923934, 0.9900797009468079, 0.03724256902933121, 0.048470109701156616, 0.40364372730255127, 0.16389469802379608, 0.18717129528522491, 0.033819541335105896, 0.005750691052526236, 0.003970715217292309, 0.0171151515096426, 0.09872019290924072, 0.18996265530586243, 0.08607210963964462, 0.09815240651369095, 0.04681114852428436, 0.01630840077996254, 0.06160951405763626, 0.03895895555615425, 0.37569722533226013, 0.08577010780572891, 0.0006040148437023163, 0.9951243996620178, 0.003503959160298109, 0.9903090000152588, 0.10488759726285934, 0.006555474828928709, 0.0026221899315714836, 0.8771225214004517, 0.00786656979471445, 0.9949195384979248, 0.10680875927209854, 0.25379329919815063, 0.0715324729681015, 0.5399231910705566, 0.024497421458363533, 0.002939690602943301, 0.9756879210472107, 0.012508819811046124, 0.9876147508621216, 0.06884808838367462, 0.7893512845039368, 0.01761230081319809, 0.0016011182451620698, 0.11207827925682068, 0.009606709703803062, 0.9886401295661926, 0.13200844824314117, 0.06980551779270172, 0.004146862309426069, 0.07740809768438339, 0.028336891904473305, 0.630323052406311, 0.05736492946743965, 0.9952465295791626, 0.11597147583961487, 0.050116244703531265, 0.24975286424160004, 0.012839699164032936, 0.009526228532195091, 0.36241087317466736, 0.09277718514204025, 0.007041125558316708, 0.09940412640571594, 0.9954369068145752, 0.992893636226654, 0.006091372109949589, 0.6748431921005249, 0.022473962977528572, 0.006867044139653444, 0.08178025484085083, 0.001248553511686623, 0.16106340289115906, 0.003745660651475191, 0.04744503274559975, 0.9794180989265442, 0.016233449801802635, 0.0966314747929573, 0.15238039195537567, 0.14494721591472626, 0.5993009805679321, 0.0009291487513110042, 0.005574892740696669, 0.9904782772064209, 0.9839380979537964, 0.9922744035720825, 0.006087573245167732, 0.5599043369293213, 0.00972056109458208, 0.03927106782793999, 0.10848146677017212, 0.1835242062807083, 0.002721757162362337, 0.015552897937595844, 0.0007776449201628566, 0.08009742945432663, 0.9963715076446533, 0.04362613707780838, 0.8830987811088562, 0.06610020995140076, 0.0052880169823765755, 0.0013220042455941439, 0.9907512664794922, 0.9867314696311951, 0.0031398460268974304, 0.9963777661323547, 0.42404070496559143, 0.10077288001775742, 0.07476697117090225, 0.1188325360417366, 0.14845037460327148, 0.11052509397268295, 0.003973124083131552, 0.017698463052511215, 0.0003611931169871241, 0.019966254010796547, 0.5390888452529907, 0.16222581267356873, 0.2512420117855072, 0.0074873450212180614, 0.004159636329859495, 0.01331083569675684, 0.001663854462094605, 0.0008319272310473025, 0.9999563097953796, 0.0240304134786129, 0.002962653525173664, 0.0069128586910665035, 0.49048376083374023, 0.06172195076942444, 0.04427521303296089, 0.36177292466163635, 0.007077450398355722, 0.000493775587528944, 0.00032918373472057283, 0.1327078938484192, 0.5243504643440247, 0.007098328787833452, 0.19072900712490082, 0.015739772468805313, 0.08178509771823883, 0.01604839600622654, 0.003086230019107461, 0.019134625792503357, 0.009258690290153027, 0.4294610023498535, 0.037078358232975006, 0.28798726201057434, 0.03131861612200737, 0.018719172105193138, 0.12779435515403748, 0.039598248898983, 0.014039378613233566, 0.013319411315023899, 0.00035998408566229045, 0.9976663589477539, 0.21221262216567993, 0.006113120820373297, 0.1484615057706833, 0.015719452872872353, 0.05589138716459274, 0.0008733029244467616, 0.5606604814529419, 0.8482216596603394, 0.04529339075088501, 0.10293952375650406, 0.0020587905310094357, 0.9912339448928833, 0.021672025322914124, 0.0531480647623539, 0.5805007219314575, 0.1062961295247078, 0.010836012661457062, 0.01651201955974102, 0.20949624478816986, 0.0010320012224838138, 0.001230823458172381, 0.008615764789283276, 0.9551190137863159, 0.01230823528021574, 0.004923293832689524, 0.011077411472797394, 0.0036924704909324646, 0.0036924704909324646, 0.9914237856864929, 0.9747900366783142, 0.007573285140097141, 0.010818978771567345, 0.005409489385783672, 0.9811817407608032, 0.044511083513498306, 0.003461973275989294, 0.34471362829208374, 0.0037092571146786213, 0.0002472838095854968, 0.3644963204860687, 0.0002472838095854968, 0.23838157951831818, 0.0002472838095854968, 0.9235773086547852, 0.07559040188789368, 0.0022960323840379715, 0.037884533405303955, 0.957445502281189, 0.992646336555481, 0.9805601835250854, 0.005144772119820118, 0.9929410219192505, 0.9011082649230957, 0.09276114404201508, 0.0033128981012851, 0.9885156750679016, 0.9980939030647278, 0.005318637005984783, 0.9786291718482971, 0.010637274011969566, 0.0026593185029923916, 0.9755417704582214, 0.009985051117837429, 0.11277233809232712, 0.7300834059715271, 0.005286203231662512, 0.13802863657474518, 0.0035241355653852224, 0.007879873737692833, 0.9771043658256531, 0.007879873737692833, 0.05444708466529846, 0.2616484761238098, 0.004537256900221109, 0.04537256807088852, 0.6321911215782166, 0.0015124189667403698, 0.9952101111412048, 0.9936255812644958, 0.0038662473671138287, 0.036468200385570526, 0.005209742579609156, 0.8960757255554199, 0.02604871429502964, 0.005209742579609156, 0.02604871429502964, 0.02524665556848049, 0.011317466385662556, 0.15147992968559265, 0.000870574323926121, 0.07486939430236816, 0.02263493277132511, 0.7077769041061401, 0.001741148647852242, 0.004352871794253588, 0.9921208024024963, 0.9825331568717957, 0.5529943108558655, 0.06659094244241714, 0.005790516268461943, 0.049219388514757156, 0.08070532232522964, 0.008685775101184845, 0.07165764272212982, 0.013390569016337395, 0.15055343508720398, 0.09924007952213287, 0.9000643491744995, 0.984164834022522, 0.9801470041275024, 0.051932141184806824, 0.14431142807006836, 0.037451062351465225, 0.1787663996219635, 0.482869029045105, 0.018475858494639397, 0.017976509407162666, 0.06791125982999802, 0.0004993475158698857, 0.21430987119674683, 0.6436711549758911, 0.010381792671978474, 0.04745962470769882, 0.0029662265442311764, 0.06748165190219879, 0.0029662265442311764, 0.009640236385166645, 0.0007415566360577941, 0.14812709391117096, 0.4399501383304596, 0.4086155593395233, 0.0028485979419201612, 0.9980124831199646, 0.0002037776866927743, 0.0002037776866927743, 0.8434358239173889, 0.1528332680463791, 0.0030566654168069363, 0.9789906144142151, 0.0019272110657766461, 0.0019272110657766461, 0.08479728549718857, 0.013490477576851845, 0.6745238900184631, 0.2235564887523651, 0.00120249530300498, 0.9980711340904236, 0.9916350245475769, 0.9889973998069763, 0.006593316327780485, 0.9820011854171753, 0.9904235601425171, 0.0026748855598270893, 0.03655676916241646, 0.946909487247467, 0.007133028004318476, 0.004458142444491386, 0.0008916285005398095, 0.0022869750391691923, 0.032017651945352554, 0.1886754333972931, 0.7752845287322998, 0.9903082847595215, 0.9975085854530334, 0.989651083946228, 0.003328944556415081, 0.995354413986206, 0.9979969263076782, 0.9761504530906677, 0.020126814022660255, 0.0017189388163387775, 0.277035653591156, 0.6105097532272339, 0.0005729796248488128, 0.035238247364759445, 0.010886612348258495, 0.0002864898124244064, 0.06331424415111542, 0.0002864898124244064, 0.8028056025505066, 0.19398649036884308, 0.008173963986337185, 0.9808756709098816, 0.008173963986337185, 0.9699222445487976, 0.9671107530593872, 0.4045006334781647, 0.01355868112295866, 0.007102166302502155, 0.05843145772814751, 0.0009684772230684757, 0.05423472449183464, 0.4555070996284485, 0.004196734633296728, 0.0009684772230684757, 0.00329455710016191, 0.00041181963752023876, 0.34345757961273193, 0.09183577448129654, 0.034592848271131516, 0.5254818201065063, 0.06613332778215408, 0.0014861421659588814, 0.008173782378435135, 0.0007430710829794407, 0.0029722843319177628, 0.9199220538139343, 0.177061066031456, 0.05644206702709198, 0.14275863766670227, 0.14435605704784393, 0.09455587714910507, 0.05745096132159233, 0.19034484028816223, 0.025586696341633797, 0.08541977405548096, 0.026007069274783134, 0.9908623099327087, 0.9956027269363403, 0.03401757776737213, 0.0208211038261652, 0.44736048579216003, 0.3847505450248718, 0.00029325499781407416, 0.0029325499199330807, 0.0005865099956281483, 0.013049846515059471, 0.09530787169933319, 0.000879764964338392, 0.9989098906517029, 0.5160351991653442, 0.0793900340795517, 0.0008821114897727966, 0.11291027069091797, 0.185684472322464, 0.03352023661136627, 0.05777830258011818, 0.007497947663068771, 0.00264633446931839, 0.003087390214204788, 0.010555479675531387, 0.9816595911979675, 0.9940125346183777, 0.010555479675531387, 0.9816595911979675, 0.010555479675531387, 0.9816595911979675, 0.04795244336128235, 0.18065804243087769, 0.001115173101425171, 0.7694694399833679, 0.9828833937644958, 0.005472378805279732, 0.001094475737772882, 0.004377902951091528, 0.010944757610559464, 0.6140009164810181, 0.007661330513656139, 0.3557046353816986, 0.9814518094062805, 0.9734932780265808, 0.9912930727005005, 0.9925838708877563, 0.0026755300350487232, 0.010702120140194893, 0.009364355355501175, 0.9765684604644775, 0.98935467004776, 0.9956914782524109, 0.3739389479160309, 0.08002489060163498, 0.02373827062547207, 0.015907088294625282, 0.3416353166103363, 0.15662364661693573, 0.00526157533749938, 0.0025696067605167627, 0.0003670866717584431, 0.9937785267829895, 0.10616062581539154, 0.00909948255866766, 0.8796166181564331, 0.9900372624397278, 0.9713402390480042, 0.02598903514444828, 0.9931904673576355, 0.993718147277832, 0.9913231730461121, 0.9651636481285095, 0.625922441482544, 0.10291577875614166, 0.09659496694803238, 0.0019448651000857353, 0.01977279596030712, 0.00907603744417429, 0.024148741737008095, 0.06677370518445969, 0.008427748456597328, 0.04440775141119957, 0.9790740013122559, 0.1278078407049179, 0.8616722226142883, 0.005497111473232508, 0.001374277868308127, 0.001374277868308127, 0.001374277868308127, 0.972758412361145, 0.019651684910058975, 0.7227771878242493, 0.07062670588493347, 0.0036689199041575193, 0.019261829555034637, 0.0009172299760393798, 0.0917229950428009, 0.07979900389909744, 0.008255070075392723, 0.0036689199041575193, 0.5608091354370117, 0.025838809087872505, 0.41311514377593994, 0.01528274454176426, 0.008150797337293625, 0.06214982643723488, 0.014603511430323124, 0.0006792331114411354, 0.7301755547523499, 0.008150797337293625, 0.0030565490014851093, 0.0013584662228822708, 0.1562236100435257, 0.012231112457811832, 0.002446222584694624, 0.8904250264167786, 0.09540268033742905, 0.97406405210495, 0.9854550361633301, 0.9902868270874023, 0.0013739955611526966, 0.9961467981338501, 0.983921229839325, 0.9845171570777893, 0.9934126734733582, 0.10479073226451874, 0.0032747103832662106, 0.006549420766532421, 0.8841717839241028, 0.18639959394931793, 0.13936418294906616, 0.0888446643948555, 0.4006720185279846, 0.006968209054321051, 0.16143018007278442, 0.008129577152431011, 0.005226156674325466, 0.002322736196219921, 0.0005806840490549803, 0.9955623149871826, 0.9942470192909241, 0.9927572011947632, 0.9710878133773804, 0.31512677669525146, 0.05692612752318382, 0.00569261284545064, 0.019517529755830765, 0.5643818974494934, 0.00284630642272532, 0.00284630642272532, 0.03212260082364082, 0.9782240986824036, 0.9941520094871521, 0.990319013595581, 0.18415258824825287, 0.8141482472419739, 0.9905745387077332, 0.30062150955200195, 0.004648786503821611, 0.051136650145053864, 0.0960749164223671, 0.015495955012738705, 0.5315112471580505, 0.9627698659896851, 0.011886047199368477, 0.023772094398736954, 0.9875975847244263, 0.5560080409049988, 0.03793174400925636, 0.019236041232943535, 0.15226732194423676, 0.037283338606357574, 0.06073401868343353, 0.030258942395448685, 0.07348600029945374, 0.03220415860414505, 0.00043227060814388096, 0.9849027395248413, 0.032153449952602386, 0.7367333769798279, 0.003914332948625088, 0.006430689711123705, 0.0016775713302195072, 0.03606778383255005, 0.11099930107593536, 0.05368228256702423, 0.00027959520230069757, 0.017614498734474182, 0.02619425766170025, 0.031305331736803055, 0.13991567492485046, 0.1015826091170311, 0.001916653010994196, 0.5168574452400208, 0.1379990130662918, 0.03769417479634285, 0.006388843525201082, 0.0006388843758031726, 0.9622047543525696, 0.995230495929718], \"Term\": [\"abroad\", \"absence\", \"absence\", \"absence\", \"access\", \"access\", \"access\", \"access\", \"access\", \"access\", \"access\", \"access\", \"access\", \"access\", \"accordingly_resubmit\", \"account\", \"account\", \"account\", \"account\", \"account\", \"account\", \"account\", \"action\", \"action\", \"action\", \"action\", \"action\", \"action\", \"action\", \"action\", \"action\", \"activation\", \"active\", \"active\", \"active\", \"active\", \"active\", \"active\", \"active\", \"active\", \"active\", \"ad\", \"ad\", \"ad\", \"ad\", \"ad\", \"ad\", \"ad\", \"ad\", \"add\", \"add\", \"add\", \"add\", \"add\", \"add\", \"add\", \"add\", \"add\", \"add\", \"address\", \"address\", \"address\", \"address\", \"address\", \"address\", \"address\", \"address\", \"address\", \"administration\", \"administration\", \"administration\", \"administration\", \"administrator\", \"administrator\", \"administrator\", \"administrator\", \"administrator\", \"administrator\", \"administrator\", \"administrator\", \"advise\", \"advise\", \"advise\", \"advise\", \"advise\", \"advise\", \"advise\", \"advise\", \"advise\", \"advise\", \"aforementioned\", \"afraid\", \"afterwards\", \"afterwards\", \"alarm\", \"allocation\", \"allowance\", \"also\", \"also\", \"also\", \"also\", \"also\", \"also\", \"also\", \"also\", \"also\", \"also\", \"amount\", \"amount\", \"amount\", \"amount\", \"amount\", \"analyst\", \"analyst\", \"analyst\", \"analyst\", \"analyst\", \"analyst\", \"analyst\", \"analyst\", \"analyst\", \"analyst\", \"announce\", \"annual\", \"annual\", \"annual\", \"annual\", \"annual\", \"annual\", \"apple\", \"apple\", \"apple_apple\", \"application\", \"application\", \"application\", \"application\", \"application\", \"application\", \"application\", \"application\", \"application\", \"application\", \"appropriate\", \"appropriate\", \"appropriate\", \"appropriate\", \"appropriate\", \"appropriate\", \"appropriate\", \"approval\", \"approval\", \"approval\", \"approval\", \"approval\", \"approval\", \"approve\", \"approve\", \"approve\", \"approve\", \"approve\", \"approve\", \"approve\", \"approve\", \"approve\", \"approve\", \"approver\", \"approver\", \"approver\", \"approver\", \"approximately\", \"architect\", \"architect\", \"architect\", \"archive\", \"archive\", \"around\", \"article\", \"asap\", \"asap\", \"asap\", \"asap\", \"asap\", \"asset\", \"asset\", \"asset\", \"asset\", \"asset\", \"asset\", \"asset\", \"assign\", \"assign\", \"assign\", \"assign\", \"assign\", \"assign\", \"assign\", \"assign\", \"assign\", \"assign\", \"assignment\", \"assignment\", \"assignment\", \"assignment\", \"assignment\", \"assist_completion\", \"assistant\", \"attach\", \"attach\", \"attach\", \"attach\", \"attach\", \"attach\", \"attach\", \"attach\", \"attach\", \"attach\", \"attempt\", \"attempt\", \"auditor\", \"authentication\", \"authentication\", \"automatic\", \"automatic\", \"automatic\", \"away\", \"away\", \"backlog\", \"backlog\", \"badge\", \"basic\", \"basically\", \"battery\", \"battery\", \"behavior\", \"bench\", \"bench\", \"bench\", \"binary\", \"black\", \"black\", \"blank\", \"block\", \"block\", \"block\", \"blocker\", \"blocker\", \"boot\", \"breach\", \"break\", \"break\", \"break\", \"break\", \"breakdown\", \"breakdown\", \"broken\", \"bug\", \"bug\", \"bulk\", \"bulk\", \"busy\", \"button\", \"button\", \"button\", \"button\", \"button\", \"button\", \"ca\", \"ca\", \"ca\", \"ca\", \"ca\", \"ca\", \"ca\", \"ca\", \"ca\", \"ca\", \"cable\", \"cable\", \"cable\", \"cal\", \"call\", \"call\", \"call\", \"call\", \"call\", \"call\", \"call\", \"call\", \"call\", \"camera\", \"can\", \"can\", \"can\", \"can\", \"can\", \"can\", \"can\", \"can\", \"can\", \"candidate\", \"capture\", \"card\", \"card\", \"card\", \"cards_statuse\", \"care\", \"care\", \"care\", \"care\", \"care\", \"care\", \"care\", \"care\", \"career\", \"carry\", \"category\", \"category\", \"category\", \"category\", \"ceremonie\", \"certificate\", \"certificate\", \"certificate\", \"certificate\", \"certificate\", \"change\", \"change\", \"change\", \"change\", \"change\", \"change\", \"change\", \"change\", \"change\", \"change\", \"changed\", \"character\", \"charger\", \"check\", \"check\", \"check\", \"check\", \"check\", \"check\", \"check\", \"check\", \"check\", \"check\", \"chrome\", \"chrome\", \"claim\", \"click\", \"click\", \"click\", \"click\", \"click\", \"client\", \"client\", \"client\", \"client\", \"client\", \"client\", \"client\", \"client\", \"client\", \"client\", \"clients_regularly\", \"code\", \"code\", \"code\", \"code\", \"code\", \"code\", \"code\", \"code\", \"code\", \"collaboration\", \"collaboration\", \"colleague\", \"colleague\", \"colleague\", \"colleague\", \"colleague\", \"colleague\", \"colleague\", \"colleague\", \"colleague\", \"colleague\", \"color\", \"color\", \"color\", \"column\", \"column\", \"column\", \"column\", \"column\", \"combination\", \"comment\", \"comment\", \"comment\", \"comment\", \"comment\", \"comment\", \"comment\", \"comment\", \"complain\", \"complaint\", \"complete\", \"complete\", \"complete\", \"complete\", \"complete\", \"complete\", \"complete\", \"complete\", \"complete\", \"complete\", \"conduct\", \"conf\", \"confidential_legally\", \"confidential_legally\", \"confirm\", \"confirm\", \"confirm\", \"confirm\", \"confirm\", \"confirm\", \"confluence\", \"confluence\", \"confluence\", \"confluence\", \"confluence\", \"confluence\", \"confusing\", \"connect\", \"connect\", \"connect\", \"connect\", \"connect\", \"connect\", \"connect\", \"connection\", \"connection\", \"connection\", \"connection\", \"connection\", \"connection\", \"connection\", \"connection\", \"connection\", \"connection\", \"connector\", \"consequence\", \"consultant\", \"consultant\", \"consultant\", \"consultant\", \"consultant\", \"consultant\", \"consultant\", \"consultant\", \"consultant\", \"contact\", \"contact\", \"contact\", \"contact\", \"contact\", \"contact\", \"contact\", \"content\", \"content\", \"content\", \"content\", \"content\", \"content\", \"content\", \"content\", \"continuously\", \"contract\", \"contract\", \"contract\", \"contractor\", \"contractor\", \"contractor\", \"contractor\", \"convert\", \"correct\", \"correct\", \"correct\", \"corrective_action\", \"could\", \"could\", \"could\", \"could\", \"could\", \"could\", \"could\", \"could\", \"could\", \"could\", \"counsel\", \"count_bad\", \"crash\", \"crash\", \"create\", \"create\", \"create\", \"create\", \"create\", \"create\", \"create\", \"create\", \"create\", \"create\", \"creative\", \"credential\", \"credential\", \"credential\", \"credential\", \"credential\", \"credential\", \"credential\", \"customer\", \"customer\", \"customer\", \"customer\", \"customer\", \"customer\", \"customer\", \"date\", \"date\", \"date\", \"date\", \"date\", \"date\", \"date\", \"date\", \"date\", \"date\", \"datum\", \"day\", \"day\", \"day\", \"day\", \"day\", \"day\", \"day\", \"day\", \"day\", \"dear\", \"dear\", \"dear\", \"dear\", \"dear\", \"dear\", \"dear\", \"dear\", \"dear\", \"dear\", \"debug\", \"decline\", \"defect\", \"delete\", \"delete\", \"delete\", \"delete\", \"delete\", \"delete\", \"delete\", \"delete\", \"delete\", \"delete\", \"deliver\", \"deliver\", \"deliver\", \"deliver\", \"demand\", \"deny\", \"deny\", \"deny\", \"description\", \"description\", \"description\", \"description\", \"description\", \"description\", \"description\", \"description\", \"description\", \"designer\", \"destination\", \"detail\", \"detail\", \"detail\", \"detail\", \"detail\", \"detail\", \"detail\", \"detail\", \"detail\", \"detail\", \"detected_change\", \"developer\", \"developer\", \"developer\", \"developer\", \"developer\", \"developer\", \"developer\", \"developer\", \"developer\", \"device\", \"device\", \"device\", \"device\", \"device\", \"device\", \"device\", \"diagnostic\", \"die\", \"direct\", \"direct\", \"direct\", \"direct\", \"direct_report\", \"direct_report\", \"direct_report\", \"directory\", \"directory\", \"directory\", \"disappear\", \"discipline\", \"discipline\", \"discipline\", \"discipline\", \"discipline\", \"disclosure_copying\", \"disconnect\", \"disconnect\", \"disk\", \"disk\", \"disk\", \"district\", \"district\", \"door\", \"door\", \"door\", \"duplicate\", \"duplicate\", \"eel\", \"elevator\", \"enclose\", \"enclosure\", \"end\", \"end\", \"engineer\", \"engineer\", \"engineer\", \"engineer\", \"engineer\", \"engineer\", \"engineer\", \"engineer\", \"engineer\", \"engineer\", \"enter\", \"enter\", \"enter\", \"enter\", \"enter\", \"enter\", \"enter\", \"entered\", \"entered_saved\", \"entity\", \"entity\", \"entity\", \"entity\", \"entity\", \"entity\", \"entity\", \"entity\", \"entity\", \"entity_act\", \"entry\", \"entry\", \"entry\", \"entry\", \"environment\", \"environment\", \"environment\", \"environment\", \"environment\", \"environment\", \"error\", \"error\", \"error\", \"error\", \"error\", \"error\", \"error\", \"error\", \"error\", \"error\", \"escalate\", \"escalate\", \"escalation\", \"essential\", \"estimated_lifespan\", \"event\", \"event\", \"event\", \"event\", \"event\", \"event\", \"exclude\", \"excuse\", \"expenditure\", \"expense\", \"expense\", \"expire\", \"expire\", \"expire\", \"expire\", \"expire\", \"explorer\", \"extension_leaving\", \"extra\", \"fact\", \"fail\", \"fail\", \"fail\", \"fail\", \"failure\", \"failure\", \"false\", \"fan\", \"fault\", \"federation\", \"feedback\", \"feedback\", \"feedback\", \"feedback\", \"feedback\", \"file\", \"file\", \"file\", \"file\", \"file\", \"file\", \"file\", \"file\", \"fill\", \"fill\", \"fill\", \"fill\", \"fill\", \"fill\", \"fill_enclose\", \"find\", \"find\", \"find\", \"find\", \"find\", \"find\", \"find\", \"find\", \"find\", \"find\", \"finding\", \"fix\", \"fix\", \"fix\", \"fix\", \"fix\", \"fix\", \"fix\", \"fix\", \"fix\", \"flash\", \"flicker\", \"flight\", \"flight\", \"floor\", \"floor\", \"floor\", \"floor\", \"floor\", \"floor\", \"floor\", \"floor\", \"floor\", \"folder\", \"folder\", \"folder\", \"folder\", \"folder\", \"folder\", \"folder\", \"folder\", \"follow\", \"follow\", \"follow\", \"follow\", \"follow\", \"follow\", \"follow\", \"follow\", \"follow\", \"follow\", \"following\", \"forbid\", \"forecast\", \"forecast\", \"forecast\", \"forecast\", \"forecasting\", \"form\", \"form\", \"form\", \"form\", \"form\", \"form\", \"forwarded\", \"framework\", \"freeze\", \"freeze\", \"frequency\", \"fulfil\", \"full\", \"full\", \"full\", \"full\", \"functional\", \"fusion\", \"fusion\", \"fuze\", \"fuze\", \"fuze\", \"get\", \"get\", \"get\", \"get\", \"get\", \"get\", \"get\", \"get\", \"get\", \"get\", \"git\", \"glass\", \"go\", \"go\", \"go\", \"go\", \"go\", \"go\", \"go\", \"go\", \"go\", \"go\", \"good\", \"good\", \"good\", \"good\", \"good\", \"good\", \"good\", \"good\", \"good\", \"good\", \"grade\", \"grade\", \"grade\", \"graduate\", \"group\", \"group\", \"group\", \"group\", \"group\", \"group\", \"guest\", \"guest\", \"guest\", \"guideline\", \"happen\", \"happen\", \"happen\", \"happen\", \"happen\", \"happen\", \"happen\", \"happen\", \"head\", \"head\", \"head\", \"head\", \"head\", \"head\", \"head\", \"head\", \"head\", \"headphone\", \"help\", \"help\", \"help\", \"help\", \"help\", \"help\", \"help\", \"help\", \"help\", \"help\", \"holiday\", \"holiday\", \"holiday\", \"holiday\", \"holiday\", \"holiday\", \"holiday\", \"holiday\", \"hour\", \"hour\", \"hour\", \"hour\", \"hour\", \"hour\", \"hour\", \"hour\", \"hour\", \"hour\", \"hub\", \"hub\", \"hub\", \"hub\", \"hub\", \"icon\", \"icon\", \"idea\", \"idea\", \"idea\", \"idea\", \"idea\", \"idea\", \"idea\", \"idea\", \"identification_count\", \"impossible\", \"incident\", \"incident\", \"incident\", \"incident\", \"incoming\", \"incoming\", \"incoming\", \"inconvenience\", \"increase\", \"increase\", \"increase\", \"increase\", \"increase\", \"increase\", \"increase\", \"individually\", \"induction\", \"induction\", \"information\", \"information\", \"information\", \"information\", \"information\", \"information\", \"information\", \"information\", \"information\", \"information\", \"input\", \"input\", \"input\", \"input\", \"instal\", \"instal\", \"instal\", \"instal\", \"instal\", \"instal\", \"install\", \"install\", \"install\", \"install\", \"install\", \"install\", \"installation\", \"installation\", \"installation\", \"installation\", \"integration\", \"interface\", \"interface\", \"interface\", \"interface\", \"intermittent\", \"intern\", \"intern\", \"intern\", \"internship\", \"interview\", \"invoke\", \"issue\", \"issue\", \"issue\", \"issue\", \"issue\", \"issue\", \"issue\", \"issue\", \"issue\", \"issue\", \"item\", \"item\", \"item\", \"item\", \"item\", \"item\", \"item\", \"item\", \"item_ordered\", \"job\", \"job\", \"job\", \"job\", \"job\", \"job\", \"job\", \"join\", \"join\", \"join\", \"join\", \"join\", \"join\", \"join\", \"join\", \"join\", \"journal\", \"keyboard\", \"keyboard\", \"kick\", \"kind\", \"kind\", \"kind\", \"kind\", \"kind\", \"kind\", \"kind\", \"kind\", \"kind\", \"kind\", \"kingdom\", \"know\", \"know\", \"know\", \"know\", \"know\", \"know\", \"know\", \"know\", \"la\", \"lady\", \"laptop\", \"laptop\", \"laptop\", \"laptop\", \"laptop\", \"laptop\", \"laptop\", \"laptop\", \"laptop\", \"laptop\", \"last\", \"last\", \"last\", \"last\", \"last\", \"lately\", \"lead\", \"lead\", \"lead\", \"lead\", \"lead\", \"lead\", \"lead\", \"lead\", \"lead\", \"lead\", \"leave\", \"leave\", \"leave\", \"leave\", \"leave\", \"leave\", \"leave\", \"leave\", \"leave\", \"leave\", \"leaver\", \"leaver\", \"leaver\", \"ledger\", \"leed\", \"let\", \"let\", \"let\", \"let\", \"let\", \"let\", \"let\", \"let\", \"let\", \"let\", \"level\", \"level\", \"level\", \"level\", \"level\", \"level\", \"level\", \"level\", \"liability\", \"liability\", \"library\", \"library\", \"library\", \"license\", \"license\", \"license\", \"license\", \"license\", \"license\", \"line\", \"link\", \"link\", \"link\", \"link\", \"link\", \"link\", \"link\", \"link\", \"link\", \"link\", \"list\", \"list\", \"list\", \"list\", \"list\", \"list\", \"list\", \"list\", \"list\", \"list\", \"loading\", \"location\", \"location\", \"location\", \"location\", \"location\", \"location\", \"location\", \"location\", \"location\", \"lock\", \"lock\", \"log\", \"log\", \"log\", \"log\", \"log\", \"log\", \"log\", \"log\", \"log\", \"log\", \"logging\", \"look\", \"look\", \"look\", \"look\", \"look\", \"look\", \"look\", \"look\", \"look\", \"look\", \"loose\", \"luck\", \"mailbox\", \"mailbox\", \"mailbox\", \"mailbox\", \"mailbox\", \"make\", \"make\", \"make\", \"make\", \"make\", \"make\", \"make\", \"make\", \"make\", \"make\", \"manager\", \"manager\", \"manager\", \"manager\", \"manager\", \"manager\", \"manager\", \"manager\", \"manager\", \"manager\", \"mandatory_receipts\", \"maternity\", \"maternity\", \"maternity\", \"maven\", \"mb_mb\", \"meeting_room\", \"meeting_room\", \"member\", \"member\", \"member\", \"member\", \"member\", \"member\", \"member\", \"member\", \"message\", \"message\", \"message\", \"message\", \"message\", \"message\", \"message\", \"message\", \"method\", \"mileage\", \"min\", \"mini\", \"mob\", \"mob\", \"mob\", \"mob\", \"mob\", \"mob\", \"mob\", \"mobile\", \"mobile\", \"mobile\", \"mobile\", \"mobile\", \"mobile\", \"mobile\", \"mobile\", \"mobile\", \"mobile\", \"mon\", \"monitor\", \"monitor\", \"monitor\", \"monitor\", \"monitor\", \"monitor\", \"monitor\", \"monitor\", \"monitor\", \"month\", \"month\", \"month\", \"month\", \"month\", \"month\", \"month\", \"month\", \"month\", \"mouse\", \"mouse\", \"move\", \"move\", \"move\", \"move\", \"move\", \"move\", \"move\", \"move\", \"move\", \"much_appreciate\", \"much_appreciate\", \"name\", \"name\", \"name\", \"name\", \"name\", \"name\", \"name\", \"name\", \"name\", \"name\", \"need\", \"need\", \"need\", \"need\", \"need\", \"need\", \"need\", \"need\", \"need\", \"need\", \"nexus\", \"nomination\", \"normally\", \"note\", \"note\", \"note\", \"note\", \"note\", \"note\", \"note\", \"note\", \"note\", \"note\", \"noticed\", \"notification\", \"notification\", \"notification\", \"notification\", \"notification\", \"notification\", \"notification\", \"notification\", \"notification\", \"notification\", \"number\", \"number\", \"number\", \"number\", \"number\", \"number\", \"number\", \"number\", \"number\", \"number\", \"ny\", \"obtain\", \"obtain\", \"officer\", \"officer\", \"officer\", \"officer\", \"officer\", \"officer\", \"officer\", \"officer\", \"officer\", \"old\", \"old\", \"old\", \"old\", \"old\", \"old\", \"old\", \"old\", \"old\", \"old\", \"open\", \"open\", \"open\", \"open\", \"open\", \"open\", \"open\", \"opening\", \"opening\", \"operate\", \"operation\", \"operation\", \"operation\", \"operational\", \"opinions_expresse\", \"opportunity\", \"opportunity\", \"opportunity\", \"opportunity\", \"opportunity\", \"order\", \"order\", \"order\", \"order\", \"order\", \"order\", \"order\", \"order\", \"order\", \"order\", \"outage\", \"overdue\", \"owner\", \"owner\", \"owner\", \"owner\", \"owner\", \"owner\", \"owner\", \"owner\", \"ownership\", \"ownership\", \"page\", \"page\", \"page\", \"page\", \"panic\", \"part_established\", \"partition\", \"partition\", \"passed_entere\", \"password\", \"password\", \"password\", \"past\", \"past\", \"past\", \"past\", \"paternity\", \"pattern\", \"pende\", \"pende\", \"pende\", \"period\", \"period\", \"period\", \"period\", \"period\", \"period\", \"period\", \"period\", \"period\", \"permission\", \"permission\", \"permission\", \"permission\", \"permission\", \"permission\", \"persist\", \"person\", \"person\", \"person\", \"person\", \"person\", \"person\", \"person\", \"person\", \"person\", \"phone\", \"phone\", \"phone\", \"phone\", \"phone\", \"phone\", \"phone\", \"phone\", \"pipeline\", \"pipeline\", \"please\", \"please\", \"please\", \"please\", \"please\", \"please\", \"please\", \"please\", \"please\", \"please\", \"plug\", \"pm\", \"pm\", \"pm\", \"pm\", \"pm\", \"pm\", \"pm\", \"pm\", \"pm\", \"pm\", \"po\", \"po\", \"po\", \"point\", \"point\", \"point\", \"point\", \"point\", \"point\", \"poll\", \"poor\", \"port\", \"port\", \"port\", \"port\", \"port\", \"portal\", \"possible\", \"possible\", \"possible\", \"possible\", \"possible\", \"possible\", \"possible\", \"possible\", \"possible\", \"possible\", \"post\", \"post\", \"post\", \"post\", \"post\", \"post\", \"posting\", \"pot\", \"pot\", \"pot\", \"pot\", \"pot\", \"potential\", \"pre\", \"pre\", \"pre\", \"pre\", \"pre\", \"pre\", \"pre\", \"pretty\", \"prevent\", \"prevent\", \"print\", \"print\", \"print\", \"print\", \"print\", \"print\", \"print\", \"print\", \"print\", \"printer\", \"printer\", \"privileged_intende\", \"privileged_intende\", \"pro\", \"pro\", \"problem\", \"problem\", \"problem\", \"problem\", \"problem\", \"problem\", \"problem\", \"problem\", \"problem\", \"problem\", \"problem_continues\", \"problematic\", \"process\", \"process\", \"process\", \"process\", \"process\", \"process\", \"process\", \"process\", \"process\", \"process\", \"project\", \"project\", \"project\", \"properly\", \"properly\", \"properly\", \"properly\", \"properly\", \"properly\", \"properly\", \"properly\", \"protection\", \"provide\", \"provide\", \"provide\", \"provide\", \"provide\", \"provide\", \"provide\", \"provide\", \"provide\", \"provide\", \"provider\", \"puma\", \"purchase\", \"purchase\", \"put\", \"put\", \"put\", \"queue\", \"queue\", \"queue\", \"queue\", \"queue\", \"queue\", \"quiz\", \"quota\", \"random\", \"rare\", \"rd_party\", \"reactivate\", \"reactivate\", \"reassign\", \"reassign\", \"reassign\", \"reassign\", \"reassign\", \"rebuild\", \"receipt\", \"receipt\", \"receipt\", \"receipt\", \"receipt\", \"receive\", \"receive\", \"receive\", \"receive\", \"receive\", \"receive\", \"receive\", \"receive\", \"receive\", \"receive\", \"receiving\", \"receptionist\", \"recipient\", \"record_otherwise\", \"recovery\", \"recovery\", \"recreate\", \"recur\", \"redirection\", \"reduce\", \"reduce\", \"reduce\", \"reference\", \"reference\", \"reference\", \"reference\", \"reference\", \"reference\", \"reference\", \"referral\", \"referral\", \"regard\", \"regard\", \"regard\", \"regard\", \"regard\", \"regard\", \"regard\", \"regard\", \"regard\", \"regard\", \"register\", \"register\", \"register\", \"register\", \"register\", \"register\", \"register\", \"register\", \"register\", \"register\", \"registered\", \"reimbursement\", \"reject\", \"reject\", \"reject\", \"rejection\", \"rejection\", \"remotely\", \"remotely\", \"remotely\", \"renew\", \"repair\", \"repeat\", \"replicate\", \"replicate\", \"report\", \"report\", \"report\", \"report\", \"report\", \"report\", \"report\", \"report\", \"repository\", \"repository\", \"repository\", \"reproduce\", \"request\", \"request\", \"request\", \"request\", \"request\", \"request\", \"request\", \"request\", \"request\", \"request\", \"require\", \"require\", \"require\", \"require\", \"require\", \"require\", \"require\", \"require\", \"require\", \"require\", \"requisition\", \"requisition\", \"requisition_implemente\", \"reset\", \"reset\", \"reset\", \"reset\", \"reset\", \"resolver_resolution\", \"resource\", \"resource\", \"resource\", \"resource\", \"resource\", \"resource\", \"restriction\", \"restriction\", \"resubmit\", \"result\", \"result\", \"result\", \"result\", \"result\", \"result\", \"resume\", \"return\", \"return\", \"return\", \"return\", \"return\", \"return\", \"return\", \"ribbon\", \"right\", \"right\", \"right\", \"right\", \"right\", \"right\", \"right\", \"right\", \"right\", \"roam\", \"row\", \"row\", \"run\", \"run\", \"run\", \"run\", \"run\", \"run\", \"run\", \"run\", \"sale\", \"sale\", \"save\", \"save\", \"save\", \"save\", \"save\", \"save\", \"scan\", \"scheme\", \"score\", \"score\", \"screen\", \"screen\", \"screen\", \"screen\", \"screen\", \"screen\", \"screen\", \"screen\", \"screen\", \"scroll\", \"search\", \"search\", \"search\", \"search\", \"search\", \"seat\", \"secondary\", \"section\", \"section\", \"seem\", \"seem\", \"seem\", \"seem\", \"seem\", \"seem\", \"seem\", \"seem\", \"seem\", \"select\", \"select\", \"select\", \"select\", \"select\", \"select\", \"select\", \"select\", \"select\", \"send\", \"senior\", \"senior\", \"senior\", \"senior\", \"senior\", \"senior\", \"senior\", \"senior\", \"senior\", \"senior\", \"server\", \"server\", \"server\", \"server\", \"server\", \"server\", \"server\", \"server\", \"server\", \"server\", \"set\", \"set\", \"set\", \"set\", \"set\", \"set\", \"set\", \"set\", \"set\", \"set\", \"setting\", \"setup\", \"setup\", \"setup\", \"setup\", \"setup\", \"setup\", \"setup\", \"several\", \"several\", \"several\", \"several\", \"severity\", \"share\", \"share\", \"share\", \"share\", \"share\", \"share\", \"share\", \"share\", \"sheet\", \"sheet\", \"sheet\", \"sheet\", \"sheet\", \"sheet\", \"sheet\", \"sheet\", \"sick\", \"sign\", \"sign\", \"sign\", \"sign\", \"signing\", \"site\", \"site\", \"site\", \"site\", \"site\", \"site\", \"site\", \"site\", \"site\", \"situation\", \"situation\", \"size\", \"size\", \"size\", \"size_maximum\", \"skip\", \"slave\", \"slave\", \"slow\", \"slow\", \"slow\", \"slowly\", \"small\", \"snow\", \"snow\", \"snow\", \"snow\", \"socket\", \"software\", \"software\", \"software\", \"software\", \"software\", \"software\", \"sonar\", \"sonar\", \"sonar\", \"source\", \"source\", \"source\", \"source\", \"source\", \"source\", \"sow\", \"space\", \"space\", \"special\", \"special\", \"special\", \"special\", \"special\", \"special\", \"specialist\", \"specialist\", \"specialist\", \"specialist\", \"specialist\", \"specialist\", \"specialist\", \"specialist\", \"specialist\", \"specific\", \"sprint\", \"start\", \"start\", \"start\", \"start\", \"start\", \"start\", \"start\", \"start\", \"start\", \"starter\", \"starter\", \"stash\", \"station\", \"status\", \"status\", \"status\", \"status\", \"status\", \"status\", \"status\", \"status\", \"status\", \"step\", \"step\", \"step\", \"step\", \"step\", \"step\", \"step\", \"step\", \"step\", \"still\", \"still\", \"still\", \"still\", \"strange\", \"submit\", \"submit\", \"submit\", \"submit\", \"submit\", \"submitting\", \"subscription\", \"subscription\", \"subscription\", \"subscription\", \"subscription\", \"subscription\", \"subsidiaries_separate\", \"subsidiaries_separate\", \"succeed\", \"success\", \"success\", \"suddenly\", \"suite\", \"summary\", \"summary\", \"summary\", \"summary\", \"summary\", \"summary\", \"supplier\", \"supplier\", \"supplier\", \"supplier\", \"surname\", \"survey\", \"suspect\", \"sync\", \"sync\", \"take_consideration\", \"tape\", \"tape\", \"task\", \"task\", \"task\", \"task\", \"task\", \"task\", \"task\", \"task\", \"task\", \"technician\", \"technician\", \"telephone\", \"telephone\", \"telephone\", \"temp\", \"termination\", \"test\", \"test\", \"test\", \"test\", \"test\", \"test\", \"test\", \"test\", \"test\", \"tester\", \"tester\", \"tester\", \"tester\", \"tester\", \"tester\", \"testing\", \"testing\", \"testing\", \"testing\", \"testing\", \"testing\", \"thank\", \"thank\", \"thank\", \"thank\", \"thank\", \"thank\", \"thank\", \"thank\", \"thank\", \"thank\", \"throw\", \"tick\", \"ticket\", \"ticket\", \"ticket\", \"ticket\", \"ticket\", \"ticket\", \"ticket\", \"ticket\", \"ticket\", \"ticket\", \"timecard\", \"today\", \"today\", \"today\", \"today\", \"today\", \"today\", \"today\", \"today\", \"today\", \"today\", \"together_example\", \"together_example\", \"token\", \"tool_collaboration\", \"tool_collaboration\", \"tool_decision\", \"tool_decision\", \"total\", \"total\", \"total\", \"total\", \"totally\", \"tower\", \"tower\", \"tower\", \"tower\", \"tower\", \"tower\", \"tower\", \"trace\", \"track_progress\", \"traffic\", \"training_material\", \"transfer\", \"transfer\", \"transfer\", \"transfer\", \"tray\", \"true\", \"try\", \"try\", \"try\", \"try\", \"try\", \"try\", \"try\", \"try\", \"try\", \"tutorial\", \"tv\", \"tv\", \"tv\", \"ulterior\", \"unavailable\", \"unavailable\", \"unclear\", \"undeliverable\", \"unlawful\", \"unusable\", \"update\", \"update\", \"update\", \"update\", \"update\", \"update\", \"update\", \"update\", \"update\", \"update\", \"updated\", \"upgrade\", \"upgrade\", \"upgrade\", \"upgrade\", \"upgrade\", \"upgrade\", \"uploaded\", \"uploaded\", \"urgent\", \"urgent\", \"urgent\", \"urgent\", \"urgent\", \"urgent\", \"urgent\", \"urgent\", \"urgent\", \"use\", \"use\", \"use\", \"user\", \"user\", \"user\", \"user\", \"user\", \"user\", \"user\", \"user\", \"user\", \"user\", \"vacation\", \"vacation\", \"vacation\", \"vacation\", \"validation\", \"variable\", \"verification\", \"video\", \"video\", \"virtual\", \"virtual_machine\", \"visitor\", \"voice\", \"voice\", \"voice\", \"voice\", \"want\", \"want\", \"want\", \"want\", \"want\", \"want\", \"want\", \"want\", \"want\", \"want\", \"warn\", \"warning\", \"warranty\", \"water\", \"week\", \"week\", \"week\", \"week\", \"week\", \"week\", \"week\", \"week\", \"weird\", \"welcome\", \"whenever\", \"whose_registere\", \"whose_registere\", \"whose_registered\", \"wireless\", \"wireless\", \"wireless\", \"wireless\", \"wireless\", \"wireless\", \"withdraw\", \"withdraw\", \"withdraw\", \"wonderful\", \"work\", \"work\", \"work\", \"work\", \"work\", \"work\", \"work\", \"work\", \"work\", \"work\", \"works_fine\", \"would\", \"would\", \"would\", \"would\", \"would\", \"would\", \"would\", \"would\", \"would\", \"would\", \"write\", \"write\", \"write\", \"write\", \"write\", \"write\", \"write\", \"write\", \"write\", \"write\", \"wrongly\", \"yellow\"]}, \"R\": 30, \"lambda.step\": 0.01, \"plot.opts\": {\"xlab\": \"PC1\", \"ylab\": \"PC2\"}, \"topic.order\": [9, 1, 3, 8, 4, 6, 7, 5, 2, 10]};\n",
              "\n",
              "function LDAvis_load_lib(url, callback){\n",
              "  var s = document.createElement('script');\n",
              "  s.src = url;\n",
              "  s.async = true;\n",
              "  s.onreadystatechange = s.onload = callback;\n",
              "  s.onerror = function(){console.warn(\"failed to load library \" + url);};\n",
              "  document.getElementsByTagName(\"head\")[0].appendChild(s);\n",
              "}\n",
              "\n",
              "if(typeof(LDAvis) !== \"undefined\"){\n",
              "   // already loaded: just create the visualization\n",
              "   !function(LDAvis){\n",
              "       new LDAvis(\"#\" + \"ldavis_el1281405094016881289982407972\", ldavis_el1281405094016881289982407972_data);\n",
              "   }(LDAvis);\n",
              "}else if(typeof define === \"function\" && define.amd){\n",
              "   // require.js is available: use it to load d3/LDAvis\n",
              "   require.config({paths: {d3: \"https://cdnjs.cloudflare.com/ajax/libs/d3/3.5.5/d3.min\"}});\n",
              "   require([\"d3\"], function(d3){\n",
              "      window.d3 = d3;\n",
              "      LDAvis_load_lib(\"https://cdn.rawgit.com/bmabey/pyLDAvis/files/ldavis.v1.0.0.js\", function(){\n",
              "        new LDAvis(\"#\" + \"ldavis_el1281405094016881289982407972\", ldavis_el1281405094016881289982407972_data);\n",
              "      });\n",
              "    });\n",
              "}else{\n",
              "    // require.js not available: dynamically load d3 & LDAvis\n",
              "    LDAvis_load_lib(\"https://cdnjs.cloudflare.com/ajax/libs/d3/3.5.5/d3.min.js\", function(){\n",
              "         LDAvis_load_lib(\"https://cdn.rawgit.com/bmabey/pyLDAvis/files/ldavis.v1.0.0.js\", function(){\n",
              "                 new LDAvis(\"#\" + \"ldavis_el1281405094016881289982407972\", ldavis_el1281405094016881289982407972_data);\n",
              "            })\n",
              "         });\n",
              "}\n",
              "</script>"
            ],
            "text/plain": [
              "PreparedData(topic_coordinates=              x         y  topics  cluster       Freq\n",
              "topic                                                \n",
              "8      0.122570 -0.009639       1        1  19.567030\n",
              "0      0.148047 -0.086219       2        1  14.225424\n",
              "2      0.007426  0.072603       3        1  12.421255\n",
              "7     -0.017431 -0.012592       4        1   9.379757\n",
              "3      0.108053 -0.090982       5        1   9.240642\n",
              "5      0.073663  0.019129       6        1   8.556944\n",
              "6     -0.039139  0.171631       7        1   8.516135\n",
              "4      0.062826 -0.121428       8        1   6.853247\n",
              "1     -0.112200  0.233009       9        1   6.190266\n",
              "9     -0.353815 -0.175512      10        1   5.049306, topic_info=          Term          Freq         Total Category  logprob  loglift\n",
              "403       send  27050.000000  27050.000000  Default  30.0000  30.0000\n",
              "129     report   7091.000000   7091.000000  Default  29.0000  29.0000\n",
              "365       form   5829.000000   5829.000000  Default  28.0000  28.0000\n",
              "748   approval   5469.000000   5469.000000  Default  27.0000  27.0000\n",
              "103      error   9032.000000   9032.000000  Default  26.0000  26.0000\n",
              "...        ...           ...           ...      ...      ...      ...\n",
              "6        thank    928.454956  35682.605469  Topic10  -4.1569  -0.6630\n",
              "246   wireless    342.637695    645.329712  Topic10  -5.1537   2.3528\n",
              "22        user    459.722900   2944.497314  Topic10  -4.8598   1.1288\n",
              "262     number    431.080200   4938.458984  Topic10  -4.9241   0.5474\n",
              "8069     could    376.497528  10151.221680  Topic10  -5.0595  -0.3085\n",
              "\n",
              "[752 rows x 6 columns], token_table=      Topic      Freq     Term\n",
              "term                          \n",
              "1071      9  0.981812   abroad\n",
              "130       5  0.698790  absence\n",
              "130       8  0.298304  absence\n",
              "130       9  0.001648  absence\n",
              "817       1  0.095096   access\n",
              "...     ...       ...      ...\n",
              "380       8  0.037694    write\n",
              "380       9  0.006389    write\n",
              "380      10  0.000639    write\n",
              "3366      5  0.962205  wrongly\n",
              "1724      6  0.995230   yellow\n",
              "\n",
              "[2280 rows x 3 columns], R=30, lambda_step=0.01, plot_opts={'xlab': 'PC1', 'ylab': 'PC2'}, topic_order=[9, 1, 3, 8, 4, 6, 7, 5, 2, 10])"
            ]
          },
          "metadata": {
            "tags": []
          },
          "execution_count": 25
        }
      ]
    },
    {
      "cell_type": "markdown",
      "metadata": {
        "id": "c5XEDo8aql9q",
        "colab_type": "text"
      },
      "source": [
        "##### **pytextrank**\n",
        "\n",
        "To extract the key phrases in the ticket description"
      ]
    },
    {
      "cell_type": "code",
      "metadata": {
        "id": "Yg8EsRxwV5Qs",
        "colab_type": "code",
        "outputId": "99973b51-ca4f-49fc-cdea-f74f2fa0a909",
        "colab": {
          "base_uri": "https://localhost:8080/",
          "height": 513
        }
      },
      "source": [
        "!pip install pytextrank\n",
        "import pytextrank\n",
        "import spacy"
      ],
      "execution_count": 0,
      "outputs": [
        {
          "output_type": "stream",
          "text": [
            "Collecting pytextrank\n",
            "  Downloading https://files.pythonhosted.org/packages/9d/6d/8895314aae96fd6223a8b728f6b1f75eea2865590449a6d53f2c494a9b5c/pytextrank-2.0.1-py3-none-any.whl\n",
            "Requirement already satisfied: networkx in /usr/local/lib/python3.6/dist-packages (from pytextrank) (2.4)\n",
            "Requirement already satisfied: coverage in /usr/local/lib/python3.6/dist-packages (from pytextrank) (3.7.1)\n",
            "Requirement already satisfied: spacy in /usr/local/lib/python3.6/dist-packages (from pytextrank) (2.2.4)\n",
            "Requirement already satisfied: graphviz in /usr/local/lib/python3.6/dist-packages (from pytextrank) (0.10.1)\n",
            "Requirement already satisfied: decorator>=4.3.0 in /usr/local/lib/python3.6/dist-packages (from networkx->pytextrank) (4.4.2)\n",
            "Requirement already satisfied: blis<0.5.0,>=0.4.0 in /usr/local/lib/python3.6/dist-packages (from spacy->pytextrank) (0.4.1)\n",
            "Requirement already satisfied: plac<1.2.0,>=0.9.6 in /usr/local/lib/python3.6/dist-packages (from spacy->pytextrank) (1.1.3)\n",
            "Requirement already satisfied: catalogue<1.1.0,>=0.0.7 in /usr/local/lib/python3.6/dist-packages (from spacy->pytextrank) (1.0.0)\n",
            "Requirement already satisfied: srsly<1.1.0,>=1.0.2 in /usr/local/lib/python3.6/dist-packages (from spacy->pytextrank) (1.0.2)\n",
            "Requirement already satisfied: tqdm<5.0.0,>=4.38.0 in /usr/local/lib/python3.6/dist-packages (from spacy->pytextrank) (4.41.1)\n",
            "Requirement already satisfied: wasabi<1.1.0,>=0.4.0 in /usr/local/lib/python3.6/dist-packages (from spacy->pytextrank) (0.6.0)\n",
            "Requirement already satisfied: cymem<2.1.0,>=2.0.2 in /usr/local/lib/python3.6/dist-packages (from spacy->pytextrank) (2.0.3)\n",
            "Requirement already satisfied: preshed<3.1.0,>=3.0.2 in /usr/local/lib/python3.6/dist-packages (from spacy->pytextrank) (3.0.2)\n",
            "Requirement already satisfied: requests<3.0.0,>=2.13.0 in /usr/local/lib/python3.6/dist-packages (from spacy->pytextrank) (2.23.0)\n",
            "Requirement already satisfied: thinc==7.4.0 in /usr/local/lib/python3.6/dist-packages (from spacy->pytextrank) (7.4.0)\n",
            "Requirement already satisfied: murmurhash<1.1.0,>=0.28.0 in /usr/local/lib/python3.6/dist-packages (from spacy->pytextrank) (1.0.2)\n",
            "Requirement already satisfied: numpy>=1.15.0 in /usr/local/lib/python3.6/dist-packages (from spacy->pytextrank) (1.18.4)\n",
            "Requirement already satisfied: setuptools in /usr/local/lib/python3.6/dist-packages (from spacy->pytextrank) (46.3.0)\n",
            "Requirement already satisfied: importlib-metadata>=0.20; python_version < \"3.8\" in /usr/local/lib/python3.6/dist-packages (from catalogue<1.1.0,>=0.0.7->spacy->pytextrank) (1.6.0)\n",
            "Requirement already satisfied: certifi>=2017.4.17 in /usr/local/lib/python3.6/dist-packages (from requests<3.0.0,>=2.13.0->spacy->pytextrank) (2020.4.5.1)\n",
            "Requirement already satisfied: chardet<4,>=3.0.2 in /usr/local/lib/python3.6/dist-packages (from requests<3.0.0,>=2.13.0->spacy->pytextrank) (3.0.4)\n",
            "Requirement already satisfied: urllib3!=1.25.0,!=1.25.1,<1.26,>=1.21.1 in /usr/local/lib/python3.6/dist-packages (from requests<3.0.0,>=2.13.0->spacy->pytextrank) (1.24.3)\n",
            "Requirement already satisfied: idna<3,>=2.5 in /usr/local/lib/python3.6/dist-packages (from requests<3.0.0,>=2.13.0->spacy->pytextrank) (2.9)\n",
            "Requirement already satisfied: zipp>=0.5 in /usr/local/lib/python3.6/dist-packages (from importlib-metadata>=0.20; python_version < \"3.8\"->catalogue<1.1.0,>=0.0.7->spacy->pytextrank) (3.1.0)\n",
            "Installing collected packages: pytextrank\n",
            "Successfully installed pytextrank-2.0.1\n"
          ],
          "name": "stdout"
        }
      ]
    },
    {
      "cell_type": "code",
      "metadata": {
        "id": "YhrKsDjUjq7x",
        "colab_type": "code",
        "outputId": "6edc04bf-c975-4533-caeb-dcaea714ab30",
        "colab": {
          "base_uri": "https://localhost:8080/",
          "height": 68
        }
      },
      "source": [
        "# text = tickets.loc[0, 'description']\n",
        "nlp = spacy.load(\"en_core_web_sm\")\n",
        "\n",
        "# add PyTextRank into the spaCy pipeline\n",
        "tr = pytextrank.TextRank(logger=None)\n",
        "nlp.add_pipe(tr.PipelineComponent, name=\"textrank\", last=True)\n",
        "\n",
        "doc = nlp(documents[0])\n",
        "\n",
        "for phrase in doc._.phrases[:5]:\n",
        "    print(\"{:.4f} {:5d}  {}\".format(phrase.rank, phrase.count, phrase.text))"
      ],
      "execution_count": 34,
      "outputs": [
        {
          "output_type": "stream",
          "text": [
            "0.1756     1  permission\n",
            "0.1742     1  requisitions\n",
            "0.1416     1  recruiter\n"
          ],
          "name": "stdout"
        }
      ]
    },
    {
      "cell_type": "markdown",
      "metadata": {
        "id": "N3sBozbTlIv_",
        "colab_type": "text"
      },
      "source": [
        "#### **Explain PyTextRank: the algorithm**"
      ]
    },
    {
      "cell_type": "code",
      "metadata": {
        "id": "U00tYZNZlLAR",
        "colab_type": "code",
        "colab": {}
      },
      "source": [
        "import warnings\n",
        "warnings.filterwarnings(\"ignore\")"
      ],
      "execution_count": 0,
      "outputs": []
    },
    {
      "cell_type": "code",
      "metadata": {
        "id": "RzHPvWyElNZ0",
        "colab_type": "code",
        "colab": {}
      },
      "source": [
        "import spacy\n",
        "nlp = spacy.load(\"en_core_web_sm\")"
      ],
      "execution_count": 0,
      "outputs": []
    },
    {
      "cell_type": "code",
      "metadata": {
        "id": "wUiFKymIlQeN",
        "colab_type": "code",
        "colab": {}
      },
      "source": [
        "doc = nlp(documents[0])"
      ],
      "execution_count": 0,
      "outputs": []
    },
    {
      "cell_type": "markdown",
      "metadata": {
        "id": "hDgCq8CRlbPV",
        "colab_type": "text"
      },
      "source": [
        "Use NetworkX to manage an in-memory graph"
      ]
    },
    {
      "cell_type": "code",
      "metadata": {
        "id": "uenHQaK4lAyV",
        "colab_type": "code",
        "colab": {}
      },
      "source": [
        "import networkx as nx\n",
        "\n",
        "def increment_edge (graph, node0, node1):\n",
        "    print(\"link {} {}\".format(node0, node1))\n",
        "    \n",
        "    if graph.has_edge(node0, node1):\n",
        "        graph[node0][node1][\"weight\"] += 1.0\n",
        "    else:\n",
        "        graph.add_edge(node0, node1, weight=1.0)"
      ],
      "execution_count": 0,
      "outputs": []
    },
    {
      "cell_type": "markdown",
      "metadata": {
        "id": "LbTXfXN-lc6X",
        "colab_type": "text"
      },
      "source": [
        "Construct a graph, sentence by sentence, based on the spaCy part-of-speech tags tags"
      ]
    },
    {
      "cell_type": "code",
      "metadata": {
        "id": "QwSCJU5UlY3E",
        "colab_type": "code",
        "colab": {}
      },
      "source": [
        "POS_KEPT = [\"ADJ\", \"NOUN\", \"PROPN\", \"VERB\"]\n",
        "\n",
        "def link_sentence (doc, sent, lemma_graph, seen_lemma):\n",
        "    visited_tokens = []\n",
        "    visited_nodes = []\n",
        "\n",
        "    for i in range(sent.start, sent.end):\n",
        "        token = doc[i]\n",
        "\n",
        "        if token.pos_ in POS_KEPT:\n",
        "            key = (token.lemma_, token.pos_)\n",
        "\n",
        "            if key not in seen_lemma:\n",
        "                seen_lemma[key] = set([token.i])\n",
        "            else:\n",
        "                seen_lemma[key].add(token.i)\n",
        "\n",
        "            node_id = list(seen_lemma.keys()).index(key)\n",
        "\n",
        "            if not node_id in lemma_graph:\n",
        "                lemma_graph.add_node(node_id)\n",
        "\n",
        "            print(\"visit {} {}\".format(visited_tokens, visited_nodes))\n",
        "            print(\"range {}\".format(list(range(len(visited_tokens) - 1, -1, -1))))\n",
        "            \n",
        "            for prev_token in range(len(visited_tokens) - 1, -1, -1):\n",
        "                print(\"prev_tok {} {}\".format(prev_token, (token.i - visited_tokens[prev_token])))\n",
        "                \n",
        "                if (token.i - visited_tokens[prev_token]) <= 3:\n",
        "                    increment_edge(lemma_graph, node_id, visited_nodes[prev_token])\n",
        "                else:\n",
        "                    break\n",
        "\n",
        "            print(\" -- {} {} {} {} {} {}\".format(token.i, token.text, token.lemma_, token.pos_, visited_tokens, visited_nodes))\n",
        "\n",
        "            visited_tokens.append(token.i)\n",
        "            visited_nodes.append(node_id)"
      ],
      "execution_count": 0,
      "outputs": []
    },
    {
      "cell_type": "code",
      "metadata": {
        "id": "040ok0XflfR5",
        "colab_type": "code",
        "outputId": "2c8b5ede-0494-45b2-8498-88636af01423",
        "colab": {
          "base_uri": "https://localhost:8080/",
          "height": 1000
        }
      },
      "source": [
        "lemma_graph = nx.Graph()\n",
        "seen_lemma = {}\n",
        "\n",
        "for sent in doc.sents:\n",
        "    link_sentence(doc, sent, lemma_graph, seen_lemma)"
      ],
      "execution_count": 41,
      "outputs": [
        {
          "output_type": "stream",
          "text": [
            "visit [] []\n",
            "range []\n",
            " -- 2 recruiter recruiter NOUN [] []\n",
            "visit [2] [0]\n",
            "range [0]\n",
            "prev_tok 0 1\n",
            "link 1 0\n",
            " -- 3 lead lead NOUN [2] [0]\n",
            "visit [2, 3] [0, 1]\n",
            "range [1, 0]\n",
            "prev_tok 1 1\n",
            "link 2 1\n",
            "prev_tok 0 2\n",
            "link 2 0\n",
            " -- 4 permission permission NOUN [2, 3] [0, 1]\n",
            "visit [2, 3, 4] [0, 1, 2]\n",
            "range [2, 1, 0]\n",
            "prev_tok 2 1\n",
            "link 3 2\n",
            "prev_tok 1 2\n",
            "link 3 1\n",
            "prev_tok 0 3\n",
            "link 3 0\n",
            " -- 5 approve approve VERB [2, 3, 4] [0, 1, 2]\n",
            "visit [2, 3, 4, 5] [0, 1, 2, 3]\n",
            "range [3, 2, 1, 0]\n",
            "prev_tok 3 1\n",
            "link 4 3\n",
            "prev_tok 2 2\n",
            "link 4 2\n",
            "prev_tok 1 3\n",
            "link 4 1\n",
            "prev_tok 0 4\n",
            " -- 6 requisitions requisition NOUN [2, 3, 4, 5] [0, 1, 2, 3]\n",
            "visit [2, 3, 4, 5, 6] [0, 1, 2, 3, 4]\n",
            "range [4, 3, 2, 1, 0]\n",
            "prev_tok 4 1\n",
            "link 5 4\n",
            "prev_tok 3 2\n",
            "link 5 3\n",
            "prev_tok 2 3\n",
            "link 5 2\n",
            "prev_tok 1 4\n",
            " -- 7 makes make VERB [2, 3, 4, 5, 6] [0, 1, 2, 3, 4]\n",
            "visit [2, 3, 4, 5, 6, 7] [0, 1, 2, 3, 4, 5]\n",
            "range [5, 4, 3, 2, 1, 0]\n",
            "prev_tok 5 2\n",
            "link 5 5\n",
            "prev_tok 4 3\n",
            "link 5 4\n",
            "prev_tok 3 4\n",
            " -- 9 make make VERB [2, 3, 4, 5, 6, 7] [0, 1, 2, 3, 4, 5]\n",
            "visit [2, 3, 4, 5, 6, 7, 9] [0, 1, 2, 3, 4, 5, 5]\n",
            "range [6, 5, 4, 3, 2, 1, 0]\n",
            "prev_tok 6 1\n",
            "link 6 5\n",
            "prev_tok 5 3\n",
            "link 6 5\n",
            "prev_tok 4 4\n",
            " -- 10 thanks thank NOUN [2, 3, 4, 5, 6, 7, 9] [0, 1, 2, 3, 4, 5, 5]\n",
            "visit [2, 3, 4, 5, 6, 7, 9, 10] [0, 1, 2, 3, 4, 5, 5, 6]\n",
            "range [7, 6, 5, 4, 3, 2, 1, 0]\n",
            "prev_tok 7 1\n",
            "link 7 6\n",
            "prev_tok 6 2\n",
            "link 7 5\n",
            "prev_tok 5 4\n",
            " -- 11 recruiter recruiter VERB [2, 3, 4, 5, 6, 7, 9, 10] [0, 1, 2, 3, 4, 5, 5, 6]\n"
          ],
          "name": "stdout"
        }
      ]
    },
    {
      "cell_type": "markdown",
      "metadata": {
        "id": "g4VvwdAolpkC",
        "colab_type": "text"
      },
      "source": [
        "Collect a dictionary of the labels"
      ]
    },
    {
      "cell_type": "code",
      "metadata": {
        "id": "kCcUrgkUlkid",
        "colab_type": "code",
        "colab": {}
      },
      "source": [
        "labels = {}\n",
        "keys = list(seen_lemma.keys())\n",
        "\n",
        "for i in range(len(seen_lemma)):\n",
        "    labels[i] = keys[i][0].lower()"
      ],
      "execution_count": 0,
      "outputs": []
    },
    {
      "cell_type": "markdown",
      "metadata": {
        "id": "21Pl20jzlyrH",
        "colab_type": "text"
      },
      "source": [
        "Use matplotlib to visualize the lemma graph"
      ]
    },
    {
      "cell_type": "code",
      "metadata": {
        "id": "kkwT3vo6lv2u",
        "colab_type": "code",
        "outputId": "84f61574-cf0a-421e-dc00-70979fa7405a",
        "colab": {
          "base_uri": "https://localhost:8080/",
          "height": 887
        }
      },
      "source": [
        "%matplotlib inline\n",
        "import matplotlib.pyplot as plt\n",
        "\n",
        "fig = plt.figure(figsize=(20, 10))\n",
        "pos = nx.spring_layout(lemma_graph)  # pos[node] = position\n",
        "\n",
        "nx.draw(lemma_graph, pos=pos, with_labels=False, font_weight=\"bold\", node_color='b', alpha=0.1)\n",
        "nx.draw_networkx_labels(lemma_graph, pos, labels)"
      ],
      "execution_count": 43,
      "outputs": [
        {
          "output_type": "execute_result",
          "data": {
            "text/plain": [
              "{0: Text(0.9150546287267006, 0.056530723524730576, 'recruiter'),\n",
              " 1: Text(0.6583681606598226, -0.3405076529479405, 'lead'),\n",
              " 2: Text(0.3417795155657946, 0.1584220988099277, 'permission'),\n",
              " 3: Text(0.34122762367032133, -0.1457242844612758, 'approve'),\n",
              " 4: Text(0.010854971091552132, -0.25340591370335536, 'requisition'),\n",
              " 5: Text(-0.35908032812078644, 0.05834328714248461, 'make'),\n",
              " 6: Text(-0.908204571593405, 0.024056839372323568, 'thank'),\n",
              " 7: Text(-1.0, 0.442284902263105, 'recruiter')}"
            ]
          },
          "metadata": {
            "tags": []
          },
          "execution_count": 43
        },
        {
          "output_type": "display_data",
          "data": {
            "image/png": "[encoded data removed]",
            "text/plain": [
              "<Figure size 1440x720 with 1 Axes>"
            ]
          },
          "metadata": {
            "tags": []
          }
        }
      ]
    },
    {
      "cell_type": "markdown",
      "metadata": {
        "id": "zrXuy8jymaV_",
        "colab_type": "text"
      },
      "source": [
        "Use PageRank – which is approximately [eigenvalue centrality](https://en.wikipedia.org/wiki/Eigenvector_centrality) – to calculate ranks for each of the nodes in the lemma graph\n",
        "\n",
        "![alt text](https://wikimedia.org/api/rest_v1/media/math/render/svg/97138b5e39ce8a24e0ee2e411d4c4d0a3513ec42)\n",
        "\n",
        "\n",
        "\n",
        "*   $a_{v,t}=1$ if vertex $v$ is linked to vertex $t$, and $a_{v,t}=0$ otherwise\n",
        "*   $M(v)$ is a set of the neighbors of $v$ and $\\lambda$  is a constant\n",
        "\n"
      ]
    },
    {
      "cell_type": "code",
      "metadata": {
        "id": "Hu3NfSHrl2J_",
        "colab_type": "code",
        "outputId": "1f9bc71e-2db6-4e5c-c4e7-e440778fa508",
        "colab": {
          "base_uri": "https://localhost:8080/",
          "height": 297
        }
      },
      "source": [
        "rank_df = pd.DataFrame(columns=['rank', 'label'])\n",
        "\n",
        "ranks = nx.pagerank(lemma_graph)\n",
        "for node_id, rank in sorted(ranks.items(), key=lambda x: x[1], reverse=True):\n",
        "    rank_df = rank_df.append(pd.Series([rank, labels[node_id]], index=rank_df.columns), ignore_index=True)\n",
        "\n",
        "rank_df[:10]"
      ],
      "execution_count": 44,
      "outputs": [
        {
          "output_type": "execute_result",
          "data": {
            "text/html": [
              "<div>\n",
              "<style scoped>\n",
              "    .dataframe tbody tr th:only-of-type {\n",
              "        vertical-align: middle;\n",
              "    }\n",
              "\n",
              "    .dataframe tbody tr th {\n",
              "        vertical-align: top;\n",
              "    }\n",
              "\n",
              "    .dataframe thead th {\n",
              "        text-align: right;\n",
              "    }\n",
              "</style>\n",
              "<table border=\"1\" class=\"dataframe\">\n",
              "  <thead>\n",
              "    <tr style=\"text-align: right;\">\n",
              "      <th></th>\n",
              "      <th>rank</th>\n",
              "      <th>label</th>\n",
              "    </tr>\n",
              "  </thead>\n",
              "  <tbody>\n",
              "    <tr>\n",
              "      <th>0</th>\n",
              "      <td>0.218122</td>\n",
              "      <td>make</td>\n",
              "    </tr>\n",
              "    <tr>\n",
              "      <th>1</th>\n",
              "      <td>0.138681</td>\n",
              "      <td>approve</td>\n",
              "    </tr>\n",
              "    <tr>\n",
              "      <th>2</th>\n",
              "      <td>0.138681</td>\n",
              "      <td>permission</td>\n",
              "    </tr>\n",
              "    <tr>\n",
              "      <th>3</th>\n",
              "      <td>0.136627</td>\n",
              "      <td>requisition</td>\n",
              "    </tr>\n",
              "    <tr>\n",
              "      <th>4</th>\n",
              "      <td>0.114706</td>\n",
              "      <td>lead</td>\n",
              "    </tr>\n",
              "    <tr>\n",
              "      <th>5</th>\n",
              "      <td>0.094272</td>\n",
              "      <td>thank</td>\n",
              "    </tr>\n",
              "    <tr>\n",
              "      <th>6</th>\n",
              "      <td>0.090276</td>\n",
              "      <td>recruiter</td>\n",
              "    </tr>\n",
              "    <tr>\n",
              "      <th>7</th>\n",
              "      <td>0.068636</td>\n",
              "      <td>recruiter</td>\n",
              "    </tr>\n",
              "  </tbody>\n",
              "</table>\n",
              "</div>"
            ],
            "text/plain": [
              "       rank        label\n",
              "0  0.218122         make\n",
              "1  0.138681      approve\n",
              "2  0.138681   permission\n",
              "3  0.136627  requisition\n",
              "4  0.114706         lead\n",
              "5  0.094272        thank\n",
              "6  0.090276    recruiter\n",
              "7  0.068636    recruiter"
            ]
          },
          "metadata": {
            "tags": []
          },
          "execution_count": 44
        }
      ]
    },
    {
      "cell_type": "markdown",
      "metadata": {
        "id": "sdoDq5BsmzYc",
        "colab_type": "text"
      },
      "source": [
        "Collect the top-ranked phrases from the lemma graph based on the noun chunks"
      ]
    },
    {
      "cell_type": "code",
      "metadata": {
        "id": "B7tQ6GGbl_jc",
        "colab_type": "code",
        "colab": {}
      },
      "source": [
        "import math\n",
        "\n",
        "def collect_phrases (chunk, phrases, counts):\n",
        "    chunk_len = chunk.end - chunk.start + 1\n",
        "    sq_sum_rank = 0.0\n",
        "    non_lemma = 0\n",
        "    compound_key = set([])\n",
        "\n",
        "    for i in range(chunk.start, chunk.end):\n",
        "        token = doc[i]\n",
        "        key = (token.lemma_, token.pos_)\n",
        "        \n",
        "        if key in seen_lemma:\n",
        "            node_id = list(seen_lemma.keys()).index(key)\n",
        "            rank = ranks[node_id]\n",
        "            sq_sum_rank += rank\n",
        "            compound_key.add(key)\n",
        "        \n",
        "        else:\n",
        "            non_lemma += 1\n",
        "    \n",
        "    # discount the ranks using a point estimate based on the number of non-lemma tokens within a phrase\n",
        "    non_lemma_discount = chunk_len / (chunk_len + (2.0 * non_lemma) + 1.0)\n",
        "\n",
        "    # use root mean square (RMS) to normalize the contributions of all the tokens\n",
        "    phrase_rank = math.sqrt(sq_sum_rank / (chunk_len + non_lemma))\n",
        "    phrase_rank *= non_lemma_discount\n",
        "\n",
        "    # remove spurious punctuation\n",
        "    phrase = chunk.text.lower().replace(\"'\", \"\")\n",
        "\n",
        "    # create a unique key for the the phrase based on its lemma components\n",
        "    compound_key = tuple(sorted(list(compound_key)))\n",
        "    \n",
        "    if not compound_key in phrases:\n",
        "        phrases[compound_key] = set([ (phrase, phrase_rank) ])\n",
        "        counts[compound_key] = 1\n",
        "    else:\n",
        "        phrases[compound_key].add( (phrase, phrase_rank) )\n",
        "        counts[compound_key] += 1\n",
        "\n",
        "    return [phrase_rank, chunk.text, counts[compound_key]]"
      ],
      "execution_count": 0,
      "outputs": []
    },
    {
      "cell_type": "code",
      "metadata": {
        "id": "lRiP-qF7m1Pj",
        "colab_type": "code",
        "outputId": "7dcd3033-5594-4140-877d-c433b0370398",
        "colab": {
          "base_uri": "https://localhost:8080/",
          "height": 142
        }
      },
      "source": [
        "phrases = {}\n",
        "counts = {}\n",
        "\n",
        "phrase_rank = pd.DataFrame(columns=['phrase_rank', 'chunk_text', 'counts'])\n",
        "for chunk in doc.noun_chunks:\n",
        "    \n",
        "    phrase_rank = phrase_rank.append(pd.Series(collect_phrases(chunk, phrases, counts), index=phrase_rank.columns), ignore_index=True)\n",
        "\n",
        "phrase_rank.sort_values(by='phrase_rank', ascending=False)[:10]"
      ],
      "execution_count": 46,
      "outputs": [
        {
          "output_type": "execute_result",
          "data": {
            "text/html": [
              "<div>\n",
              "<style scoped>\n",
              "    .dataframe tbody tr th:only-of-type {\n",
              "        vertical-align: middle;\n",
              "    }\n",
              "\n",
              "    .dataframe tbody tr th {\n",
              "        vertical-align: top;\n",
              "    }\n",
              "\n",
              "    .dataframe thead th {\n",
              "        text-align: right;\n",
              "    }\n",
              "</style>\n",
              "<table border=\"1\" class=\"dataframe\">\n",
              "  <thead>\n",
              "    <tr style=\"text-align: right;\">\n",
              "      <th></th>\n",
              "      <th>phrase_rank</th>\n",
              "      <th>chunk_text</th>\n",
              "      <th>counts</th>\n",
              "    </tr>\n",
              "  </thead>\n",
              "  <tbody>\n",
              "    <tr>\n",
              "      <th>1</th>\n",
              "      <td>0.175550</td>\n",
              "      <td>permission</td>\n",
              "      <td>1</td>\n",
              "    </tr>\n",
              "    <tr>\n",
              "      <th>2</th>\n",
              "      <td>0.174246</td>\n",
              "      <td>requisitions</td>\n",
              "      <td>1</td>\n",
              "    </tr>\n",
              "    <tr>\n",
              "      <th>0</th>\n",
              "      <td>0.141638</td>\n",
              "      <td>recruiter</td>\n",
              "      <td>1</td>\n",
              "    </tr>\n",
              "  </tbody>\n",
              "</table>\n",
              "</div>"
            ],
            "text/plain": [
              "   phrase_rank    chunk_text counts\n",
              "1     0.175550    permission      1\n",
              "2     0.174246  requisitions      1\n",
              "0     0.141638     recruiter      1"
            ]
          },
          "metadata": {
            "tags": []
          },
          "execution_count": 46
        }
      ]
    },
    {
      "cell_type": "markdown",
      "metadata": {
        "id": "J_oIjWcInHy8",
        "colab_type": "text"
      },
      "source": [
        "Find a minimum span for each phrase based on combinations of lemmas"
      ]
    },
    {
      "cell_type": "code",
      "metadata": {
        "id": "6kwGzKvlm9Sk",
        "colab_type": "code",
        "outputId": "e12b7ca6-8c82-41ee-91f2-0c297cc64e43",
        "colab": {
          "base_uri": "https://localhost:8080/",
          "height": 68
        }
      },
      "source": [
        "import operator\n",
        "\n",
        "min_phrases = {}\n",
        "\n",
        "for compound_key, rank_tuples in phrases.items():\n",
        "    l = list(rank_tuples)\n",
        "    l.sort(key=operator.itemgetter(1), reverse=True)\n",
        "    \n",
        "    phrase, rank = l[0]\n",
        "    count = counts[compound_key]\n",
        "    \n",
        "    min_phrases[phrase] = (rank, count)\n",
        "    \n",
        "min_phrases"
      ],
      "execution_count": 47,
      "outputs": [
        {
          "output_type": "execute_result",
          "data": {
            "text/plain": [
              "{'permission': (0.17555037929471423, 1),\n",
              " 'recruiter': (0.1416381454134179, 1),\n",
              " 'requisitions': (0.1742458175386728, 1)}"
            ]
          },
          "metadata": {
            "tags": []
          },
          "execution_count": 47
        }
      ]
    },
    {
      "cell_type": "code",
      "metadata": {
        "id": "5ZKsEAJAnKSJ",
        "colab_type": "code",
        "outputId": "e476f890-cb98-426d-8fc2-69828405066b",
        "colab": {
          "base_uri": "https://localhost:8080/",
          "height": 68
        }
      },
      "source": [
        "for phrase, (rank, count) in sorted(min_phrases.items(), key=lambda x: x[1][0], reverse=True):\n",
        "    print(phrase, count, rank)"
      ],
      "execution_count": 48,
      "outputs": [
        {
          "output_type": "stream",
          "text": [
            "permission 1 0.17555037929471423\n",
            "requisitions 1 0.1742458175386728\n",
            "recruiter 1 0.1416381454134179\n"
          ],
          "name": "stdout"
        }
      ]
    },
    {
      "cell_type": "code",
      "metadata": {
        "id": "Y5tZBFJXnSEj",
        "colab_type": "code",
        "colab": {}
      },
      "source": [
        ""
      ],
      "execution_count": 0,
      "outputs": []
    }
  ]
}